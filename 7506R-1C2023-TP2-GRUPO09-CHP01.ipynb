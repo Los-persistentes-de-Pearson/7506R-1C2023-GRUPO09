{
 "cells": [
  {
   "cell_type": "code",
   "execution_count": 1,
   "id": "ecf63b83",
   "metadata": {},
   "outputs": [
    {
     "name": "stderr",
     "output_type": "stream",
     "text": [
      "[nltk_data] Downloading package stopwords to /home/fabri/nltk_data...\n",
      "[nltk_data]   Package stopwords is already up-to-date!\n"
     ]
    }
   ],
   "source": [
    "try:\n",
    "  import google.colab\n",
    "  IN_COLAB = True\n",
    "except:\n",
    "  IN_COLAB = False\n",
    "import pandas as pd \n",
    "import numpy as np\n",
    "\n",
    "import seaborn as sns\n",
    "\n",
    "from matplotlib import pyplot as plt\n",
    "\n",
    "from collections import Counter\n",
    "\n",
    "import sklearn\n",
    "from sklearn.model_selection import train_test_split\n",
    "#import sklearn as sk\n",
    "\n",
    "\n",
    "#modelos y metricas\n",
    "import seaborn as sns\n",
    "from matplotlib import pyplot as plt\n",
    "from joblib import dump, load\n",
    "from os.path import exists\n",
    "from sklearn.model_selection import StratifiedKFold, KFold,RandomizedSearchCV, train_test_split, cross_validate\n",
    "from sklearn.metrics import confusion_matrix, classification_report , f1_score, make_scorer, precision_score, recall_score, accuracy_score,f1_score\n",
    "\n",
    "#Xval\n",
    "from sklearn.model_selection import train_test_split, RandomizedSearchCV, GridSearchCV, cross_val_score\n",
    "\n",
    "#vectorizacion\n",
    "from sklearn.feature_extraction.text import CountVectorizer\n",
    "from sklearn.feature_extraction.text import TfidfVectorizer\n",
    "from sklearn.ensemble import VotingClassifier\n",
    "from sklearn.pipeline import make_pipeline\n",
    "from sklearn.model_selection import train_test_split\n",
    "from sklearn.metrics import precision_score, recall_score, accuracy_score,f1_score\n",
    "\n",
    "from joblib import dump, load\n",
    "\n",
    "from os.path import exists\n",
    "from os import environ\n",
    "\n",
    "import string\n",
    "\n",
    "import nltk\n",
    "from sklearn.pipeline import Pipeline\n",
    "\n",
    "import sklearn ### ESTA NO SE BORRA ???? #TODO\n",
    "from sklearn.model_selection import train_test_split\n",
    "from sklearn.naive_bayes import MultinomialNB\n",
    "\n",
    "from os.path import exists\n",
    "environ['TF_CPP_MIN_LOG_LEVEL'] = '3' \n",
    "\n",
    "if IN_COLAB == True:\n",
    "    !pip install nltk\n",
    "\n",
    "import nltk\n",
    "nltk.download('stopwords')\n",
    "stopwords_es = nltk.corpus.stopwords.words('spanish')   \n",
    "    \n",
    "import re\n",
    "from unicodedata import normalize\n",
    "\n",
    "import tensorflow as tfr\n",
    "\n",
    "from tensorflow import keras\n",
    "from keras.preprocessing.text import one_hot, Tokenizer\n",
    "from keras.models import Sequential\n",
    "from keras.layers.core import Activation, Dropout, Dense, SpatialDropout1D\n",
    "from keras.layers import Flatten, GlobalMaxPooling1D, Embedding, Conv1D, LSTM, TextVectorization\n",
    "from keras_preprocessing.sequence import pad_sequences\n",
    "from keras.wrappers.scikit_learn import KerasClassifier\n",
    "import string\n",
    "\n",
    "#Random forest\n",
    "from sklearn.ensemble import RandomForestClassifier "
   ]
  },
  {
   "cell_type": "markdown",
   "id": "d2ecb45f",
   "metadata": {},
   "source": [
    "Constantes"
   ]
  },
  {
   "cell_type": "code",
   "execution_count": 2,
   "id": "9af48c78",
   "metadata": {},
   "outputs": [],
   "source": [
    "# Constantes\n",
    "SEED=9\n",
    "JOBS=-2"
   ]
  },
  {
   "cell_type": "code",
   "execution_count": 3,
   "id": "ef7b8dc9",
   "metadata": {},
   "outputs": [],
   "source": [
    "reviewDfOriginal = pd.read_csv(\"./review_train.csv\")\n",
    "reviewDf = reviewDfOriginal.copy()"
   ]
  },
  {
   "cell_type": "code",
   "execution_count": 4,
   "id": "3d101f71",
   "metadata": {},
   "outputs": [
    {
     "data": {
      "text/html": [
       "<div>\n",
       "<style scoped>\n",
       "    .dataframe tbody tr th:only-of-type {\n",
       "        vertical-align: middle;\n",
       "    }\n",
       "\n",
       "    .dataframe tbody tr th {\n",
       "        vertical-align: top;\n",
       "    }\n",
       "\n",
       "    .dataframe thead th {\n",
       "        text-align: right;\n",
       "    }\n",
       "</style>\n",
       "<table border=\"1\" class=\"dataframe\">\n",
       "  <thead>\n",
       "    <tr style=\"text-align: right;\">\n",
       "      <th></th>\n",
       "      <th>ID</th>\n",
       "      <th>review_es</th>\n",
       "    </tr>\n",
       "  </thead>\n",
       "  <tbody>\n",
       "    <tr>\n",
       "      <th>0</th>\n",
       "      <td>60000</td>\n",
       "      <td>La mayor virtud de esta película es su existen...</td>\n",
       "    </tr>\n",
       "    <tr>\n",
       "      <th>1</th>\n",
       "      <td>60001</td>\n",
       "      <td>No soy un experto cinéfilo, pero pocas veces m...</td>\n",
       "    </tr>\n",
       "    <tr>\n",
       "      <th>2</th>\n",
       "      <td>60002</td>\n",
       "      <td>Si no eres un incondicional del humor estilo T...</td>\n",
       "    </tr>\n",
       "    <tr>\n",
       "      <th>3</th>\n",
       "      <td>60003</td>\n",
       "      <td>No sé qué está pasando, si la gente se deja ll...</td>\n",
       "    </tr>\n",
       "    <tr>\n",
       "      <th>4</th>\n",
       "      <td>60004</td>\n",
       "      <td>Pero cuando amanece,y me quedo solo,siento en ...</td>\n",
       "    </tr>\n",
       "    <tr>\n",
       "      <th>...</th>\n",
       "      <td>...</td>\n",
       "      <td>...</td>\n",
       "    </tr>\n",
       "    <tr>\n",
       "      <th>8594</th>\n",
       "      <td>68594</td>\n",
       "      <td>Buena no, lo siguiente. Por fin un film serio ...</td>\n",
       "    </tr>\n",
       "    <tr>\n",
       "      <th>8595</th>\n",
       "      <td>68595</td>\n",
       "      <td>Me esperaba mucho, pero que mucho, más.Guión m...</td>\n",
       "    </tr>\n",
       "    <tr>\n",
       "      <th>8596</th>\n",
       "      <td>68596</td>\n",
       "      <td>De mal cuerpo como sensación al finalizar, de ...</td>\n",
       "    </tr>\n",
       "    <tr>\n",
       "      <th>8597</th>\n",
       "      <td>68597</td>\n",
       "      <td>Los que han añadido comentarios os lo han dich...</td>\n",
       "    </tr>\n",
       "    <tr>\n",
       "      <th>8598</th>\n",
       "      <td>68598</td>\n",
       "      <td>Fui a ver esta película de cine con entusiasmo...</td>\n",
       "    </tr>\n",
       "  </tbody>\n",
       "</table>\n",
       "<p>8599 rows × 2 columns</p>\n",
       "</div>"
      ],
      "text/plain": [
       "         ID                                          review_es\n",
       "0     60000  La mayor virtud de esta película es su existen...\n",
       "1     60001  No soy un experto cinéfilo, pero pocas veces m...\n",
       "2     60002  Si no eres un incondicional del humor estilo T...\n",
       "3     60003  No sé qué está pasando, si la gente se deja ll...\n",
       "4     60004  Pero cuando amanece,y me quedo solo,siento en ...\n",
       "...     ...                                                ...\n",
       "8594  68594  Buena no, lo siguiente. Por fin un film serio ...\n",
       "8595  68595  Me esperaba mucho, pero que mucho, más.Guión m...\n",
       "8596  68596  De mal cuerpo como sensación al finalizar, de ...\n",
       "8597  68597  Los que han añadido comentarios os lo han dich...\n",
       "8598  68598  Fui a ver esta película de cine con entusiasmo...\n",
       "\n",
       "[8599 rows x 2 columns]"
      ]
     },
     "execution_count": 4,
     "metadata": {},
     "output_type": "execute_result"
    }
   ],
   "source": [
    "review_pruebasOriginal = pd.read_csv(\"./review_test.csv\")\n",
    "review_pruebas = review_pruebasOriginal.copy()\n",
    "review_pruebas"
   ]
  },
  {
   "cell_type": "code",
   "execution_count": 5,
   "id": "fc233235",
   "metadata": {},
   "outputs": [
    {
     "data": {
      "text/html": [
       "<div>\n",
       "<style scoped>\n",
       "    .dataframe tbody tr th:only-of-type {\n",
       "        vertical-align: middle;\n",
       "    }\n",
       "\n",
       "    .dataframe tbody tr th {\n",
       "        vertical-align: top;\n",
       "    }\n",
       "\n",
       "    .dataframe thead th {\n",
       "        text-align: right;\n",
       "    }\n",
       "</style>\n",
       "<table border=\"1\" class=\"dataframe\">\n",
       "  <thead>\n",
       "    <tr style=\"text-align: right;\">\n",
       "      <th></th>\n",
       "      <th>review_es</th>\n",
       "      <th>sentimiento</th>\n",
       "    </tr>\n",
       "  </thead>\n",
       "  <tbody>\n",
       "    <tr>\n",
       "      <th>0</th>\n",
       "      <td>Uno de los otros críticos ha mencionado que de...</td>\n",
       "      <td>positivo</td>\n",
       "    </tr>\n",
       "    <tr>\n",
       "      <th>1</th>\n",
       "      <td>Una pequeña pequeña producción.La técnica de f...</td>\n",
       "      <td>positivo</td>\n",
       "    </tr>\n",
       "    <tr>\n",
       "      <th>2</th>\n",
       "      <td>Pensé que esta era una manera maravillosa de p...</td>\n",
       "      <td>positivo</td>\n",
       "    </tr>\n",
       "    <tr>\n",
       "      <th>3</th>\n",
       "      <td>Básicamente, hay una familia donde un niño peq...</td>\n",
       "      <td>negativo</td>\n",
       "    </tr>\n",
       "    <tr>\n",
       "      <th>4</th>\n",
       "      <td>El \"amor en el tiempo\" de Petter Mattei es una...</td>\n",
       "      <td>positivo</td>\n",
       "    </tr>\n",
       "    <tr>\n",
       "      <th>...</th>\n",
       "      <td>...</td>\n",
       "      <td>...</td>\n",
       "    </tr>\n",
       "    <tr>\n",
       "      <th>49995</th>\n",
       "      <td>Pensé que esta película hizo un buen trabajo a...</td>\n",
       "      <td>positivo</td>\n",
       "    </tr>\n",
       "    <tr>\n",
       "      <th>49996</th>\n",
       "      <td>Mala parcela, mal diálogo, mala actuación, dir...</td>\n",
       "      <td>negativo</td>\n",
       "    </tr>\n",
       "    <tr>\n",
       "      <th>49997</th>\n",
       "      <td>Soy católica enseñada en escuelas primarias pa...</td>\n",
       "      <td>negativo</td>\n",
       "    </tr>\n",
       "    <tr>\n",
       "      <th>49998</th>\n",
       "      <td>Voy a tener que estar en desacuerdo con el com...</td>\n",
       "      <td>negativo</td>\n",
       "    </tr>\n",
       "    <tr>\n",
       "      <th>49999</th>\n",
       "      <td>Nadie espera que las películas de Star Trek se...</td>\n",
       "      <td>negativo</td>\n",
       "    </tr>\n",
       "  </tbody>\n",
       "</table>\n",
       "<p>50000 rows × 2 columns</p>\n",
       "</div>"
      ],
      "text/plain": [
       "                                               review_es sentimiento\n",
       "0      Uno de los otros críticos ha mencionado que de...    positivo\n",
       "1      Una pequeña pequeña producción.La técnica de f...    positivo\n",
       "2      Pensé que esta era una manera maravillosa de p...    positivo\n",
       "3      Básicamente, hay una familia donde un niño peq...    negativo\n",
       "4      El \"amor en el tiempo\" de Petter Mattei es una...    positivo\n",
       "...                                                  ...         ...\n",
       "49995  Pensé que esta película hizo un buen trabajo a...    positivo\n",
       "49996  Mala parcela, mal diálogo, mala actuación, dir...    negativo\n",
       "49997  Soy católica enseñada en escuelas primarias pa...    negativo\n",
       "49998  Voy a tener que estar en desacuerdo con el com...    negativo\n",
       "49999  Nadie espera que las películas de Star Trek se...    negativo\n",
       "\n",
       "[50000 rows x 2 columns]"
      ]
     },
     "execution_count": 5,
     "metadata": {},
     "output_type": "execute_result"
    }
   ],
   "source": [
    "reviewDf = reviewDf.drop([\"ID\"],  axis='columns', inplace=False)\n",
    "reviewDf"
   ]
  },
  {
   "cell_type": "markdown",
   "id": "0465afe6",
   "metadata": {},
   "source": [
    "### FILTRO REVIEWS EN INGLES"
   ]
  },
  {
   "cell_type": "markdown",
   "id": "23d75fa4",
   "metadata": {},
   "source": [
    "Filtramos y nos quedamos solo con las reviews en epanol para mejorar la efectividad del modelo.\n",
    "Hay 3 listas hechas a mano debido a que tuvimos que tener cuidado de no incluir palabras cuya raiz exitiera en español, o fueran parte de apellidos ya que en esos casos se veian contenidas (love-lace-, hate-r, excelent-e). Al tener 3 listas con ditintos grupos, fue mas facil armar la lista final. Reconocemos que no es el mejor filtro y que es posible que hayamos eliminado unas pocas reseñas en español y hayan quedado unas pocas en ingles. Sin embargo estamos seguros de que si saca la mayoria de las reseñas en ingles."
   ]
  },
  {
   "cell_type": "code",
   "execution_count": 6,
   "id": "9d81a348",
   "metadata": {
    "lines_to_next_cell": 0
   },
   "outputs": [
    {
     "data": {
      "text/html": [
       "<div>\n",
       "<style scoped>\n",
       "    .dataframe tbody tr th:only-of-type {\n",
       "        vertical-align: middle;\n",
       "    }\n",
       "\n",
       "    .dataframe tbody tr th {\n",
       "        vertical-align: top;\n",
       "    }\n",
       "\n",
       "    .dataframe thead th {\n",
       "        text-align: right;\n",
       "    }\n",
       "</style>\n",
       "<table border=\"1\" class=\"dataframe\">\n",
       "  <thead>\n",
       "    <tr style=\"text-align: right;\">\n",
       "      <th></th>\n",
       "      <th>review_es</th>\n",
       "      <th>sentimiento</th>\n",
       "    </tr>\n",
       "  </thead>\n",
       "  <tbody>\n",
       "    <tr>\n",
       "      <th>0</th>\n",
       "      <td>Uno de los otros críticos ha mencionado que de...</td>\n",
       "      <td>positivo</td>\n",
       "    </tr>\n",
       "    <tr>\n",
       "      <th>1</th>\n",
       "      <td>Una pequeña pequeña producción.La técnica de f...</td>\n",
       "      <td>positivo</td>\n",
       "    </tr>\n",
       "    <tr>\n",
       "      <th>2</th>\n",
       "      <td>Pensé que esta era una manera maravillosa de p...</td>\n",
       "      <td>positivo</td>\n",
       "    </tr>\n",
       "    <tr>\n",
       "      <th>3</th>\n",
       "      <td>Básicamente, hay una familia donde un niño peq...</td>\n",
       "      <td>negativo</td>\n",
       "    </tr>\n",
       "    <tr>\n",
       "      <th>4</th>\n",
       "      <td>El \"amor en el tiempo\" de Petter Mattei es una...</td>\n",
       "      <td>positivo</td>\n",
       "    </tr>\n",
       "    <tr>\n",
       "      <th>...</th>\n",
       "      <td>...</td>\n",
       "      <td>...</td>\n",
       "    </tr>\n",
       "    <tr>\n",
       "      <th>49995</th>\n",
       "      <td>Pensé que esta película hizo un buen trabajo a...</td>\n",
       "      <td>positivo</td>\n",
       "    </tr>\n",
       "    <tr>\n",
       "      <th>49996</th>\n",
       "      <td>Mala parcela, mal diálogo, mala actuación, dir...</td>\n",
       "      <td>negativo</td>\n",
       "    </tr>\n",
       "    <tr>\n",
       "      <th>49997</th>\n",
       "      <td>Soy católica enseñada en escuelas primarias pa...</td>\n",
       "      <td>negativo</td>\n",
       "    </tr>\n",
       "    <tr>\n",
       "      <th>49998</th>\n",
       "      <td>Voy a tener que estar en desacuerdo con el com...</td>\n",
       "      <td>negativo</td>\n",
       "    </tr>\n",
       "    <tr>\n",
       "      <th>49999</th>\n",
       "      <td>Nadie espera que las películas de Star Trek se...</td>\n",
       "      <td>negativo</td>\n",
       "    </tr>\n",
       "  </tbody>\n",
       "</table>\n",
       "<p>48284 rows × 2 columns</p>\n",
       "</div>"
      ],
      "text/plain": [
       "                                               review_es sentimiento\n",
       "0      Uno de los otros críticos ha mencionado que de...    positivo\n",
       "1      Una pequeña pequeña producción.La técnica de f...    positivo\n",
       "2      Pensé que esta era una manera maravillosa de p...    positivo\n",
       "3      Básicamente, hay una familia donde un niño peq...    negativo\n",
       "4      El \"amor en el tiempo\" de Petter Mattei es una...    positivo\n",
       "...                                                  ...         ...\n",
       "49995  Pensé que esta película hizo un buen trabajo a...    positivo\n",
       "49996  Mala parcela, mal diálogo, mala actuación, dir...    negativo\n",
       "49997  Soy católica enseñada en escuelas primarias pa...    negativo\n",
       "49998  Voy a tener que estar en desacuerdo con el com...    negativo\n",
       "49999  Nadie espera que las películas de Star Trek se...    negativo\n",
       "\n",
       "[48284 rows x 2 columns]"
      ]
     },
     "execution_count": 6,
     "metadata": {},
     "output_type": "execute_result"
    }
   ],
   "source": [
    "lista_palabras_comunes_en = [\"have\",\"scary\",\"nothing\",\"issue\"]\n",
    "lista_palabras_positivas_en =[\"interesting\",\"amusing\",\"intelligent\",\"pretty\",\"beautiful\"]\n",
    "lista_palabras_negativas_en =[\"boring\",\"bullshit\",\"risk\",\"loss\",\"poor\",\"ugly\"]\n",
    "lista_completa = lista_palabras_comunes_en + lista_palabras_positivas_en + lista_palabras_negativas_en\n",
    "\n",
    "\n",
    "reviewDf_espanol = reviewDf [~reviewDf[\"review_es\"].str.contains('|'.join(lista_completa))]\n",
    "\n",
    "reviewDf_espanol"
   ]
  },
  {
   "cell_type": "markdown",
   "id": "305fc80d",
   "metadata": {},
   "source": []
  },
  {
   "cell_type": "markdown",
   "id": "b21ebb1a",
   "metadata": {},
   "source": [
    "## Particion"
   ]
  },
  {
   "cell_type": "markdown",
   "id": "37d9668a",
   "metadata": {},
   "source": [
    "Hacemos la particion  en test y train con el dataset ya filtrado"
   ]
  },
  {
   "cell_type": "code",
   "execution_count": 7,
   "id": "b94c1733",
   "metadata": {},
   "outputs": [],
   "source": [
    "reviewDf_x = reviewDf_espanol.drop([\"sentimiento\"],  axis='columns', inplace=False)\n",
    "\n",
    "reviewDf_y = reviewDf_espanol['sentimiento'].copy()\n",
    "\n",
    "x_train, x_test, y_train, y_test = train_test_split(reviewDf_x,\n",
    "                                                    reviewDf_y,\n",
    "                                                    test_size=0.30,\n",
    "                                                    random_state=SEED,\n",
    "                                                    shuffle=True\n",
    "                                                    )"
   ]
  },
  {
   "cell_type": "markdown",
   "id": "db74cc1f",
   "metadata": {},
   "source": [
    "# Bayes Naive\n",
    "\n",
    "Creamos un modelo Bayes Naives con el proposito de observar el comportamiento general del mismo y generamos una primera predicción "
   ]
  },
  {
   "cell_type": "code",
   "execution_count": 8,
   "id": "2ed02e1c",
   "metadata": {},
   "outputs": [
    {
     "name": "stderr",
     "output_type": "stream",
     "text": [
      "/usr/lib/python3.11/site-packages/sklearn/base.py:329: UserWarning: Trying to unpickle estimator TfidfTransformer from version 1.2.2 when using version 1.1.2. This might lead to breaking code or invalid results. Use at your own risk. For more info please refer to:\n",
      "https://scikit-learn.org/stable/model_persistence.html#security-maintainability-limitations\n",
      "  warnings.warn(\n",
      "/usr/lib/python3.11/site-packages/sklearn/base.py:329: UserWarning: Trying to unpickle estimator TfidfVectorizer from version 1.2.2 when using version 1.1.2. This might lead to breaking code or invalid results. Use at your own risk. For more info please refer to:\n",
      "https://scikit-learn.org/stable/model_persistence.html#security-maintainability-limitations\n",
      "  warnings.warn(\n",
      "/usr/lib/python3.11/site-packages/sklearn/base.py:329: UserWarning: Trying to unpickle estimator MultinomialNB from version 1.2.2 when using version 1.1.2. This might lead to breaking code or invalid results. Use at your own risk. For more info please refer to:\n",
      "https://scikit-learn.org/stable/model_persistence.html#security-maintainability-limitations\n",
      "  warnings.warn(\n",
      "/usr/lib/python3.11/site-packages/sklearn/base.py:329: UserWarning: Trying to unpickle estimator Pipeline from version 1.2.2 when using version 1.1.2. This might lead to breaking code or invalid results. Use at your own risk. For more info please refer to:\n",
      "https://scikit-learn.org/stable/model_persistence.html#security-maintainability-limitations\n",
      "  warnings.warn(\n"
     ]
    }
   ],
   "source": [
    "if not exists('modelos/TP2/naiveBayes-n.joblib'):\n",
    "\n",
    "    modeloBayesNaive = make_pipeline(TfidfVectorizer(), MultinomialNB())\n",
    "    modeloBayesNaive.fit(x_train.review_es, y_train)\n",
    "\n",
    "    dump(modeloBayesNaive, 'modelos/TP2/naiveBayes-n.joblib')\n",
    "\n",
    "else:\n",
    "    modeloBayesNaive = load('modelos/TP2/naiveBayes-n.joblib')\n",
    "\n",
    "prediccion = modeloBayesNaive.predict(x_test.review_es)"
   ]
  },
  {
   "cell_type": "markdown",
   "id": "82a11817",
   "metadata": {},
   "source": [
    "Analizamos las metricas del modelo para ver cual es el desempeño global del mismo, de manera que, se puede tener una referencia del comportamiento general del modelo a la hora de buscar hiperparametros "
   ]
  },
  {
   "cell_type": "code",
   "execution_count": 9,
   "id": "a2f7bac6",
   "metadata": {},
   "outputs": [
    {
     "name": "stdout",
     "output_type": "stream",
     "text": [
      "              precision    recall  f1-score   support\n",
      "\n",
      "    negativo       0.85      0.87      0.86      7300\n",
      "    positivo       0.87      0.84      0.86      7186\n",
      "\n",
      "    accuracy                           0.86     14486\n",
      "   macro avg       0.86      0.86      0.86     14486\n",
      "weighted avg       0.86      0.86      0.86     14486\n",
      "\n"
     ]
    },
    {
     "data": {
      "text/plain": [
       "Text(50.722222222222214, 0.5, 'Verdadero')"
      ]
     },
     "execution_count": 9,
     "metadata": {},
     "output_type": "execute_result"
    },
    {
     "data": {
      "image/png": "[encoded data removed]",
      "text/plain": [
       "<Figure size 640x480 with 2 Axes>"
      ]
     },
     "metadata": {},
     "output_type": "display_data"
    }
   ],
   "source": [
    "#performance\n",
    "print(classification_report(y_test,prediccion))\n",
    "\n",
    "#Creamos la matriz de confusión\n",
    "tablota=confusion_matrix(y_test, prediccion)\n",
    "\n",
    "#Grafico la matriz de confusión\n",
    "sns.heatmap(tablota,cmap='GnBu',annot=True,fmt='g')\n",
    "plt.xlabel('Predicho')\n",
    "plt.ylabel('Verdadero')"
   ]
  },
  {
   "cell_type": "markdown",
   "id": "9a3bf8c3",
   "metadata": {},
   "source": [
    "Generamos una predicción para Kaggle con nuestro primer modelo, el cual tiene un desempeño aceptable "
   ]
  },
  {
   "cell_type": "code",
   "execution_count": 10,
   "id": "d9067c36",
   "metadata": {},
   "outputs": [],
   "source": [
    "if not exists('submissions/TP2/naiveBayes-nuevo.csv'):\n",
    "    prediccionTesteo = modeloBayesNaive.predict(review_pruebas.review_es)\n",
    "    df_submission = pd.DataFrame({'id': review_pruebasOriginal['ID'], 'sentimiento': prediccionTesteo})\n",
    "    df_submission.to_csv('submissions/TP2/naiveBayes-nuevo.csv', index=False)"
   ]
  },
  {
   "cell_type": "markdown",
   "id": "f98172c9",
   "metadata": {},
   "source": [
    "### Busqueda de hiperparametros \n",
    "\n",
    "Hacemos un pequeño ajuste sobre los datos de entrada en esta ocación "
   ]
  },
  {
   "cell_type": "code",
   "execution_count": 11,
   "id": "ffd93059",
   "metadata": {},
   "outputs": [],
   "source": [
    "y_test_transformed = y_test.map(lambda x: 0 if x == 'positivo' else 1)\n",
    "y_train_transformed = y_train.map(lambda x: 0 if x == 'positivo' else 1)"
   ]
  },
  {
   "cell_type": "markdown",
   "id": "f639100d",
   "metadata": {},
   "source": [
    "Para la busqueda de hiperparametros del modelo bayes naives, se debe considerar realizar en simultaneo la optimización tanto del modelo BN como encontrar las condiciones para que la tecnica TF-IDF, implementada por el TfidfVectorizer, mejore las metricas en el analisis de sentimientos\n",
    "\n",
    "Por lo tanto realizamos la busqueda de hiperparametros usando valores de prueba para intentar mejorar el modelo y por otro lado valores de prueba para el preprocesamiento del texto "
   ]
  },
  {
   "cell_type": "code",
   "execution_count": 12,
   "id": "8723dc9e",
   "metadata": {
    "scrolled": true
   },
   "outputs": [],
   "source": [
    "if not exists('modelos/TP2/nb_hiper.joblib'):\n",
    "    frecuencia_maxima = [0.9, 0.95, 0.85, 0.98]\n",
    "    frecuencia_minima = [0.05, 0.07, 0.1, 0.03]\n",
    "    ngram_range = [(1,1), (1,2), (3,1)]\n",
    "    alpha = [0.1, 0.5, 1.0, 2.0, 0.8, 0.3, 1.5]\n",
    "    fit_prior = [True, False]\n",
    "    class_prior = [None, [0.2, 0.8], [0.5, 0.5]]\n",
    "\n",
    "    metrica = make_scorer(sklearn.metrics.f1_score)\n",
    "    folds = 5\n",
    "\n",
    "    modelo = Pipeline(steps=[('tfidfvectorizer', TfidfVectorizer()), ('multinomialnb', MultinomialNB())])\n",
    "\n",
    "\n",
    "    parametros = {\n",
    "        'tfidfvectorizer__stop_words': ['english', stopwords_es, None],\n",
    "        'tfidfvectorizer__max_df': frecuencia_maxima,\n",
    "        'tfidfvectorizer__min_df': frecuencia_minima,\n",
    "        'tfidfvectorizer__ngram_range': ngram_range,\n",
    "        'multinomialnb__alpha': alpha,\n",
    "        'multinomialnb__fit_prior': fit_prior,\n",
    "        'multinomialnb__class_prior': class_prior\n",
    "    }\n",
    "\n",
    "    modelo_rcv = RandomizedSearchCV(modelo, parametros, cv=folds, scoring=metrica)\n",
    "    modelo_rcv.fit(x_train.review_es, y_train_transformed)\n",
    "\n",
    "    dump(modelo_rcv, 'modelos/TP2/nb_hiper.joblib')\n",
    "else: \n",
    "    modelo_rcv = load('modelos/TP2/nb_hiper.joblib')"
   ]
  },
  {
   "cell_type": "code",
   "execution_count": 13,
   "id": "edb72575",
   "metadata": {},
   "outputs": [
    {
     "data": {
      "text/html": [
       "<style>#sk-container-id-1 {color: black;background-color: white;}#sk-container-id-1 pre{padding: 0;}#sk-container-id-1 div.sk-toggleable {background-color: white;}#sk-container-id-1 label.sk-toggleable__label {cursor: pointer;display: block;width: 100%;margin-bottom: 0;padding: 0.3em;box-sizing: border-box;text-align: center;}#sk-container-id-1 label.sk-toggleable__label-arrow:before {content: \"▸\";float: left;margin-right: 0.25em;color: #696969;}#sk-container-id-1 label.sk-toggleable__label-arrow:hover:before {color: black;}#sk-container-id-1 div.sk-estimator:hover label.sk-toggleable__label-arrow:before {color: black;}#sk-container-id-1 div.sk-toggleable__content {max-height: 0;max-width: 0;overflow: hidden;text-align: left;background-color: #f0f8ff;}#sk-container-id-1 div.sk-toggleable__content pre {margin: 0.2em;color: black;border-radius: 0.25em;background-color: #f0f8ff;}#sk-container-id-1 input.sk-toggleable__control:checked~div.sk-toggleable__content {max-height: 200px;max-width: 100%;overflow: auto;}#sk-container-id-1 input.sk-toggleable__control:checked~label.sk-toggleable__label-arrow:before {content: \"▾\";}#sk-container-id-1 div.sk-estimator input.sk-toggleable__control:checked~label.sk-toggleable__label {background-color: #d4ebff;}#sk-container-id-1 div.sk-label input.sk-toggleable__control:checked~label.sk-toggleable__label {background-color: #d4ebff;}#sk-container-id-1 input.sk-hidden--visually {border: 0;clip: rect(1px 1px 1px 1px);clip: rect(1px, 1px, 1px, 1px);height: 1px;margin: -1px;overflow: hidden;padding: 0;position: absolute;width: 1px;}#sk-container-id-1 div.sk-estimator {font-family: monospace;background-color: #f0f8ff;border: 1px dotted black;border-radius: 0.25em;box-sizing: border-box;margin-bottom: 0.5em;}#sk-container-id-1 div.sk-estimator:hover {background-color: #d4ebff;}#sk-container-id-1 div.sk-parallel-item::after {content: \"\";width: 100%;border-bottom: 1px solid gray;flex-grow: 1;}#sk-container-id-1 div.sk-label:hover label.sk-toggleable__label {background-color: #d4ebff;}#sk-container-id-1 div.sk-serial::before {content: \"\";position: absolute;border-left: 1px solid gray;box-sizing: border-box;top: 0;bottom: 0;left: 50%;z-index: 0;}#sk-container-id-1 div.sk-serial {display: flex;flex-direction: column;align-items: center;background-color: white;padding-right: 0.2em;padding-left: 0.2em;position: relative;}#sk-container-id-1 div.sk-item {position: relative;z-index: 1;}#sk-container-id-1 div.sk-parallel {display: flex;align-items: stretch;justify-content: center;background-color: white;position: relative;}#sk-container-id-1 div.sk-item::before, #sk-container-id-1 div.sk-parallel-item::before {content: \"\";position: absolute;border-left: 1px solid gray;box-sizing: border-box;top: 0;bottom: 0;left: 50%;z-index: -1;}#sk-container-id-1 div.sk-parallel-item {display: flex;flex-direction: column;z-index: 1;position: relative;background-color: white;}#sk-container-id-1 div.sk-parallel-item:first-child::after {align-self: flex-end;width: 50%;}#sk-container-id-1 div.sk-parallel-item:last-child::after {align-self: flex-start;width: 50%;}#sk-container-id-1 div.sk-parallel-item:only-child::after {width: 0;}#sk-container-id-1 div.sk-dashed-wrapped {border: 1px dashed gray;margin: 0 0.4em 0.5em 0.4em;box-sizing: border-box;padding-bottom: 0.4em;background-color: white;}#sk-container-id-1 div.sk-label label {font-family: monospace;font-weight: bold;display: inline-block;line-height: 1.2em;}#sk-container-id-1 div.sk-label-container {text-align: center;}#sk-container-id-1 div.sk-container {/* jupyter's `normalize.less` sets `[hidden] { display: none; }` but bootstrap.min.css set `[hidden] { display: none !important; }` so we also need the `!important` here to be able to override the default hidden behavior on the sphinx rendered scikit-learn.org. See: https://github.com/scikit-learn/scikit-learn/issues/21755 */display: inline-block !important;position: relative;}#sk-container-id-1 div.sk-text-repr-fallback {display: none;}</style><div id=\"sk-container-id-1\" class=\"sk-top-container\"><div class=\"sk-text-repr-fallback\"><pre>RandomizedSearchCV(cv=5,\n",
       "                   estimator=Pipeline(steps=[(&#x27;tfidfvectorizer&#x27;,\n",
       "                                              TfidfVectorizer()),\n",
       "                                             (&#x27;multinomialnb&#x27;,\n",
       "                                              MultinomialNB())]),\n",
       "                   param_distributions={&#x27;multinomialnb__alpha&#x27;: [0.1, 0.5, 1.0,\n",
       "                                                                 2.0, 0.8, 0.3,\n",
       "                                                                 1.5],\n",
       "                                        &#x27;multinomialnb__class_prior&#x27;: [None,\n",
       "                                                                       [0.2,\n",
       "                                                                        0.8],\n",
       "                                                                       [0.5,\n",
       "                                                                        0.5]],\n",
       "                                        &#x27;multinomialnb__fit_prior&#x27;: [True,\n",
       "                                                                     False],\n",
       "                                        &#x27;tfidfvectorizer__max_df&#x27;: [0.9, 0.95,\n",
       "                                                                    0.85,\n",
       "                                                                    0.98],\n",
       "                                        &#x27;tfidfvectorizer__min_df&#x27;: [0.05, 0.07,\n",
       "                                                                    0.1, 0.03],\n",
       "                                        &#x27;tfidfvectorizer__ngram_range&#x27;: [(1, 1),\n",
       "                                                                         (1, 2),\n",
       "                                                                         (3,\n",
       "                                                                          1)],\n",
       "                                        &#x27;tfidfvectorizer__stop_words&#x27;: [&#x27;english&#x27;,\n",
       "                                                                        [&#x27;de&#x27;,\n",
       "                                                                         &#x27;la&#x27;,\n",
       "                                                                         &#x27;que&#x27;,\n",
       "                                                                         &#x27;el&#x27;,\n",
       "                                                                         &#x27;en&#x27;,\n",
       "                                                                         &#x27;y&#x27;,\n",
       "                                                                         &#x27;a&#x27;,\n",
       "                                                                         &#x27;los&#x27;,\n",
       "                                                                         &#x27;del&#x27;,\n",
       "                                                                         &#x27;se&#x27;,\n",
       "                                                                         &#x27;las&#x27;,\n",
       "                                                                         &#x27;por&#x27;,\n",
       "                                                                         &#x27;un&#x27;,\n",
       "                                                                         &#x27;para&#x27;,\n",
       "                                                                         &#x27;con&#x27;,\n",
       "                                                                         &#x27;no&#x27;,\n",
       "                                                                         &#x27;una&#x27;,\n",
       "                                                                         &#x27;su&#x27;,\n",
       "                                                                         &#x27;al&#x27;,\n",
       "                                                                         &#x27;lo&#x27;,\n",
       "                                                                         &#x27;como&#x27;,\n",
       "                                                                         &#x27;más&#x27;,\n",
       "                                                                         &#x27;pero&#x27;,\n",
       "                                                                         &#x27;sus&#x27;,\n",
       "                                                                         &#x27;le&#x27;,\n",
       "                                                                         &#x27;ya&#x27;,\n",
       "                                                                         &#x27;o&#x27;,\n",
       "                                                                         &#x27;este&#x27;,\n",
       "                                                                         &#x27;sí&#x27;,\n",
       "                                                                         &#x27;porque&#x27;, ...],\n",
       "                                                                        None]},\n",
       "                   scoring=make_scorer(f1_score))</pre><b>In a Jupyter environment, please rerun this cell to show the HTML representation or trust the notebook. <br />On GitHub, the HTML representation is unable to render, please try loading this page with nbviewer.org.</b></div><div class=\"sk-container\" hidden><div class=\"sk-item sk-dashed-wrapped\"><div class=\"sk-label-container\"><div class=\"sk-label sk-toggleable\"><input class=\"sk-toggleable__control sk-hidden--visually\" id=\"sk-estimator-id-1\" type=\"checkbox\" ><label for=\"sk-estimator-id-1\" class=\"sk-toggleable__label sk-toggleable__label-arrow\">RandomizedSearchCV</label><div class=\"sk-toggleable__content\"><pre>RandomizedSearchCV(cv=5,\n",
       "                   estimator=Pipeline(steps=[(&#x27;tfidfvectorizer&#x27;,\n",
       "                                              TfidfVectorizer()),\n",
       "                                             (&#x27;multinomialnb&#x27;,\n",
       "                                              MultinomialNB())]),\n",
       "                   param_distributions={&#x27;multinomialnb__alpha&#x27;: [0.1, 0.5, 1.0,\n",
       "                                                                 2.0, 0.8, 0.3,\n",
       "                                                                 1.5],\n",
       "                                        &#x27;multinomialnb__class_prior&#x27;: [None,\n",
       "                                                                       [0.2,\n",
       "                                                                        0.8],\n",
       "                                                                       [0.5,\n",
       "                                                                        0.5]],\n",
       "                                        &#x27;multinomialnb__fit_prior&#x27;: [True,\n",
       "                                                                     False],\n",
       "                                        &#x27;tfidfvectorizer__max_df&#x27;: [0.9, 0.95,\n",
       "                                                                    0.85,\n",
       "                                                                    0.98],\n",
       "                                        &#x27;tfidfvectorizer__min_df&#x27;: [0.05, 0.07,\n",
       "                                                                    0.1, 0.03],\n",
       "                                        &#x27;tfidfvectorizer__ngram_range&#x27;: [(1, 1),\n",
       "                                                                         (1, 2),\n",
       "                                                                         (3,\n",
       "                                                                          1)],\n",
       "                                        &#x27;tfidfvectorizer__stop_words&#x27;: [&#x27;english&#x27;,\n",
       "                                                                        [&#x27;de&#x27;,\n",
       "                                                                         &#x27;la&#x27;,\n",
       "                                                                         &#x27;que&#x27;,\n",
       "                                                                         &#x27;el&#x27;,\n",
       "                                                                         &#x27;en&#x27;,\n",
       "                                                                         &#x27;y&#x27;,\n",
       "                                                                         &#x27;a&#x27;,\n",
       "                                                                         &#x27;los&#x27;,\n",
       "                                                                         &#x27;del&#x27;,\n",
       "                                                                         &#x27;se&#x27;,\n",
       "                                                                         &#x27;las&#x27;,\n",
       "                                                                         &#x27;por&#x27;,\n",
       "                                                                         &#x27;un&#x27;,\n",
       "                                                                         &#x27;para&#x27;,\n",
       "                                                                         &#x27;con&#x27;,\n",
       "                                                                         &#x27;no&#x27;,\n",
       "                                                                         &#x27;una&#x27;,\n",
       "                                                                         &#x27;su&#x27;,\n",
       "                                                                         &#x27;al&#x27;,\n",
       "                                                                         &#x27;lo&#x27;,\n",
       "                                                                         &#x27;como&#x27;,\n",
       "                                                                         &#x27;más&#x27;,\n",
       "                                                                         &#x27;pero&#x27;,\n",
       "                                                                         &#x27;sus&#x27;,\n",
       "                                                                         &#x27;le&#x27;,\n",
       "                                                                         &#x27;ya&#x27;,\n",
       "                                                                         &#x27;o&#x27;,\n",
       "                                                                         &#x27;este&#x27;,\n",
       "                                                                         &#x27;sí&#x27;,\n",
       "                                                                         &#x27;porque&#x27;, ...],\n",
       "                                                                        None]},\n",
       "                   scoring=make_scorer(f1_score))</pre></div></div></div><div class=\"sk-parallel\"><div class=\"sk-parallel-item\"><div class=\"sk-item\"><div class=\"sk-label-container\"><div class=\"sk-label sk-toggleable\"><input class=\"sk-toggleable__control sk-hidden--visually\" id=\"sk-estimator-id-2\" type=\"checkbox\" ><label for=\"sk-estimator-id-2\" class=\"sk-toggleable__label sk-toggleable__label-arrow\">estimator: Pipeline</label><div class=\"sk-toggleable__content\"><pre>Pipeline(steps=[(&#x27;tfidfvectorizer&#x27;, TfidfVectorizer()),\n",
       "                (&#x27;multinomialnb&#x27;, MultinomialNB())])</pre></div></div></div><div class=\"sk-serial\"><div class=\"sk-item\"><div class=\"sk-serial\"><div class=\"sk-item\"><div class=\"sk-estimator sk-toggleable\"><input class=\"sk-toggleable__control sk-hidden--visually\" id=\"sk-estimator-id-3\" type=\"checkbox\" ><label for=\"sk-estimator-id-3\" class=\"sk-toggleable__label sk-toggleable__label-arrow\">TfidfVectorizer</label><div class=\"sk-toggleable__content\"><pre>TfidfVectorizer()</pre></div></div></div><div class=\"sk-item\"><div class=\"sk-estimator sk-toggleable\"><input class=\"sk-toggleable__control sk-hidden--visually\" id=\"sk-estimator-id-4\" type=\"checkbox\" ><label for=\"sk-estimator-id-4\" class=\"sk-toggleable__label sk-toggleable__label-arrow\">MultinomialNB</label><div class=\"sk-toggleable__content\"><pre>MultinomialNB()</pre></div></div></div></div></div></div></div></div></div></div></div></div>"
      ],
      "text/plain": [
       "RandomizedSearchCV(cv=5,\n",
       "                   estimator=Pipeline(steps=[('tfidfvectorizer',\n",
       "                                              TfidfVectorizer()),\n",
       "                                             ('multinomialnb',\n",
       "                                              MultinomialNB())]),\n",
       "                   param_distributions={'multinomialnb__alpha': [0.1, 0.5, 1.0,\n",
       "                                                                 2.0, 0.8, 0.3,\n",
       "                                                                 1.5],\n",
       "                                        'multinomialnb__class_prior': [None,\n",
       "                                                                       [0.2,\n",
       "                                                                        0.8],\n",
       "                                                                       [0.5,\n",
       "                                                                        0.5]],\n",
       "                                        'multinomialnb__fit_prior': [True,\n",
       "                                                                     False],\n",
       "                                        'tfidfvectorizer__max_df': [0.9, 0.95,\n",
       "                                                                    0.85,\n",
       "                                                                    0.98],\n",
       "                                        'tfidfvectorizer__min_df': [0.05, 0.07,\n",
       "                                                                    0.1, 0.03],\n",
       "                                        'tfidfvectorizer__ngram_range': [(1, 1),\n",
       "                                                                         (1, 2),\n",
       "                                                                         (3,\n",
       "                                                                          1)],\n",
       "                                        'tfidfvectorizer__stop_words': ['english',\n",
       "                                                                        ['de',\n",
       "                                                                         'la',\n",
       "                                                                         'que',\n",
       "                                                                         'el',\n",
       "                                                                         'en',\n",
       "                                                                         'y',\n",
       "                                                                         'a',\n",
       "                                                                         'los',\n",
       "                                                                         'del',\n",
       "                                                                         'se',\n",
       "                                                                         'las',\n",
       "                                                                         'por',\n",
       "                                                                         'un',\n",
       "                                                                         'para',\n",
       "                                                                         'con',\n",
       "                                                                         'no',\n",
       "                                                                         'una',\n",
       "                                                                         'su',\n",
       "                                                                         'al',\n",
       "                                                                         'lo',\n",
       "                                                                         'como',\n",
       "                                                                         'más',\n",
       "                                                                         'pero',\n",
       "                                                                         'sus',\n",
       "                                                                         'le',\n",
       "                                                                         'ya',\n",
       "                                                                         'o',\n",
       "                                                                         'este',\n",
       "                                                                         'sí',\n",
       "                                                                         'porque', ...],\n",
       "                                                                        None]},\n",
       "                   scoring=make_scorer(f1_score))"
      ]
     },
     "execution_count": 13,
     "metadata": {},
     "output_type": "execute_result"
    }
   ],
   "source": [
    "modelo_rcv"
   ]
  },
  {
   "cell_type": "markdown",
   "id": "90ee0348",
   "metadata": {},
   "source": [
    "Observamos como se comporta el modelo al estudiarlo a detalle usando la tecnica de random search cross validation "
   ]
  },
  {
   "cell_type": "code",
   "execution_count": 14,
   "id": "c311a7c8",
   "metadata": {
    "scrolled": true
   },
   "outputs": [
    {
     "name": "stdout",
     "output_type": "stream",
     "text": [
      "F1-Score del modelo: 0.7728904164999303\n",
      "tfidfvectorizer__ngram_range:(1, 2)\n",
      "tfidfvectorizer__min_df:0.05\n",
      "tfidfvectorizer__max_df:0.85\n",
      "multinomialnb__fit_prior:False\n",
      "multinomialnb__class_prior:[0.5, 0.5]\n",
      "multinomialnb__alpha:0.8\n"
     ]
    }
   ],
   "source": [
    "print(\"F1-Score del modelo: \" + str(modelo_rcv.best_score_))\n",
    "for param, value in modelo_rcv.best_params_.items():\n",
    "    if param == \"tfidfvectorizer__stop_words\":\n",
    "        continue\n",
    "        \n",
    "    print(str(param) + \":\" + str(value))"
   ]
  },
  {
   "cell_type": "markdown",
   "id": "cb3a755c",
   "metadata": {},
   "source": [
    "Se observa que el modelo tiene un F1-Score bastante parecido a la primera parte del analisis, más sin embargo, el añadido de estos hiperparametros puede ayudar en la simplificación del modelo y mejorar la generalización \n",
    "\n",
    "Entrenamos el modelo con los nuevos hiperparametros y realizamos una validacion cruzada para verificar que no haya ningun problema con el modelo seleccionado "
   ]
  },
  {
   "cell_type": "code",
   "execution_count": 15,
   "id": "d8b14ab9",
   "metadata": {
    "lines_to_next_cell": 2
   },
   "outputs": [
    {
     "name": "stderr",
     "output_type": "stream",
     "text": [
      "/usr/lib/python3.11/site-packages/sklearn/base.py:329: UserWarning: Trying to unpickle estimator TfidfTransformer from version 1.2.2 when using version 1.1.2. This might lead to breaking code or invalid results. Use at your own risk. For more info please refer to:\n",
      "https://scikit-learn.org/stable/model_persistence.html#security-maintainability-limitations\n",
      "  warnings.warn(\n",
      "/usr/lib/python3.11/site-packages/sklearn/base.py:329: UserWarning: Trying to unpickle estimator TfidfVectorizer from version 1.2.2 when using version 1.1.2. This might lead to breaking code or invalid results. Use at your own risk. For more info please refer to:\n",
      "https://scikit-learn.org/stable/model_persistence.html#security-maintainability-limitations\n",
      "  warnings.warn(\n",
      "/usr/lib/python3.11/site-packages/sklearn/base.py:329: UserWarning: Trying to unpickle estimator MultinomialNB from version 1.2.2 when using version 1.1.2. This might lead to breaking code or invalid results. Use at your own risk. For more info please refer to:\n",
      "https://scikit-learn.org/stable/model_persistence.html#security-maintainability-limitations\n",
      "  warnings.warn(\n",
      "/usr/lib/python3.11/site-packages/sklearn/base.py:329: UserWarning: Trying to unpickle estimator Pipeline from version 1.2.2 when using version 1.1.2. This might lead to breaking code or invalid results. Use at your own risk. For more info please refer to:\n",
      "https://scikit-learn.org/stable/model_persistence.html#security-maintainability-limitations\n",
      "  warnings.warn(\n"
     ]
    }
   ],
   "source": [
    "if not exists('modelos/TP2/nb_conhp.joblib'):\n",
    "    mejores_parametros = modelo_rcv.best_params_\n",
    "\n",
    "    modelo_final = Pipeline(steps=[\n",
    "        ('tfidfvectorizer', TfidfVectorizer(stop_words=mejores_parametros['tfidfvectorizer__stop_words'],\n",
    "                                            max_df=mejores_parametros['tfidfvectorizer__max_df'],\n",
    "                                            min_df=mejores_parametros['tfidfvectorizer__min_df'],\n",
    "                                             ngram_range=mejores_parametros['tfidfvectorizer__ngram_range'])),\n",
    "        ('multinomialnb', MultinomialNB(alpha = mejores_parametros['multinomialnb__alpha'],\n",
    "                                        fit_prior = mejores_parametros['multinomialnb__fit_prior'],\n",
    "                                        class_prior= mejores_parametros['multinomialnb__class_prior']))\n",
    "    ])\n",
    "\n",
    "    modelo_final.fit(x_train.review_es, y_train_transformed)\n",
    "    dump(modelo_final, 'modelos/TP2/nb_conhp.joblib')\n",
    "else:\n",
    "    modelo_final = load('modelos/TP2/nb_conhp.joblib')"
   ]
  },
  {
   "cell_type": "code",
   "execution_count": 16,
   "id": "0007ef27",
   "metadata": {},
   "outputs": [],
   "source": [
    "if not exists('modelos/TP2/metricas_nb.joblib'):\n",
    "    kfoldcv =StratifiedKFold(n_splits=10)\n",
    "    resultados_nb = cross_validate(modelo_final, x_train.review_es, y_train, cv=kfoldcv,scoring=metrica ,return_estimator=True)\n",
    "    metricas_nb = resultados_nb['test_score']\n",
    "    modelo_final = resultados_bb['estimator'][np.where(metricas_nb==max(metricas_nb))[0][0]]\n",
    "else: \n",
    "    metricas_nb = load('modelos/TP2/metricas_nb.joblib')"
   ]
  },
  {
   "cell_type": "code",
   "execution_count": 17,
   "id": "c4aff267",
   "metadata": {},
   "outputs": [
    {
     "data": {
      "text/plain": [
       "Text(0.5, 1.0, 'Modelo verificado con 10 folds')"
      ]
     },
     "execution_count": 17,
     "metadata": {},
     "output_type": "execute_result"
    },
    {
     "data": {
      "image/png": "[encoded data removed]",
      "text/plain": [
       "<Figure size 600x500 with 1 Axes>"
      ]
     },
     "metadata": {},
     "output_type": "display_data"
    }
   ],
   "source": [
    "metric_labelsCV = ['F1 Score']*len(metricas_nb)\n",
    "sns.set_context('talk')\n",
    "sns.set_style(\"darkgrid\")\n",
    "plt.figure(figsize=(6,5))\n",
    "sns.boxplot(metricas_nb)\n",
    "plt.title(\"Modelo verificado con 10 folds\")"
   ]
  },
  {
   "cell_type": "markdown",
   "id": "c6d809a0",
   "metadata": {},
   "source": [
    "Observamos que la validación cruzada reatifica el modelo generado y los hiperparametros usados por lo tanto realizamos la prediccion de peso para la competencia de kaggle \n",
    "\n",
    "\n"
   ]
  },
  {
   "cell_type": "code",
   "execution_count": 18,
   "id": "af508411",
   "metadata": {},
   "outputs": [],
   "source": [
    "if not exists('submissions/TP2/NMmejorado8.csv'):\n",
    "    df_submission = pd.DataFrame({'id': review_pruebas['ID'], 'sentimiento': y_pred})\n",
    "    df_submission['sentimiento'] = df_submission['sentimiento'].map({0: 'positivo', 1: 'negativo'})\n",
    "    df_submission.to_csv('NMmejorado8.csv', index=False)"
   ]
  },
  {
   "cell_type": "markdown",
   "id": "0725a219",
   "metadata": {},
   "source": [
    "# Random Forest"
   ]
  },
  {
   "cell_type": "markdown",
   "id": "cc5bfce1",
   "metadata": {},
   "source": [
    "Creamnos el modelo con parametros arbitrarios parta obtener una prediccion inicial. Decidimos fijar los valores de samples_leaf y samples_split y n_estimators por nuestra cuenta ya luuego de varioas pruebas obsevamos que con valores por default (1, 2 y 100 respectictivamente) genera un modelo muy grande que no podremos subir a gitthub y cuya efectividad no mejorara mucho respecto a uno un poco mas chico"
   ]
  },
  {
   "cell_type": "code",
   "execution_count": 19,
   "id": "3257af58",
   "metadata": {},
   "outputs": [
    {
     "name": "stderr",
     "output_type": "stream",
     "text": [
      "/usr/lib/python3.11/site-packages/sklearn/base.py:329: UserWarning: Trying to unpickle estimator TfidfTransformer from version 1.2.2 when using version 1.1.2. This might lead to breaking code or invalid results. Use at your own risk. For more info please refer to:\n",
      "https://scikit-learn.org/stable/model_persistence.html#security-maintainability-limitations\n",
      "  warnings.warn(\n",
      "/usr/lib/python3.11/site-packages/sklearn/base.py:329: UserWarning: Trying to unpickle estimator TfidfVectorizer from version 1.2.2 when using version 1.1.2. This might lead to breaking code or invalid results. Use at your own risk. For more info please refer to:\n",
      "https://scikit-learn.org/stable/model_persistence.html#security-maintainability-limitations\n",
      "  warnings.warn(\n",
      "/usr/lib/python3.11/site-packages/sklearn/base.py:329: UserWarning: Trying to unpickle estimator DecisionTreeClassifier from version 1.2.2 when using version 1.1.2. This might lead to breaking code or invalid results. Use at your own risk. For more info please refer to:\n",
      "https://scikit-learn.org/stable/model_persistence.html#security-maintainability-limitations\n",
      "  warnings.warn(\n",
      "/usr/lib/python3.11/site-packages/sklearn/base.py:329: UserWarning: Trying to unpickle estimator RandomForestClassifier from version 1.2.2 when using version 1.1.2. This might lead to breaking code or invalid results. Use at your own risk. For more info please refer to:\n",
      "https://scikit-learn.org/stable/model_persistence.html#security-maintainability-limitations\n",
      "  warnings.warn(\n",
      "/usr/lib/python3.11/site-packages/sklearn/base.py:329: UserWarning: Trying to unpickle estimator Pipeline from version 1.2.2 when using version 1.1.2. This might lead to breaking code or invalid results. Use at your own risk. For more info please refer to:\n",
      "https://scikit-learn.org/stable/model_persistence.html#security-maintainability-limitations\n",
      "  warnings.warn(\n"
     ]
    }
   ],
   "source": [
    "if exists('modelos/TP2/modeloRandomForest-sin-optimizar-final.joblib') == False:\n",
    "    #Creamos un clasificador con hiperparámetros arbitrarios\n",
    "    \n",
    "    rfc = RandomForestClassifier(n_jobs=JOBS,\n",
    "                                 criterion=\"gini\", \n",
    "                                 random_state=SEED, \n",
    "                                 min_samples_leaf=15,\n",
    "                                 min_samples_split=40,\n",
    "                                 n_estimators=40, \n",
    "                                 class_weight=\"balanced\")\n",
    "    \n",
    "    #rfc = RandomForestClassifier(random_state=SEED, n_jobs=-1)\n",
    "    \n",
    "    modeloRandomForest = make_pipeline(TfidfVectorizer(), rfc)\n",
    "\n",
    "    modeloRandomForest.fit(x_train.review_es, y_train)\n",
    "\n",
    "    dump(modeloRandomForest, 'modelos/TP2/modeloRandomForest-sin-optimizar-final.joblib')\n",
    "\n",
    "else:\n",
    "    modeloRandomForest = load('modelos/TP2/modeloRandomForest-sin-optimizar-final.joblib')"
   ]
  },
  {
   "cell_type": "markdown",
   "id": "f3de93c7",
   "metadata": {},
   "source": [
    "Miramos como fue en test"
   ]
  },
  {
   "cell_type": "code",
   "execution_count": 20,
   "id": "be913898",
   "metadata": {},
   "outputs": [
    {
     "name": "stdout",
     "output_type": "stream",
     "text": [
      "              precision    recall  f1-score   support\n",
      "\n",
      "    negativo       0.83      0.83      0.83      7300\n",
      "    positivo       0.82      0.82      0.82      7186\n",
      "\n",
      "    accuracy                           0.82     14486\n",
      "   macro avg       0.82      0.82      0.82     14486\n",
      "weighted avg       0.82      0.82      0.82     14486\n",
      "\n"
     ]
    },
    {
     "data": {
      "text/plain": [
       "Text(37.08333333333333, 0.5, 'Verdadero')"
      ]
     },
     "execution_count": 20,
     "metadata": {},
     "output_type": "execute_result"
    },
    {
     "data": {
      "image/png": "[encoded data removed]",
      "text/plain": [
       "<Figure size 640x480 with 2 Axes>"
      ]
     },
     "metadata": {},
     "output_type": "display_data"
    }
   ],
   "source": [
    "prediccion_rf = modeloRandomForest.predict(x_test.review_es)\n",
    "\n",
    "#performance\n",
    "print(classification_report(y_test,prediccion_rf))\n",
    "\n",
    "\n",
    "#Creamos la matriz de confusión\n",
    "tabla=confusion_matrix(y_test, prediccion_rf)\n",
    "\n",
    "#Grafico la matriz de confusión\n",
    "sns.heatmap(tabla,cmap='GnBu',annot=True,fmt='g')\n",
    "plt.xlabel('Predicho')\n",
    "plt.ylabel('Verdadero')  "
   ]
  },
  {
   "cell_type": "markdown",
   "id": "dcb013c7",
   "metadata": {},
   "source": [
    "Hacemos la submission"
   ]
  },
  {
   "cell_type": "code",
   "execution_count": 21,
   "id": "5e8940b1",
   "metadata": {},
   "outputs": [],
   "source": [
    "if not exists('submissions/TP2/randomForest-sin-opti-final.csv'):\n",
    "    prediccionTesteo_rf = modeloRandomForest.predict(review_pruebas.review_es)\n",
    "    df_submission = pd.DataFrame({'id': review_pruebasOriginal['ID'], 'sentimiento': prediccionTesteo_rf})\n",
    "    df_submission.to_csv('submissions/TP2/randomForest-sin-opti-final.csv', index=False)"
   ]
  },
  {
   "cell_type": "markdown",
   "id": "df23ad27",
   "metadata": {},
   "source": [
    "#### Optimizacion de hiperparametros con Cros Validation"
   ]
  },
  {
   "cell_type": "code",
   "execution_count": 22,
   "id": "7d6db08a",
   "metadata": {},
   "outputs": [
    {
     "name": "stderr",
     "output_type": "stream",
     "text": [
      "/usr/lib/python3.11/site-packages/sklearn/base.py:329: UserWarning: Trying to unpickle estimator TfidfVectorizer from version 1.2.2 when using version 1.1.2. This might lead to breaking code or invalid results. Use at your own risk. For more info please refer to:\n",
      "https://scikit-learn.org/stable/model_persistence.html#security-maintainability-limitations\n",
      "  warnings.warn(\n",
      "/usr/lib/python3.11/site-packages/sklearn/base.py:329: UserWarning: Trying to unpickle estimator DecisionTreeClassifier from version 1.2.2 when using version 1.1.2. This might lead to breaking code or invalid results. Use at your own risk. For more info please refer to:\n",
      "https://scikit-learn.org/stable/model_persistence.html#security-maintainability-limitations\n",
      "  warnings.warn(\n",
      "/usr/lib/python3.11/site-packages/sklearn/base.py:329: UserWarning: Trying to unpickle estimator RandomForestClassifier from version 1.2.2 when using version 1.1.2. This might lead to breaking code or invalid results. Use at your own risk. For more info please refer to:\n",
      "https://scikit-learn.org/stable/model_persistence.html#security-maintainability-limitations\n",
      "  warnings.warn(\n",
      "/usr/lib/python3.11/site-packages/sklearn/base.py:329: UserWarning: Trying to unpickle estimator Pipeline from version 1.2.2 when using version 1.1.2. This might lead to breaking code or invalid results. Use at your own risk. For more info please refer to:\n",
      "https://scikit-learn.org/stable/model_persistence.html#security-maintainability-limitations\n",
      "  warnings.warn(\n",
      "/usr/lib/python3.11/site-packages/sklearn/base.py:329: UserWarning: Trying to unpickle estimator TfidfTransformer from version 1.2.2 when using version 1.1.2. This might lead to breaking code or invalid results. Use at your own risk. For more info please refer to:\n",
      "https://scikit-learn.org/stable/model_persistence.html#security-maintainability-limitations\n",
      "  warnings.warn(\n",
      "/usr/lib/python3.11/site-packages/sklearn/base.py:329: UserWarning: Trying to unpickle estimator GridSearchCV from version 1.2.2 when using version 1.1.2. This might lead to breaking code or invalid results. Use at your own risk. For more info please refer to:\n",
      "https://scikit-learn.org/stable/model_persistence.html#security-maintainability-limitations\n",
      "  warnings.warn(\n"
     ]
    },
    {
     "data": {
      "text/plain": [
       "{'gsrf__criterion': 'gini',\n",
       " 'gsrf__min_samples_leaf': 15,\n",
       " 'gsrf__min_samples_split': 40,\n",
       " 'gsrf__n_estimators': 40,\n",
       " 'tfidfVectorizer__analyzer': 'word',\n",
       " 'tfidfVectorizer__lowercase': True,\n",
       " 'tfidfVectorizer__max_df': 0.1,\n",
       " 'tfidfVectorizer__min_df': 0.01,\n",
       " 'tfidfVectorizer__stop_words': None,\n",
       " 'tfidfVectorizer__strip_accents': None}"
      ]
     },
     "execution_count": 22,
     "metadata": {},
     "output_type": "execute_result"
    }
   ],
   "source": [
    "if exists('modelos/TP2/GsRandomForest_y_tdif-1.joblib') == False:\n",
    "\n",
    "    gsrf = RandomForestClassifier(class_weight=\"balanced\")\n",
    "\n",
    "\n",
    "    modeloRandomForest_cv = Pipeline(steps= [ ('tfidfVectorizer', TfidfVectorizer() ), ('gsrf', gsrf) ] )\n",
    "\n",
    "    param_grid = { \"gsrf__criterion\" : [\"gini\", \"entropy\"], \n",
    "                   \"gsrf__min_samples_leaf\" : [15, 30, 60], #Vamos a hacer muchas combinaciones ya que solo vamos\n",
    "                   \"gsrf__min_samples_split\" : [40, 50, 60],#a correr este modelo 1 sola vez; ya que lo vamos a \n",
    "                   \"gsrf__n_estimators\": [40, 50, 80],  #guardar   \n",
    "                   \n",
    "                    #Veo si conviene usar stopwords o no.\n",
    "                   \"tfidfVectorizer__stop_words\": [None, 'english', stopwords_es], \n",
    "\n",
    "                    \"tfidfVectorizer__strip_accents\": [None, \"ascii\"],\n",
    "                    \n",
    "                    \"tfidfVectorizer__min_df\": [0.01, 0.08, 0.1],\n",
    "\n",
    "                    \"tfidfVectorizer__max_df\" :[ 0.10 , 0.20 , 0.5],\n",
    "\n",
    "                    \"tfidfVectorizer__lowercase\" : [True, False],\n",
    "                    \n",
    "                   \"tfidfVectorizer__analyzer\": [\"word\", \"char\", \"char_wb\"],\n",
    "\n",
    "                    }\n",
    "\n",
    "    #Probamos entrenando sólo con 1 métrica: f1_scoree\n",
    "\n",
    "    rf_gs = GridSearchCV(estimator=modeloRandomForest_cv, param_grid=param_grid, scoring=\"f1\", cv=5, n_jobs=JOBS) #Optimizamos f1_score\n",
    "\n",
    "    #rf_gs = RandomizedSearchCV (estimator=modeloRandomForest_cv, param_grid=param_grid, scoring=\"f1\", cv=5, n_jobs=JOBS) #Optimizamos f1_score\n",
    "\n",
    "    gs_fit = rf_gs.fit(x_train.review_es, y_train)\n",
    "    \n",
    "    #guardamos el grid search\n",
    "    dump(gs_fit, 'modelos/TP2/GsRandomForest_y_tdif-1.joblib')\n",
    "\n",
    "else:\n",
    "    gs_fit = load('modelos/TP2/GsRandomForest_y_tdif-1.joblib')\n",
    "\n",
    "gs_fit.best_params_"
   ]
  },
  {
   "cell_type": "markdown",
   "id": "5472bc41",
   "metadata": {},
   "source": [
    "Podemos ver que para los hiperparametros del RF, Grid Search recomienda son los mismos que los habiamos usado arbitrariamente. Esto se debe a que, Grid search, en general, tiende a elegir\n",
    "el numero mas bajo de sample_leafs, samples_split  y n_estimators. Por ello como ya comentamos tomamos como valores mas chicos los usados en el RF sin optimizar para asegurarnos que en la optimizacion de hiperparametros no escoja valores muy pequeños generando un posible overfitting y un modelo muy complejo. <br>\n",
    "En cuanto a los hiperparametros del vectorizador, recomienda no usar stopwords (las de la lista de la librería NLTK que mandamos como parámetro), no quitar acentos, y usar como analyzer: \"word\". La principal diferencia es en cuanto al minimo y maximo numero de palabras a tener en cuenta para armar el vocabulario. Recomienda eliminar las palabras que representan menos del 1% del vocabulario y aquellas que representan más del 10% del vocabulario."
   ]
  },
  {
   "cell_type": "code",
   "execution_count": 23,
   "id": "dcf21983",
   "metadata": {},
   "outputs": [
    {
     "data": {
      "text/plain": [
       "array(['negativo', 'positivo', 'negativo', ..., 'positivo', 'negativo',\n",
       "       'negativo'], dtype=object)"
      ]
     },
     "execution_count": 23,
     "metadata": {},
     "output_type": "execute_result"
    }
   ],
   "source": [
    "#Obtenemos el mejor modelo\n",
    "mejor_modelo_rf = gs_fit.best_estimator_\n",
    "\n",
    "#Predicción\n",
    "\n",
    "prediccion_mejor_modelo_rf = mejor_modelo_rf.predict(x_test.review_es)\n",
    "prediccion_mejor_modelo_rf"
   ]
  },
  {
   "cell_type": "code",
   "execution_count": 24,
   "id": "3ee8188c",
   "metadata": {},
   "outputs": [],
   "source": [
    "if not exists ('modelos/TP2/modelo_RandomForest_y_tdif-final.joblib'):\n",
    "    dump(mejor_modelo_rf, \"modelos/TP2/modelo_RandomForest_y_tdif-final.joblib\")"
   ]
  },
  {
   "cell_type": "markdown",
   "id": "b740be33",
   "metadata": {},
   "source": [
    "Vemos como le va en test"
   ]
  },
  {
   "cell_type": "code",
   "execution_count": 25,
   "id": "824703de",
   "metadata": {},
   "outputs": [
    {
     "name": "stdout",
     "output_type": "stream",
     "text": [
      "              precision    recall  f1-score   support\n",
      "\n",
      "    negativo       0.81      0.80      0.81      7300\n",
      "    positivo       0.80      0.81      0.81      7186\n",
      "\n",
      "    accuracy                           0.81     14486\n",
      "   macro avg       0.81      0.81      0.81     14486\n",
      "weighted avg       0.81      0.81      0.81     14486\n",
      "\n"
     ]
    },
    {
     "data": {
      "text/plain": [
       "Text(37.08333333333333, 0.5, 'Verdadero')"
      ]
     },
     "execution_count": 25,
     "metadata": {},
     "output_type": "execute_result"
    },
    {
     "data": {
      "image/png": "[encoded data removed]",
      "text/plain": [
       "<Figure size 640x480 with 2 Axes>"
      ]
     },
     "metadata": {},
     "output_type": "display_data"
    }
   ],
   "source": [
    "#performance\n",
    "print(classification_report(y_test,prediccion_mejor_modelo_rf))\n",
    "\n",
    "\n",
    "#Creamos la matriz de confusión\n",
    "tabla=confusion_matrix(y_test, prediccion_mejor_modelo_rf)\n",
    "\n",
    "#Grafico la matriz de confusión\n",
    "sns.heatmap(tabla,cmap='GnBu',annot=True,fmt='g')\n",
    "plt.xlabel('Predicho')\n",
    "plt.ylabel('Verdadero') "
   ]
  },
  {
   "cell_type": "markdown",
   "id": "40addf37",
   "metadata": {},
   "source": [
    "Vemos que f1_score disminuyo. En el informe profundizamos en las posibles causa de esto."
   ]
  },
  {
   "cell_type": "markdown",
   "id": "7363157d",
   "metadata": {},
   "source": [
    "### Cross Validation"
   ]
  },
  {
   "cell_type": "markdown",
   "id": "415a24a6",
   "metadata": {},
   "source": [
    "Hacemos Cross validation con 5 folds"
   ]
  },
  {
   "cell_type": "code",
   "execution_count": 26,
   "id": "dd6f814f",
   "metadata": {
    "scrolled": false
   },
   "outputs": [
    {
     "name": "stderr",
     "output_type": "stream",
     "text": [
      "/usr/lib/python3.11/site-packages/sklearn/base.py:329: UserWarning: Trying to unpickle estimator TfidfTransformer from version 1.2.2 when using version 1.1.2. This might lead to breaking code or invalid results. Use at your own risk. For more info please refer to:\n",
      "https://scikit-learn.org/stable/model_persistence.html#security-maintainability-limitations\n",
      "  warnings.warn(\n",
      "/usr/lib/python3.11/site-packages/sklearn/base.py:329: UserWarning: Trying to unpickle estimator TfidfVectorizer from version 1.2.2 when using version 1.1.2. This might lead to breaking code or invalid results. Use at your own risk. For more info please refer to:\n",
      "https://scikit-learn.org/stable/model_persistence.html#security-maintainability-limitations\n",
      "  warnings.warn(\n",
      "/usr/lib/python3.11/site-packages/sklearn/base.py:329: UserWarning: Trying to unpickle estimator DecisionTreeClassifier from version 1.2.2 when using version 1.1.2. This might lead to breaking code or invalid results. Use at your own risk. For more info please refer to:\n",
      "https://scikit-learn.org/stable/model_persistence.html#security-maintainability-limitations\n",
      "  warnings.warn(\n",
      "/usr/lib/python3.11/site-packages/sklearn/base.py:329: UserWarning: Trying to unpickle estimator RandomForestClassifier from version 1.2.2 when using version 1.1.2. This might lead to breaking code or invalid results. Use at your own risk. For more info please refer to:\n",
      "https://scikit-learn.org/stable/model_persistence.html#security-maintainability-limitations\n",
      "  warnings.warn(\n",
      "/usr/lib/python3.11/site-packages/sklearn/base.py:329: UserWarning: Trying to unpickle estimator Pipeline from version 1.2.2 when using version 1.1.2. This might lead to breaking code or invalid results. Use at your own risk. For more info please refer to:\n",
      "https://scikit-learn.org/stable/model_persistence.html#security-maintainability-limitations\n",
      "  warnings.warn(\n"
     ]
    }
   ],
   "source": [
    "kfoldcv =StratifiedKFold(n_splits=5) \n",
    "scorer_fn = make_scorer(sklearn.metrics.f1_score, pos_label='positivo' )\n",
    "\n",
    "if not exists ('modelos/TP2/resultados_cv_randomForest-final'):\n",
    "    resultados_rf = cross_validate(mejor_modelo_rf, x_train.review_es, y_train, cv=kfoldcv,scoring=scorer_fn,return_estimator=True, n_jobs = JOBS)\n",
    "    \n",
    "    dump(resultados_rf, \"modelos/TP2/resultados_cv_randomForest-final\")\n",
    "else:\n",
    "    resultados_rf = load(\"modelos/TP2/resultados_cv_randomForest-final\")\n",
    "\n",
    "metricas_cv_rf = resultados_rf['test_score']"
   ]
  },
  {
   "cell_type": "code",
   "execution_count": 27,
   "id": "516316e9",
   "metadata": {},
   "outputs": [
    {
     "data": {
      "text/plain": [
       "Text(0.5, 1.0, 'Modelo entrenado con 5 folds')"
      ]
     },
     "execution_count": 27,
     "metadata": {},
     "output_type": "execute_result"
    },
    {
     "data": {
      "image/png": "[encoded data removed]",
      "text/plain": [
       "<Figure size 800x800 with 1 Axes>"
      ]
     },
     "metadata": {},
     "output_type": "display_data"
    }
   ],
   "source": [
    "metric_labels_CV_rf = ['F1 Score']*len(metricas_cv_rf) \n",
    "sns.set_context('talk')\n",
    "sns.set_style(\"darkgrid\")\n",
    "plt.figure(figsize=(8,8))\n",
    "sns.boxplot(metricas_cv_rf)\n",
    "plt.title(\"Modelo entrenado con 5 folds\")"
   ]
  },
  {
   "cell_type": "markdown",
   "id": "c980b01d",
   "metadata": {},
   "source": [
    "Se puede ver que no hay mucha variacion en los valores obtenidos por lo cual podemos concluir que es un modelo bueno para generalizar."
   ]
  },
  {
   "cell_type": "markdown",
   "id": "c134eb89",
   "metadata": {},
   "source": [
    "### Submission Random Forest"
   ]
  },
  {
   "cell_type": "code",
   "execution_count": 28,
   "id": "9bb7ea57",
   "metadata": {},
   "outputs": [],
   "source": [
    "if not exists('submissions/TP2/randomForest-y_tdif-final-.csv'):\n",
    "    prediccionTesteoMejorRf = mejor_modelo_rf.predict(review_pruebas.review_es)\n",
    "    df_submission = pd.DataFrame({'id': review_pruebasOriginal['ID'], 'sentimiento': prediccionTesteoMejorRf})\n",
    "    df_submission.to_csv('submissions/TP2/randomForest-y_tdif-final.csv', index=False)"
   ]
  },
  {
   "cell_type": "markdown",
   "id": "e38aaef9",
   "metadata": {},
   "source": [
    "La submission nos dio una disminucion de 4 ptos en Kaggle. Al igual que con las metricas en el ocnjunto de test, en el infomre profundizamos en la posibles razones de esto."
   ]
  },
  {
   "cell_type": "markdown",
   "id": "9b570db8",
   "metadata": {},
   "source": [
    "# XGBoost\n",
    "\n",
    "Realizamos los mismos ajustes hechos para la busqueda de hiperparametros de NB, en este caso, el modelo XGBoost no es capaz de entender las etiquetas positivo/megativo"
   ]
  },
  {
   "cell_type": "code",
   "execution_count": 29,
   "id": "2bcadfb5",
   "metadata": {},
   "outputs": [],
   "source": [
    "y_test_transformed = y_test.map(lambda x: 0 if x == 'positivo' else 1)\n",
    "y_train_transformed = y_train.map(lambda x: 0 if x == 'positivo' else 1)"
   ]
  },
  {
   "cell_type": "markdown",
   "id": "5c8253d8",
   "metadata": {},
   "source": [
    "Generamos un modelo base XGBoost que permitira observar un comportamiento global del modelo a la hora de analizar sentimientos en el texto de las reseñas "
   ]
  },
  {
   "cell_type": "code",
   "execution_count": 30,
   "id": "e62557b1",
   "metadata": {},
   "outputs": [
    {
     "name": "stderr",
     "output_type": "stream",
     "text": [
      "/usr/lib/python3.11/site-packages/sklearn/base.py:329: UserWarning: Trying to unpickle estimator TfidfTransformer from version 1.2.2 when using version 1.1.2. This might lead to breaking code or invalid results. Use at your own risk. For more info please refer to:\n",
      "https://scikit-learn.org/stable/model_persistence.html#security-maintainability-limitations\n",
      "  warnings.warn(\n",
      "/usr/lib/python3.11/site-packages/sklearn/base.py:329: UserWarning: Trying to unpickle estimator TfidfVectorizer from version 1.2.2 when using version 1.1.2. This might lead to breaking code or invalid results. Use at your own risk. For more info please refer to:\n",
      "https://scikit-learn.org/stable/model_persistence.html#security-maintainability-limitations\n",
      "  warnings.warn(\n",
      "/usr/lib/python3.11/site-packages/sklearn/base.py:329: UserWarning: Trying to unpickle estimator Pipeline from version 1.2.2 when using version 1.1.2. This might lead to breaking code or invalid results. Use at your own risk. For more info please refer to:\n",
      "https://scikit-learn.org/stable/model_persistence.html#security-maintainability-limitations\n",
      "  warnings.warn(\n"
     ]
    }
   ],
   "source": [
    "if not exists('modelos/TP2/xgb_base.joblib'):\n",
    "    xgb_base = make_pipeline(TfidfVectorizer(), XGBClassifier( random_state=0, n_estimators=100))\n",
    "    xgb_base.fit(x_train.review_es, y_train_transformed)\n",
    "else:\n",
    "    xgb_base = load(\"modelos/TP2/xgb_base.joblib\")"
   ]
  },
  {
   "cell_type": "markdown",
   "id": "ffa5b9be",
   "metadata": {},
   "source": [
    "Evaluando nuestro modelo con las metricas que nos interese"
   ]
  },
  {
   "cell_type": "code",
   "execution_count": 31,
   "id": "d963e8a4",
   "metadata": {},
   "outputs": [],
   "source": [
    "y_pred = xgb_base.predict(x_test.review_es)"
   ]
  },
  {
   "cell_type": "markdown",
   "id": "17eb2c8c",
   "metadata": {},
   "source": [
    "Verificamos la performance del modelo y observamos su matriz de confusión "
   ]
  },
  {
   "cell_type": "code",
   "execution_count": 32,
   "id": "485fa62d",
   "metadata": {},
   "outputs": [
    {
     "name": "stdout",
     "output_type": "stream",
     "text": [
      "              precision    recall  f1-score   support\n",
      "\n",
      "           0       0.90      0.93      0.91      7186\n",
      "           1       0.93      0.90      0.91      7300\n",
      "\n",
      "    accuracy                           0.91     14486\n",
      "   macro avg       0.91      0.91      0.91     14486\n",
      "weighted avg       0.91      0.91      0.91     14486\n",
      "\n"
     ]
    },
    {
     "data": {
      "text/plain": [
       "Text(37.08333333333333, 0.5, 'Verdadero')"
      ]
     },
     "execution_count": 32,
     "metadata": {},
     "output_type": "execute_result"
    },
    {
     "data": {
      "image/png": "[encoded data removed]",
      "text/plain": [
       "<Figure size 640x480 with 2 Axes>"
      ]
     },
     "metadata": {},
     "output_type": "display_data"
    }
   ],
   "source": [
    "#performance\n",
    "print(classification_report(y_test_transformed,y_pred))\n",
    "\n",
    "#Creamos la matriz de confusión\n",
    "tabla=confusion_matrix(y_test_transformed, y_pred)\n",
    "\n",
    "#Grafico la matriz de confusión\n",
    "sns.heatmap(tabla,cmap='GnBu',annot=True,fmt='g')\n",
    "plt.xlabel('Predicho')\n",
    "plt.ylabel('Verdadero')"
   ]
  },
  {
   "cell_type": "markdown",
   "id": "59b4eee3",
   "metadata": {},
   "source": [
    "Observamos que el modelo tiene un buen desempeño a la hora de\n",
    "\n",
    "Generamos una primera predicción para kaggle"
   ]
  },
  {
   "cell_type": "code",
   "execution_count": 33,
   "id": "c4ddbad7",
   "metadata": {},
   "outputs": [],
   "source": [
    "if not exists('submissions/TP2/xgboost_base.csv'):\n",
    "    pred = xgb_base.predict(review_pruebas.review_es)\n",
    "    df_submission = pd.DataFrame({'id': review_pruebasOriginal['ID'], 'sentimiento': pred})\n",
    "    df_submission['sentimiento'] = df_submission['sentimiento'].map({0: 'positivo', 1: 'negativo'})\n",
    "    df_submission.to_csv('submissions/TP2/xgboost_base.csv', index=False)"
   ]
  },
  {
   "cell_type": "markdown",
   "id": "4810dee1",
   "metadata": {},
   "source": [
    "### Busqueda de hiperparametros del XGBoost \n",
    "\n",
    "En un intento de mejorar las metricas de prediccion del modelo, como tambien de simplificarlo y generar un modelo más simple con una capacidad de prediccion similar realizamos la busqueda de hiperparamtros del xgboost utilizando parametros conocidos, como también, modificando hiperparametros en el preprocesamiento del texto para mejorar el analisis de sentimientos y ajustar le posible overfit "
   ]
  },
  {
   "cell_type": "code",
   "execution_count": 34,
   "id": "a9fd1f35",
   "metadata": {},
   "outputs": [
    {
     "name": "stderr",
     "output_type": "stream",
     "text": [
      "/usr/lib/python3.11/site-packages/sklearn/base.py:329: UserWarning: Trying to unpickle estimator TfidfVectorizer from version 1.2.2 when using version 1.1.2. This might lead to breaking code or invalid results. Use at your own risk. For more info please refer to:\n",
      "https://scikit-learn.org/stable/model_persistence.html#security-maintainability-limitations\n",
      "  warnings.warn(\n",
      "/usr/lib/python3.11/site-packages/sklearn/base.py:329: UserWarning: Trying to unpickle estimator Pipeline from version 1.2.2 when using version 1.1.2. This might lead to breaking code or invalid results. Use at your own risk. For more info please refer to:\n",
      "https://scikit-learn.org/stable/model_persistence.html#security-maintainability-limitations\n",
      "  warnings.warn(\n",
      "/usr/lib/python3.11/site-packages/sklearn/base.py:329: UserWarning: Trying to unpickle estimator TfidfTransformer from version 1.2.2 when using version 1.1.2. This might lead to breaking code or invalid results. Use at your own risk. For more info please refer to:\n",
      "https://scikit-learn.org/stable/model_persistence.html#security-maintainability-limitations\n",
      "  warnings.warn(\n",
      "/usr/lib/python3.11/site-packages/sklearn/base.py:329: UserWarning: Trying to unpickle estimator RandomizedSearchCV from version 1.2.2 when using version 1.1.2. This might lead to breaking code or invalid results. Use at your own risk. For more info please refer to:\n",
      "https://scikit-learn.org/stable/model_persistence.html#security-maintainability-limitations\n",
      "  warnings.warn(\n"
     ]
    }
   ],
   "source": [
    "\n",
    "if not exists('modelos/TP2/hipers_xgb.joblib'):\n",
    "    \n",
    "    estimadores = [90, 100, 110, 150]\n",
    "    frecuencia_maxima = [0.9, 0.95, 0.98]\n",
    "    frecuencia_minima = [0.05, 0.07, 0.03]\n",
    "    profundidad_max = [7, 8, 9, 10, 15]\n",
    "    learning_rate = [0.01, 0.05, 0.1, 0.2]\n",
    "    metrica = make_scorer(sklearn.metrics.f1_score)\n",
    "    folds = 5\n",
    "\n",
    "    parametros = {\n",
    "    'tfidfvectorizer__stop_words': ['english', stopwords_es],\n",
    "    'tfidfvectorizer__max_df': frecuencia_maxima,\n",
    "    'tfidfvectorizer__min_df': frecuencia_minima,\n",
    "    'tfidfvectorizer__ngram_range': [(1,1), (1,2)],\n",
    "    'xgbclassifier__n_estimators': estimadores,\n",
    "    'xgbclassifier__max_depth': profundidad_max,\n",
    "    'xgbclassifier__learning_rate': learning_rate,\n",
    "}\n",
    "\n",
    "    modelo = make_pipeline(TfidfVectorizer(), XGBClassifier())\n",
    "\n",
    "    modelo_rcv = RandomizedSearchCV(modelo, parametros, cv=folds, scoring = metrica)\n",
    "    modelo_rcv.fit(x_train.review_es, y_train)\n",
    "    dump(modelo_rcv, 'modelos/TP2/hipers_xgb.joblib')\n",
    "else: \n",
    "    metrica = make_scorer(sklearn.metrics.f1_score)\n",
    "    modelo_rcv = load('modelos/TP2/hipers_xgb.joblib')"
   ]
  },
  {
   "cell_type": "code",
   "execution_count": 35,
   "id": "8e5a2e1c",
   "metadata": {},
   "outputs": [],
   "source": [
    "# print(\"F1-Score del modelo: \" + modelo_rcv.best_score_)\n",
    "# print(\"Hiperparametros del modelo con mejor F1-Score:\" + modelo_rcv.best_params_)"
   ]
  },
  {
   "cell_type": "markdown",
   "id": "b4585b50",
   "metadata": {},
   "source": [
    "Entrenamos un nuevo modelo usando los hiperparametros encontrados en la busqueda anterior "
   ]
  },
  {
   "cell_type": "code",
   "execution_count": 36,
   "id": "1405c943",
   "metadata": {},
   "outputs": [],
   "source": [
    "if not exists('modelos/TP2/xgb_tuneado.joblib'):\n",
    "    mejores_parametros = modelo_rcv.best_params_\n",
    "\n",
    "    modelo_final = Pipeline(steps=[('tfidfvectorizer', TfidfVectorizer(stop_words=mejores_parametros['tfidfvectorizer__stop_words'],\n",
    "                                                                   max_df=mejores_parametros['tfidfvectorizer__max_df'],\n",
    "                                                                   min_df=mejores_parametros['tfidfvectorizer__min_df'],\n",
    "                                                                   ngram_range=mejores_parametros['tfidfvectorizer__ngram_range'])),\n",
    "                                   ('xgbclassifier', XGBClassifier(n_estimators=mejores_parametros['xgbclassifier__n_estimators'],\n",
    "                                                                  max_depth=mejores_parametros['xgbclassifier__max_depth'],\n",
    "                                                                  learning_rate=mejores_parametros['xgbclassifier__learning_rate']))])\n",
    "\n",
    "    modelo_final.fit(x_train.review_es, y_train_transformed)\n",
    "else:\n",
    "    xgb_tuneado = load('modelos/TP2/xgb_tuneado.joblib')"
   ]
  },
  {
   "cell_type": "markdown",
   "id": "49cd0725",
   "metadata": {},
   "source": [
    "Realizo validacion cruzada del modelo para observar su comportamiento *nota* TARDA MUCHISIMO"
   ]
  },
  {
   "cell_type": "code",
   "execution_count": 37,
   "id": "d2c3db59",
   "metadata": {},
   "outputs": [],
   "source": [
    "if not exists('modelos/TP2/xgb_metricas.joblib'):\n",
    "    kfoldcv =StratifiedKFold(n_splits=10)\n",
    "    resultados_xgb = cross_validate(xgb_tuneado, x_train.review_es, \n",
    "                                    y_train_transformed, cv=kfoldcv,\n",
    "                                    scoring=metrica ,return_estimator=True)\n",
    "    metricas_xgb = resultados_xgb['test_score']\n",
    "    dump(metricas_xgb, 'modelos/TP2/xgb_metricas.joblib')\n",
    "    xgb_tuneado = resultados_xgb['estimator'][np.where(metricas_xgb==max(metricas_xgb))[0][0]]\n",
    "else: \n",
    "    metricas_xgb = load('modelos/TP2/xgb_metricas.joblib')\n"
   ]
  },
  {
   "cell_type": "code",
   "execution_count": 38,
   "id": "fffe7aad",
   "metadata": {},
   "outputs": [
    {
     "data": {
      "text/plain": [
       "Text(0.5, 1.0, 'Modelo entrenado con 10 folds')"
      ]
     },
     "execution_count": 38,
     "metadata": {},
     "output_type": "execute_result"
    },
    {
     "data": {
      "image/png": "[encoded data removed]",
      "text/plain": [
       "<Figure size 600x500 with 1 Axes>"
      ]
     },
     "metadata": {},
     "output_type": "display_data"
    }
   ],
   "source": [
    "metric_labelsCV = ['F1 Score']*len(metricas_xgb)\n",
    "sns.set_context('talk')\n",
    "sns.set_style(\"darkgrid\")\n",
    "plt.figure(figsize=(6,5))\n",
    "sns.boxplot(metricas_xgb)\n",
    "plt.title(\"Modelo entrenado con 10 folds\")"
   ]
  },
  {
   "cell_type": "markdown",
   "id": "03543fd4",
   "metadata": {},
   "source": [
    "Notas sobre XGBoost\n",
    "\n",
    "El XGBoost más efectivo con un score en kaggle de 0.72 fue generando usando unicamente el conjunto de hiperparametros correspondiente al XGboost y tan solo modificando las stopwords en el procesamiento del texto, sin embargo, se realizo multiples pruebas con multiples hiperparametros y esas busquedas son las reflejadas en el analisis \n",
    "\n",
    "# Red Neuronal\n",
    "\n",
    "## Pre tokenizacion\n",
    "Antes de tokenizar las reviews, vamos a hacer una pequena limpieza adicional.\n"
   ]
  },
  {
   "cell_type": "code",
   "execution_count": 39,
   "id": "926dd61f",
   "metadata": {
    "scrolled": false
   },
   "outputs": [],
   "source": [
    "if not exists('reviews_filtradas.csv'):\n",
    "    frasesFiltradas = []\n",
    "    for index, value in reviewDf_espanol[\"review_es\"].items():\n",
    "        #Ponemos todas las palabras en lowercase\n",
    "        value = value.lower()\n",
    "\n",
    "        #Saco las stopwords\n",
    "        valueFiltrado = [x for x in value.split() if x not in stopwords_es]\n",
    "        #Vuelvo a unir el texto\n",
    "        valueFiltrado = \" \".join(valueFiltrado)\n",
    "\n",
    "        #Saca los diacriticos de letras como vocales, etc (la ñ se mantiene)\n",
    "        #Expresion regular obtenida de: https://es.stackoverflow.com/a/139811\n",
    "        valueFiltrado = re.sub(r\"([^n\\u0300-\\u036f]|n(?!\\u0303(?![\\u0300-\\u036f])))[\\u0300-\\u036f]+\", r\"\\1\", \n",
    "                                normalize( \"NFD\", valueFiltrado), 0, re.I)\n",
    "        valueFiltrado = normalize( 'NFC', valueFiltrado)\n",
    "\n",
    "        #Saco los signos de puntuacion\n",
    "        #Funcion obtenida de: https://stackoverflow.com/a/266162/13683575\n",
    "        valueFiltrado =  valueFiltrado.translate(str.maketrans('', '', string.punctuation))\n",
    "        valueFiltrado =  valueFiltrado.translate(str.maketrans('', '', '¡'))\n",
    "        valueFiltrado =  valueFiltrado.translate(str.maketrans('', '', '¿'))\n",
    "        \n",
    "        #Anadimos la frase a la lista de frases filtradas\n",
    "        frasesFiltradas.append(valueFiltrado)\n",
    "    reviewDfFiltrado = pd.DataFrame(data={'review_es':frasesFiltradas, 'sentimiento':reviewDf_espanol['sentimiento']})\n",
    "    reviewDfFiltrado.to_csv('reviews_filtradas.csv', index=False)\n",
    "\n",
    "else:\n",
    "    reviewDfFiltrado = pd.read_csv(\"./reviews_filtradas.csv\")"
   ]
  },
  {
   "cell_type": "code",
   "execution_count": 40,
   "id": "86a8ea27",
   "metadata": {},
   "outputs": [
    {
     "data": {
      "text/html": [
       "<div>\n",
       "<style scoped>\n",
       "    .dataframe tbody tr th:only-of-type {\n",
       "        vertical-align: middle;\n",
       "    }\n",
       "\n",
       "    .dataframe tbody tr th {\n",
       "        vertical-align: top;\n",
       "    }\n",
       "\n",
       "    .dataframe thead th {\n",
       "        text-align: right;\n",
       "    }\n",
       "</style>\n",
       "<table border=\"1\" class=\"dataframe\">\n",
       "  <thead>\n",
       "    <tr style=\"text-align: right;\">\n",
       "      <th></th>\n",
       "      <th>review_es</th>\n",
       "      <th>sentimiento</th>\n",
       "    </tr>\n",
       "  </thead>\n",
       "  <tbody>\n",
       "    <tr>\n",
       "      <th>0</th>\n",
       "      <td>criticos mencionado despues ver solo 1 oz epis...</td>\n",
       "      <td>positivo</td>\n",
       "    </tr>\n",
       "    <tr>\n",
       "      <th>1</th>\n",
       "      <td>pequeña pequeña produccionla tecnica filmacion...</td>\n",
       "      <td>positivo</td>\n",
       "    </tr>\n",
       "    <tr>\n",
       "      <th>2</th>\n",
       "      <td>pense manera maravillosa pasar tiempo fin sema...</td>\n",
       "      <td>positivo</td>\n",
       "    </tr>\n",
       "    <tr>\n",
       "      <th>3</th>\n",
       "      <td>basicamente familia niño pequeño jake piensa z...</td>\n",
       "      <td>negativo</td>\n",
       "    </tr>\n",
       "    <tr>\n",
       "      <th>4</th>\n",
       "      <td>amor tiempo petter mattei pelicula visualmente...</td>\n",
       "      <td>positivo</td>\n",
       "    </tr>\n",
       "    <tr>\n",
       "      <th>...</th>\n",
       "      <td>...</td>\n",
       "      <td>...</td>\n",
       "    </tr>\n",
       "    <tr>\n",
       "      <th>48279</th>\n",
       "      <td>pense pelicula hizo buen trabajo derechano tan...</td>\n",
       "      <td>positivo</td>\n",
       "    </tr>\n",
       "    <tr>\n",
       "      <th>48280</th>\n",
       "      <td>mala parcela mal dialogo mala actuacion direcc...</td>\n",
       "      <td>negativo</td>\n",
       "    </tr>\n",
       "    <tr>\n",
       "      <th>48281</th>\n",
       "      <td>catolica enseñada escuelas primarias parroquia...</td>\n",
       "      <td>negativo</td>\n",
       "    </tr>\n",
       "    <tr>\n",
       "      <th>48282</th>\n",
       "      <td>voy tener desacuerdo comentario anterior lado ...</td>\n",
       "      <td>negativo</td>\n",
       "    </tr>\n",
       "    <tr>\n",
       "      <th>48283</th>\n",
       "      <td>nadie espera peliculas star trek altas artes f...</td>\n",
       "      <td>negativo</td>\n",
       "    </tr>\n",
       "  </tbody>\n",
       "</table>\n",
       "<p>48284 rows × 2 columns</p>\n",
       "</div>"
      ],
      "text/plain": [
       "                                               review_es sentimiento\n",
       "0      criticos mencionado despues ver solo 1 oz epis...    positivo\n",
       "1      pequeña pequeña produccionla tecnica filmacion...    positivo\n",
       "2      pense manera maravillosa pasar tiempo fin sema...    positivo\n",
       "3      basicamente familia niño pequeño jake piensa z...    negativo\n",
       "4      amor tiempo petter mattei pelicula visualmente...    positivo\n",
       "...                                                  ...         ...\n",
       "48279  pense pelicula hizo buen trabajo derechano tan...    positivo\n",
       "48280  mala parcela mal dialogo mala actuacion direcc...    negativo\n",
       "48281  catolica enseñada escuelas primarias parroquia...    negativo\n",
       "48282  voy tener desacuerdo comentario anterior lado ...    negativo\n",
       "48283  nadie espera peliculas star trek altas artes f...    negativo\n",
       "\n",
       "[48284 rows x 2 columns]"
      ]
     },
     "execution_count": 40,
     "metadata": {},
     "output_type": "execute_result"
    }
   ],
   "source": [
    "reviewDfFiltrado"
   ]
  },
  {
   "cell_type": "markdown",
   "id": "b7d2b2f6",
   "metadata": {},
   "source": [
    "## Creacion de los sets de entrenamiento"
   ]
  },
  {
   "cell_type": "markdown",
   "id": "1f3255ad",
   "metadata": {},
   "source": [
    "Transformamos la columna objetivo de \"positivo\" y \"negativo\" a 0 y 1 para poder usarlos en la red neuronal"
   ]
  },
  {
   "cell_type": "code",
   "execution_count": 41,
   "id": "2d8db401",
   "metadata": {},
   "outputs": [
    {
     "data": {
      "text/plain": [
       "array([1, 1, 1, ..., 0, 0, 0])"
      ]
     },
     "execution_count": 41,
     "metadata": {},
     "output_type": "execute_result"
    }
   ],
   "source": [
    "y = reviewDfFiltrado['sentimiento']\n",
    "y = np.array(list(map(lambda x: 1 if x==\"positivo\" else 0, y)))\n",
    "y"
   ]
  },
  {
   "cell_type": "markdown",
   "id": "ec954bcd",
   "metadata": {},
   "source": [
    "Creamos set de train y test"
   ]
  },
  {
   "cell_type": "code",
   "execution_count": 42,
   "id": "fdfcb7b8",
   "metadata": {
    "lines_to_next_cell": 2
   },
   "outputs": [],
   "source": [
    "x_train, x_test, y_train, y_test = train_test_split(reviewDfFiltrado[\"review_es\"],\n",
    "                                                    y, \n",
    "                                                    test_size=0.3,  #proporcion 70/30\n",
    "                                                    random_state=SEED) #Semilla 9, como el Equipo !!"
   ]
  },
  {
   "cell_type": "markdown",
   "id": "858bdc46",
   "metadata": {},
   "source": [
    "Creamos el vocabulario en base a nuestro set de train. Las palabras van a estar ordenadas por su frecuencia"
   ]
  },
  {
   "cell_type": "code",
   "execution_count": 43,
   "id": "827cf816",
   "metadata": {},
   "outputs": [],
   "source": [
    "vocabulary = Counter()\n",
    "for fila in x_train:\n",
    "    fila = fila.split()\n",
    "    for i in range(0, len(fila)):\n",
    "        fila[i] = bytes(fila[i], 'utf-8')\n",
    "    vocabulary.update(list(fila))\n"
   ]
  },
  {
   "cell_type": "markdown",
   "id": "dede2139",
   "metadata": {},
   "source": [
    "Vamos a ver si el vocabulario se genero correctamente"
   ]
  },
  {
   "cell_type": "code",
   "execution_count": 44,
   "id": "e4c1d989",
   "metadata": {},
   "outputs": [
    {
     "data": {
      "text/plain": [
       "[(b'si', 24964), (b'solo', 19583), (b'peliculas', 19506), (b'ser', 18017)]"
      ]
     },
     "execution_count": 44,
     "metadata": {},
     "output_type": "execute_result"
    }
   ],
   "source": [
    "vocabulary.most_common()[1:5]"
   ]
  },
  {
   "cell_type": "markdown",
   "id": "f43ab1d2",
   "metadata": {},
   "source": [
    "Vemos que la palabra mas frecuente es \"pelicula\", cosa que hace sentido.\n",
    "\n",
    "Si no hubiesemos hecho el proceso de remocion de stopwords, es probable que la palabra mas frecuente seria una preposicion"
   ]
  },
  {
   "cell_type": "markdown",
   "id": "7e45f898",
   "metadata": {},
   "source": [
    "Para reducir el tamaño del vocabulario, vamos a quedarnos solamente con las 10000 palabras mas frecuentes."
   ]
  },
  {
   "cell_type": "code",
   "execution_count": 45,
   "id": "39f99760",
   "metadata": {},
   "outputs": [],
   "source": [
    "vocab_size = 10000\n",
    "truncated_vocabulary = [\n",
    "word for word, count in vocabulary.most_common()[:vocab_size]]"
   ]
  },
  {
   "cell_type": "markdown",
   "id": "18b6ce20",
   "metadata": {},
   "source": [
    "Vamos a crear una tabla que asocia cada palabra del diccionario con su coordena (la cual representa su frecuencia en el dataset de entrenamiento)"
   ]
  },
  {
   "cell_type": "code",
   "execution_count": 46,
   "id": "6e8ffd82",
   "metadata": {},
   "outputs": [],
   "source": [
    "table = {}\n",
    "for i in range(0, len(truncated_vocabulary)):\n",
    "    table[truncated_vocabulary[i]] = i"
   ]
  },
  {
   "cell_type": "code",
   "execution_count": 47,
   "id": "310c4e61",
   "metadata": {},
   "outputs": [
    {
     "data": {
      "text/plain": [
       "{b'pelicula': 0,\n",
       " b'si': 1,\n",
       " b'solo': 2,\n",
       " b'peliculas': 3,\n",
       " b'ser': 4,\n",
       " b'historia': 5,\n",
       " b'tan': 6,\n",
       " b'ver': 7,\n",
       " b'realmente': 8,\n",
       " b'vez': 9,\n",
       " b'mejor': 10,\n",
       " b'bien': 11,\n",
       " b'gran': 12,\n",
       " b'puede': 13,\n",
       " b'hace': 14,\n",
       " b'tiempo': 15,\n",
       " b'despues': 16,\n",
       " b'hecho': 17,\n",
       " b'a\\xc3\\xb1os': 18,\n",
       " b'personajes': 19,\n",
       " b'personas': 20,\n",
       " b'vida': 21,\n",
       " b'final': 22,\n",
       " b'incluso': 23,\n",
       " b'dos': 24,\n",
       " b'parte': 25,\n",
       " b'y': 26,\n",
       " b'como': 27,\n",
       " b'bastante': 28,\n",
       " b'visto': 29,\n",
       " b'asi': 30,\n",
       " b'hacer': 31,\n",
       " b'que': 32,\n",
       " b'nunca': 33,\n",
       " b'podria': 34,\n",
       " b'lugar': 35,\n",
       " b'menos': 36,\n",
       " b'simplemente': 37,\n",
       " b'haber': 38,\n",
       " b'embargo': 39,\n",
       " b'actuacion': 40,\n",
       " b'tipo': 41,\n",
       " b'parece': 42,\n",
       " b'escena': 43,\n",
       " b'buena': 44,\n",
       " b'bueno': 45,\n",
       " b'hombre': 46,\n",
       " b'aqui': 47,\n",
       " b'aunque': 48,\n",
       " b'decir': 49,\n",
       " b'escenas': 50,\n",
       " b'manera': 51,\n",
       " b'sido': 52,\n",
       " b'mientras': 53,\n",
       " b'trabajo': 54,\n",
       " b'cada': 55,\n",
       " b'cualquier': 56,\n",
       " b'el': 57,\n",
       " b'cosas': 58,\n",
       " b'demasiado': 59,\n",
       " b'hizo': 60,\n",
       " b'actores': 61,\n",
       " b'creo': 62,\n",
       " b'personaje': 63,\n",
       " b'primera': 64,\n",
       " b'casi': 65,\n",
       " b'luego': 66,\n",
       " b'director': 67,\n",
       " b'mismo': 68,\n",
       " b'ahora': 69,\n",
       " b'puedo': 70,\n",
       " b'no': 71,\n",
       " b'siempre': 72,\n",
       " b'mal': 73,\n",
       " b'veces': 74,\n",
       " b'trama': 75,\n",
       " b'traves': 76,\n",
       " b'realidad': 77,\n",
       " b'toda': 78,\n",
       " b'debe': 79,\n",
       " b'mayoria': 80,\n",
       " b'todas': 81,\n",
       " b'serie': 82,\n",
       " b'tal': 83,\n",
       " b'momento': 84,\n",
       " b'entonces': 85,\n",
       " b'the': 86,\n",
       " b'muchas': 87,\n",
       " b'esto': 88,\n",
       " b'cine': 89,\n",
       " b'comedia': 90,\n",
       " b'es': 91,\n",
       " b'casa': 92,\n",
       " b'minutos': 93,\n",
       " b'mundo': 94,\n",
       " b'accion': 95,\n",
       " b'tener': 96,\n",
       " b'alguien': 97,\n",
       " b'buen': 98,\n",
       " b'aun': 99,\n",
       " b'ni\\xc3\\xb1os': 100,\n",
       " b'forma': 101,\n",
       " b'mejores': 102,\n",
       " b'real': 103,\n",
       " b'mala': 104,\n",
       " b'musica': 105,\n",
       " b'punto': 106,\n",
       " b'vi': 107,\n",
       " b'amor': 108,\n",
       " b'cuenta': 109,\n",
       " b'nuevo': 110,\n",
       " b'cosa': 111,\n",
       " b'peor': 112,\n",
       " b'general': 113,\n",
       " b'papel': 114,\n",
       " b'especialmente': 115,\n",
       " b'todavia': 116,\n",
       " b'ninguna': 117,\n",
       " b'divertido': 118,\n",
       " b'eso': 119,\n",
       " b'pena': 120,\n",
       " b'original': 121,\n",
       " b'excelente': 122,\n",
       " b'espectaculo': 123,\n",
       " b'probablemente': 124,\n",
       " b'guion': 125,\n",
       " b'ni\\xc3\\xb1o': 126,\n",
       " b'pueden': 127,\n",
       " b'10': 128,\n",
       " b'television': 129,\n",
       " b'dia': 130,\n",
       " b'mujer': 131,\n",
       " b'malo': 132,\n",
       " b'alguna': 133,\n",
       " b've': 134,\n",
       " b'pantalla': 135,\n",
       " b'por': 136,\n",
       " b'joven': 137,\n",
       " b'encuentra': 138,\n",
       " b'razon': 139,\n",
       " b'dvd': 140,\n",
       " b'mayor': 141,\n",
       " b'da': 142,\n",
       " b'deberia': 143,\n",
       " b'completamente': 144,\n",
       " b'horrible': 145,\n",
       " b'siquiera': 146,\n",
       " b'persona': 147,\n",
       " b'interesante': 148,\n",
       " b'se': 149,\n",
       " b'principal': 150,\n",
       " b'dialogo': 151,\n",
       " b'la': 152,\n",
       " b'efectos': 153,\n",
       " b'supuesto': 154,\n",
       " b'guerra': 155,\n",
       " b'hacen': 156,\n",
       " b'tres': 157,\n",
       " b'grandes': 158,\n",
       " b'parcela': 159,\n",
       " b'sino': 160,\n",
       " b'familia': 161,\n",
       " b'dificil': 162,\n",
       " b'idea': 163,\n",
       " b'muestra': 164,\n",
       " b'actor': 165,\n",
       " b'version': 166,\n",
       " b'siendo': 167,\n",
       " b'unica': 168,\n",
       " b'dice': 169,\n",
       " b'ciudad': 170,\n",
       " b'dinero': 171,\n",
       " b'2': 172,\n",
       " b'bajo': 173,\n",
       " b'gente': 174,\n",
       " b'padre': 175,\n",
       " b'trata': 176,\n",
       " b'libro': 177,\n",
       " b'va': 178,\n",
       " b'audiencia': 179,\n",
       " b'puedes': 180,\n",
       " b'gusta': 181,\n",
       " b'unico': 182,\n",
       " b'misma': 183,\n",
       " b'pero': 184,\n",
       " b'noche': 185,\n",
       " b'primer': 186,\n",
       " b'muerte': 187,\n",
       " b'algun': 188,\n",
       " b'humor': 189,\n",
       " b'esposa': 190,\n",
       " b'alli': 191,\n",
       " b'john': 192,\n",
       " b'nueva': 193,\n",
       " b'mas': 194,\n",
       " b'verlo': 195,\n",
       " b'nadie': 196,\n",
       " b'horror': 197,\n",
       " b'pense': 198,\n",
       " b'amigos': 199,\n",
       " b'hombres': 200,\n",
       " b'todo': 201,\n",
       " b'pesar': 202,\n",
       " b'hacia': 203,\n",
       " b'linea': 204,\n",
       " b'seguro': 205,\n",
       " b'quien': 206,\n",
       " b'camara': 207,\n",
       " b'encontrar': 208,\n",
       " b'juego': 209,\n",
       " b'debido': 210,\n",
       " b'lado': 211,\n",
       " b'increible': 212,\n",
       " b'comienza': 213,\n",
       " b'ningun': 214,\n",
       " b'largo': 215,\n",
       " b'ella': 216,\n",
       " b'caracter': 217,\n",
       " b'caso': 218,\n",
       " b'vale': 219,\n",
       " b'sigue': 220,\n",
       " b'problemas': 221,\n",
       " b'terror': 222,\n",
       " b'momentos': 223,\n",
       " b'estilo': 224,\n",
       " b'gusto': 225,\n",
       " b'camino': 226,\n",
       " b'produccion': 227,\n",
       " b'mujeres': 228,\n",
       " b'direccion': 229,\n",
       " b'actuaciones': 230,\n",
       " b'mi': 231,\n",
       " b'haciendo': 232,\n",
       " b'presupuesto': 233,\n",
       " b'ejemplo': 234,\n",
       " b'juega': 235,\n",
       " b'madre': 236,\n",
       " b'finalmente': 237,\n",
       " b'hollywood': 238,\n",
       " b'hicieron': 239,\n",
       " b'agradable': 240,\n",
       " b'problema': 241,\n",
       " b'principio': 242,\n",
       " b'ademas': 243,\n",
       " b'peque\\xc3\\xb1a': 244,\n",
       " b'imagenes': 245,\n",
       " b'quiere': 246,\n",
       " b'resto': 247,\n",
       " b'ni\\xc3\\xb1a': 248,\n",
       " b'suficiente': 249,\n",
       " b'grande': 250,\n",
       " b'terrible': 251,\n",
       " b'absolutamente': 252,\n",
       " b'ir': 253,\n",
       " b'ultima': 254,\n",
       " b'divertida': 255,\n",
       " b'nombre': 256,\n",
       " b'totalmente': 257,\n",
       " b'lleva': 258,\n",
       " b'tratando': 259,\n",
       " b'chico': 260,\n",
       " b'buenos': 261,\n",
       " b'tarde': 262,\n",
       " b'episodio': 263,\n",
       " b'parecia': 264,\n",
       " b'ojos': 265,\n",
       " b'lineas': 266,\n",
       " b'partes': 267,\n",
       " b'grupo': 268,\n",
       " b'definitivamente': 269,\n",
       " b'escuela': 270,\n",
       " b'obtener': 271,\n",
       " b'vea': 272,\n",
       " b'sangre': 273,\n",
       " b'policia': 274,\n",
       " b'amigo': 275,\n",
       " b'peque\\xc3\\xb1o': 276,\n",
       " b'alrededor': 277,\n",
       " b'voz': 278,\n",
       " b'medida': 279,\n",
       " b'asesino': 280,\n",
       " b'cabeza': 281,\n",
       " b'mente': 282,\n",
       " b'hijo': 283,\n",
       " b'fanaticos': 284,\n",
       " b'medio': 285,\n",
       " b'estrellas': 286,\n",
       " b'3': 287,\n",
       " b'en': 288,\n",
       " b'pensar': 289,\n",
       " b'carrera': 290,\n",
       " b'programa': 291,\n",
       " b'imagen': 292,\n",
       " b'basura': 293,\n",
       " b'calidad': 294,\n",
       " b'convierte': 295,\n",
       " b'par': 296,\n",
       " b'aquellos': 297,\n",
       " b'fanatico': 298,\n",
       " b'titulo': 299,\n",
       " b'usted': 300,\n",
       " b'tema': 301,\n",
       " b'dias': 302,\n",
       " b'igual': 303,\n",
       " b'hoy': 304,\n",
       " b'video': 305,\n",
       " b'ellos': 306,\n",
       " b'falta': 307,\n",
       " b'verdadero': 308,\n",
       " b'suficientemente': 309,\n",
       " b'de': 310,\n",
       " b'segunda': 311,\n",
       " b'cerca': 312,\n",
       " b'menudo': 313,\n",
       " b'mitad': 314,\n",
       " b'encontre': 315,\n",
       " b'genial': 316,\n",
       " b'drama': 317,\n",
       " b'of': 318,\n",
       " b'cualquiera': 319,\n",
       " b'buenas': 320,\n",
       " b'decada': 321,\n",
       " b'a\\xc3\\xb1o': 322,\n",
       " b'corazon': 323,\n",
       " b'podia': 324,\n",
       " b'banda': 325,\n",
       " b'aburrido': 326,\n",
       " b'tambien': 327,\n",
       " b'absoluto': 328,\n",
       " b'1': 329,\n",
       " b'parecen': 330,\n",
       " b'tanto': 331,\n",
       " b'hora': 332,\n",
       " b'van': 333,\n",
       " b'especiales': 334,\n",
       " b'elenco': 335,\n",
       " b'importante': 336,\n",
       " b'brillante': 337,\n",
       " b'hermosa': 338,\n",
       " b'primero': 339,\n",
       " b'supongo': 340,\n",
       " b'diferente': 341,\n",
       " b'intenta': 342,\n",
       " b'sr': 343,\n",
       " b'michael': 344,\n",
       " b'viendo': 345,\n",
       " b'quiero': 346,\n",
       " b'reparto': 347,\n",
       " b'posible': 348,\n",
       " b'estrella': 349,\n",
       " b'ambos': 350,\n",
       " b'encanto': 351,\n",
       " b'exito': 352,\n",
       " b'cierto': 353,\n",
       " b'lucha': 354,\n",
       " b'arte': 355,\n",
       " b'dios': 356,\n",
       " b'tierra': 357,\n",
       " b'viaje': 358,\n",
       " b'sexo': 359,\n",
       " b'etc': 360,\n",
       " b'ciertamente': 361,\n",
       " b'intento': 362,\n",
       " b'espectador': 363,\n",
       " b'podrian': 364,\n",
       " b'obra': 365,\n",
       " b'pieza': 366,\n",
       " b'genero': 367,\n",
       " b'inteligente': 368,\n",
       " b'aparentemente': 369,\n",
       " b'deben': 370,\n",
       " b'oportunidad': 371,\n",
       " b'fuerte': 372,\n",
       " b'actriz': 373,\n",
       " b'palabras': 374,\n",
       " b'esta': 375,\n",
       " b'oh': 376,\n",
       " b'creer': 377,\n",
       " b'vista': 378,\n",
       " b'cuanto': 379,\n",
       " b'pasado': 380,\n",
       " b'alla': 381,\n",
       " b'demas': 382,\n",
       " b'dentro': 383,\n",
       " b'donde': 384,\n",
       " b'a': 385,\n",
       " b'extra\\xc3\\xb1o': 386,\n",
       " b'toma': 387,\n",
       " b'este': 388,\n",
       " b'siento': 389,\n",
       " b'miedo': 390,\n",
       " b'uso': 391,\n",
       " b'jovenes': 392,\n",
       " b'junto': 393,\n",
       " b'necesita': 394,\n",
       " b'propia': 395,\n",
       " b'horas': 396,\n",
       " b'principales': 397,\n",
       " b'sabe': 398,\n",
       " b'importa': 399,\n",
       " b'edad': 400,\n",
       " b'o': 401,\n",
       " b'relacion': 402,\n",
       " b'disfrute': 403,\n",
       " b'cantidad': 404,\n",
       " b'historias': 405,\n",
       " b'asesinato': 406,\n",
       " b'ciencia': 407,\n",
       " b'favor': 408,\n",
       " b'opinion': 409,\n",
       " b'hija': 410,\n",
       " b'extremadamente': 411,\n",
       " b'acuerdo': 412,\n",
       " b'obviamente': 413,\n",
       " b'serio': 414,\n",
       " b'modos': 415,\n",
       " b'primeros': 416,\n",
       " b'ultimo': 417,\n",
       " b'and': 418,\n",
       " b'excepto': 419,\n",
       " b'diferentes': 420,\n",
       " b'poder': 421,\n",
       " b'violencia': 422,\n",
       " b'mucha': 423,\n",
       " b'lejos': 424,\n",
       " b'mucho': 425,\n",
       " b'ayuda': 426,\n",
       " b'clase': 427,\n",
       " b'movimiento': 428,\n",
       " b'propio': 429,\n",
       " b'todos': 430,\n",
       " b'sonido': 431,\n",
       " b'tomar': 432,\n",
       " b'clasico': 433,\n",
       " b'verdaderamente': 434,\n",
       " b'dijo': 435,\n",
       " b'pronto': 436,\n",
       " b'comentarios': 437,\n",
       " b'verdad': 438,\n",
       " b'deja': 439,\n",
       " b'saber': 440,\n",
       " b'cara': 441,\n",
       " b'estadounidense': 442,\n",
       " b'varias': 443,\n",
       " b'triste': 444,\n",
       " b'increiblemente': 445,\n",
       " b'atencion': 446,\n",
       " b'detras': 447,\n",
       " b'pobre': 448,\n",
       " b'exactamente': 449,\n",
       " b'tiempos': 450,\n",
       " b'hablar': 451,\n",
       " b'negro': 452,\n",
       " b'ficcion': 453,\n",
       " b'james': 454,\n",
       " b'queria': 455,\n",
       " b'disparo': 456,\n",
       " b'robert': 457,\n",
       " b'supone': 458,\n",
       " b'equipo': 459,\n",
       " b'malos': 460,\n",
       " b'experiencia': 461,\n",
       " b'pasa': 462,\n",
       " b'dio': 463,\n",
       " b'llamado': 464,\n",
       " b'dado': 465,\n",
       " b'david': 466,\n",
       " b'escritor': 467,\n",
       " b'justo': 468,\n",
       " b'escritura': 469,\n",
       " b'desempe\\xc3\\xb1o': 470,\n",
       " b'chica': 471,\n",
       " b'pueda': 472,\n",
       " b'segundo': 473,\n",
       " b'cinematografia': 474,\n",
       " b'sensacion': 475,\n",
       " b'b': 476,\n",
       " b'vuelve': 477,\n",
       " b'5': 478,\n",
       " b'hermano': 479,\n",
       " b'rendimiento': 480,\n",
       " b'fondo': 481,\n",
       " b'aspecto': 482,\n",
       " b'roles': 483,\n",
       " b'monton': 484,\n",
       " b'talento': 485,\n",
       " b'completo': 486,\n",
       " b'interes': 487,\n",
       " b'varios': 488,\n",
       " b'pasar': 489,\n",
       " b'4': 490,\n",
       " b'acerca': 491,\n",
       " b'teatro': 492,\n",
       " b'hecha': 493,\n",
       " b'tampoco': 494,\n",
       " b'ritmo': 495,\n",
       " b'episodios': 496,\n",
       " b'hacerlo': 497,\n",
       " b'cancion': 498,\n",
       " b'nada': 499,\n",
       " b'verdadera': 500,\n",
       " b'peores': 501,\n",
       " b'jugar': 502,\n",
       " b'cuatro': 503,\n",
       " b'mierda': 504,\n",
       " b'completa': 505,\n",
       " b'heroe': 506,\n",
       " b'cambio': 507,\n",
       " b'documental': 508,\n",
       " b'alto': 509,\n",
       " b'esperaba': 510,\n",
       " b'esperando': 511,\n",
       " b'desafortunadamente': 512,\n",
       " b'rapido': 513,\n",
       " b'alta': 514,\n",
       " b'un': 515,\n",
       " b'diferencia': 516,\n",
       " b'nivel': 517,\n",
       " b'sentido': 518,\n",
       " b'viene': 519,\n",
       " b'una': 520,\n",
       " b'padres': 521,\n",
       " b'termina': 522,\n",
       " b'jack': 523,\n",
       " b'palabra': 524,\n",
       " b'ultimos': 525,\n",
       " b'superior': 526,\n",
       " b'perdida': 527,\n",
       " b'pone': 528,\n",
       " b'juntos': 529,\n",
       " b'llena': 530,\n",
       " b'mano': 531,\n",
       " b'los': 532,\n",
       " b'chicos': 533,\n",
       " b'recuerdo': 534,\n",
       " b'encuentran': 535,\n",
       " b'mira': 536,\n",
       " b'esperar': 537,\n",
       " b'esfuerzo': 538,\n",
       " b'blanco': 539,\n",
       " b'reales': 540,\n",
       " b'quizas': 541,\n",
       " b'antes': 542,\n",
       " b'escrito': 543,\n",
       " b'chicas': 544,\n",
       " b'simple': 545,\n",
       " b'mostrar': 546,\n",
       " b'quieres': 547,\n",
       " b'claramente': 548,\n",
       " b'decente': 549,\n",
       " b'jugando': 550,\n",
       " b'malas': 551,\n",
       " b'canciones': 552,\n",
       " b'novela': 553,\n",
       " b'cuerpo': 554,\n",
       " b'pocos': 555,\n",
       " b'80': 556,\n",
       " b'pocas': 557,\n",
       " b'puntos': 558,\n",
       " b'apoyo': 559,\n",
       " b'matar': 560,\n",
       " b'paso': 561,\n",
       " b'media': 562,\n",
       " b'show': 563,\n",
       " b'calificacion': 564,\n",
       " b'fin': 565,\n",
       " b'espero': 566,\n",
       " b'edicion': 567,\n",
       " b'vemos': 568,\n",
       " b'apertura': 569,\n",
       " b'secuencia': 570,\n",
       " b'secuela': 571,\n",
       " b'salir': 572,\n",
       " b'ninguno': 573,\n",
       " b'funciona': 574,\n",
       " b'eventos': 575,\n",
       " b'tv': 576,\n",
       " b'suspenso': 577,\n",
       " b'senti': 578,\n",
       " b'pais': 579,\n",
       " b'duda': 580,\n",
       " b'thriller': 581,\n",
       " b'veo': 582,\n",
       " b'excelentes': 583,\n",
       " b'aburrida': 584,\n",
       " b'perfecto': 585,\n",
       " b'entretenimiento': 586,\n",
       " b'molesto': 587,\n",
       " b'sucede': 588,\n",
       " b'extra\\xc3\\xb1a': 589,\n",
       " b'encanta': 590,\n",
       " b'hijos': 591,\n",
       " b'novia': 592,\n",
       " b'impresionante': 593,\n",
       " b'lee': 594,\n",
       " b'facil': 595,\n",
       " b'convincente': 596,\n",
       " b'cinco': 597,\n",
       " b'diez': 598,\n",
       " b'evitar': 599,\n",
       " b'espectadores': 600,\n",
       " b'pareja': 601,\n",
       " b'recomiendo': 602,\n",
       " b'dan': 603,\n",
       " b'particular': 604,\n",
       " b'sabia': 605,\n",
       " b'basicamente': 606,\n",
       " b'unidos': 607,\n",
       " b'ingles': 608,\n",
       " b'mirar': 609,\n",
       " b'habla': 610,\n",
       " b'sonora': 611,\n",
       " b'muerto': 612,\n",
       " b'george': 613,\n",
       " b'principalmente': 614,\n",
       " b'apenas': 615,\n",
       " b'luz': 616,\n",
       " b'pregunta': 617,\n",
       " b'especial': 618,\n",
       " b'volver': 619,\n",
       " b'elementos': 620,\n",
       " b'facilmente': 621,\n",
       " b'gore': 622,\n",
       " b'vidas': 623,\n",
       " b'mantener': 624,\n",
       " b'hermana': 625,\n",
       " b'musical': 626,\n",
       " b'resultado': 627,\n",
       " b'dejar': 628,\n",
       " b'similar': 629,\n",
       " b'york': 630,\n",
       " b'tienda': 631,\n",
       " b'mensaje': 632,\n",
       " b'ven': 633,\n",
       " b'realista': 634,\n",
       " b'dr': 635,\n",
       " b'peque\\xc3\\xb1os': 636,\n",
       " b'comentario': 637,\n",
       " b'interesantes': 638,\n",
       " b'especie': 639,\n",
       " b'situacion': 640,\n",
       " b'claro': 641,\n",
       " b'material': 642,\n",
       " b'particularmente': 643,\n",
       " b'total': 644,\n",
       " b'generalmente': 645,\n",
       " b'adolescentes': 646,\n",
       " b'oscar': 647,\n",
       " b'20': 648,\n",
       " b'buscando': 649,\n",
       " b'perdido': 650,\n",
       " b'hablando': 651,\n",
       " b'gustan': 652,\n",
       " b'seguir': 653,\n",
       " b'gracias': 654,\n",
       " b'richard': 655,\n",
       " b'uno': 656,\n",
       " b'frente': 657,\n",
       " b'usar': 658,\n",
       " b'viejo': 659,\n",
       " b'observar': 660,\n",
       " b'secuencias': 661,\n",
       " b'cineastas': 662,\n",
       " b'entender': 663,\n",
       " b'sentir': 664,\n",
       " b'ofrece': 665,\n",
       " b'mismos': 666,\n",
       " b'maravilloso': 667,\n",
       " b'representacion': 668,\n",
       " b'diciendo': 669,\n",
       " b'respecto': 670,\n",
       " b'actuar': 671,\n",
       " b'adolescente': 672,\n",
       " b'pensando': 673,\n",
       " b'puntuacion': 674,\n",
       " b'premisa': 675,\n",
       " b'usa': 676,\n",
       " b'aparte': 677,\n",
       " b'diversion': 678,\n",
       " b'estupido': 679,\n",
       " b'relaciones': 680,\n",
       " b'logra': 681,\n",
       " b'divertidos': 682,\n",
       " b'desarrollo': 683,\n",
       " b'peter': 684,\n",
       " b'tonto': 685,\n",
       " b'revision': 686,\n",
       " b'sabes': 687,\n",
       " b'tom': 688,\n",
       " b'mantiene': 689,\n",
       " b'merece': 690,\n",
       " b'feliz': 691,\n",
       " b'animacion': 692,\n",
       " b'vision': 693,\n",
       " b'estadounidenses': 694,\n",
       " b'sorprendio': 695,\n",
       " b'lleno': 696,\n",
       " b'siguiente': 697,\n",
       " b'debil': 698,\n",
       " b'significa': 699,\n",
       " b'llamada': 700,\n",
       " b'entretenido': 701,\n",
       " b'directores': 702,\n",
       " b'dar': 703,\n",
       " b'vivo': 704,\n",
       " b'maravillosa': 705,\n",
       " b'dicho': 706,\n",
       " b'fuerza': 707,\n",
       " b'larga': 708,\n",
       " b'chistes': 709,\n",
       " b'presenta': 710,\n",
       " b'to': 711,\n",
       " b'script': 712,\n",
       " b'jugo': 713,\n",
       " b'drogas': 714,\n",
       " b'predecible': 715,\n",
       " b'broma': 716,\n",
       " b'temporada': 717,\n",
       " b'conjunto': 718,\n",
       " b'hilarante': 719,\n",
       " b'leer': 720,\n",
       " b'risa': 721,\n",
       " b'maestra': 722,\n",
       " b'obtiene': 723,\n",
       " b'imdb': 724,\n",
       " b'lo': 725,\n",
       " b'termino': 726,\n",
       " b'perfectamente': 727,\n",
       " b'anterior': 728,\n",
       " b'sociedad': 729,\n",
       " b'aparece': 730,\n",
       " b'numero': 731,\n",
       " b'corto': 732,\n",
       " b'compa\\xc3\\xb1ero': 733,\n",
       " b'divertidas': 734,\n",
       " b'pude': 735,\n",
       " b'recuerda': 736,\n",
       " b'voy': 737,\n",
       " b'ello': 738,\n",
       " b'vuelta': 739,\n",
       " b'naturaleza': 740,\n",
       " b'estudio': 741,\n",
       " b'70': 742,\n",
       " b'valor': 743,\n",
       " b'comparacion': 744,\n",
       " b'gustaria': 745,\n",
       " b'comenzo': 746,\n",
       " b'lista': 747,\n",
       " b'escenario': 748,\n",
       " b'creditos': 749,\n",
       " b'contrario': 750,\n",
       " b'giro': 751,\n",
       " b'manos': 752,\n",
       " b'local': 753,\n",
       " b'perro': 754,\n",
       " b'rapidamente': 755,\n",
       " b'ex': 756,\n",
       " b'comienzo': 757,\n",
       " b'ves': 758,\n",
       " b'duro': 759,\n",
       " b'aproximadamente': 760,\n",
       " b'suena': 761,\n",
       " b'vivir': 762,\n",
       " b'fue': 763,\n",
       " b'joe': 764,\n",
       " b'baile': 765,\n",
       " b'escuchar': 766,\n",
       " b'corta': 767,\n",
       " b'llega': 768,\n",
       " b'monstruo': 769,\n",
       " b'esperanza': 770,\n",
       " b'razones': 771,\n",
       " b'belleza': 772,\n",
       " b'ideas': 773,\n",
       " b'emocion': 774,\n",
       " b'periodo': 775,\n",
       " b'cree': 776,\n",
       " b'escritores': 777,\n",
       " b'copia': 778,\n",
       " b'espacio': 779,\n",
       " b'salvar': 780,\n",
       " b'basa': 781,\n",
       " b'futuro': 782,\n",
       " b'muestran': 783,\n",
       " b'dejo': 784,\n",
       " b'paul': 785,\n",
       " b'lanzamiento': 786,\n",
       " b'mata': 787,\n",
       " b'leido': 788,\n",
       " b'fan': 789,\n",
       " b'disfrutar': 790,\n",
       " b'escribir': 791,\n",
       " b'semana': 792,\n",
       " b'90': 793,\n",
       " b'conocido': 794,\n",
       " b'muertos': 795,\n",
       " b'darle': 796,\n",
       " b'medico': 797,\n",
       " b'tratar': 798,\n",
       " b'gracioso': 799,\n",
       " b'impresion': 800,\n",
       " b'familiar': 801,\n",
       " b'crimen': 802,\n",
       " b'romance': 803,\n",
       " b'infierno': 804,\n",
       " b'disney': 805,\n",
       " b'cuales': 806,\n",
       " b'perder': 807,\n",
       " b'convirtio': 808,\n",
       " b'oscuro': 809,\n",
       " b'trabajar': 810,\n",
       " b'efecto': 811,\n",
       " b'doy': 812,\n",
       " b'di': 813,\n",
       " b'personal': 814,\n",
       " b'isla': 815,\n",
       " b'posiblemente': 816,\n",
       " b'30': 817,\n",
       " b'actuando': 818,\n",
       " b'agua': 819,\n",
       " b'mirando': 820,\n",
       " b'aire': 821,\n",
       " b'espera': 822,\n",
       " b'promedio': 823,\n",
       " b'con': 824,\n",
       " b'vamos': 825,\n",
       " b'sola': 826,\n",
       " b'baja': 827,\n",
       " b'batalla': 828,\n",
       " b'yo': 829,\n",
       " b'vio': 830,\n",
       " b'nuevamente': 831,\n",
       " b'acabo': 832,\n",
       " b'misterio': 833,\n",
       " b'i': 834,\n",
       " b'aspectos': 835,\n",
       " b'tripulacion': 836,\n",
       " b'comenzar': 837,\n",
       " b'creible': 838,\n",
       " b'secundaria': 839,\n",
       " b'llegar': 840,\n",
       " b'risas': 841,\n",
       " b'bebe': 842,\n",
       " b'sucedio': 843,\n",
       " b'espeluznante': 844,\n",
       " b'villano': 845,\n",
       " b'fantasia': 846,\n",
       " b'is': 847,\n",
       " b'hara': 848,\n",
       " b'humano': 849,\n",
       " b'vive': 850,\n",
       " b'principios': 851,\n",
       " b'jefe': 852,\n",
       " b'algo': 853,\n",
       " b'madera': 854,\n",
       " b'gay': 855,\n",
       " b'miembros': 856,\n",
       " b'antiguo': 857,\n",
       " b'sorpresa': 858,\n",
       " b'maestro': 859,\n",
       " b'caracteres': 860,\n",
       " b'habitacion': 861,\n",
       " b'sexual': 862,\n",
       " b'sra': 863,\n",
       " b'lento': 864,\n",
       " b'william': 865,\n",
       " b'cae': 866,\n",
       " b'obvio': 867,\n",
       " b'mencionar': 868,\n",
       " b'star': 869,\n",
       " b'debo': 870,\n",
       " b'intentan': 871,\n",
       " b'temas': 872,\n",
       " b'ahi': 873,\n",
       " b'deseo': 874,\n",
       " b'crear': 875,\n",
       " b'sale': 876,\n",
       " b'emociones': 877,\n",
       " b'america': 878,\n",
       " b'podemos': 879,\n",
       " b'reir': 880,\n",
       " b'nota': 881,\n",
       " b'probable': 882,\n",
       " b'era': 883,\n",
       " b'decide': 884,\n",
       " b'loco': 885,\n",
       " b'recientemente': 886,\n",
       " b'fiesta': 887,\n",
       " b'enfoque': 888,\n",
       " b'cuando': 889,\n",
       " b'llama': 890,\n",
       " b'unas': 891,\n",
       " b'giros': 892,\n",
       " b'encima': 893,\n",
       " b'debajo': 894,\n",
       " b'lugares': 895,\n",
       " b'finales': 896,\n",
       " b'mezcla': 897,\n",
       " b'sorprendentemente': 898,\n",
       " b'ridiculo': 899,\n",
       " b'siglo': 900,\n",
       " b'in': 901,\n",
       " b'suerte': 902,\n",
       " b'recordar': 903,\n",
       " b'deberian': 904,\n",
       " b'salio': 905,\n",
       " b'espiritu': 906,\n",
       " b'permite': 907,\n",
       " b'jugado': 908,\n",
       " b'humanos': 909,\n",
       " b'directamente': 910,\n",
       " b'12': 911,\n",
       " b'rey': 912,\n",
       " b'tantas': 913,\n",
       " b'altamente': 914,\n",
       " b'cual': 915,\n",
       " b'tomo': 916,\n",
       " b'productores': 917,\n",
       " b'tono': 918,\n",
       " b'color': 919,\n",
       " b'sorprendente': 920,\n",
       " b'dicen': 921,\n",
       " b'preguntas': 922,\n",
       " b'tension': 923,\n",
       " b'poner': 924,\n",
       " b'dolor': 925,\n",
       " b'favorito': 926,\n",
       " b'15': 927,\n",
       " b'odio': 928,\n",
       " b'perfecta': 929,\n",
       " b'mirada': 930,\n",
       " b'cerebro': 931,\n",
       " b'emocionante': 932,\n",
       " b'menor': 933,\n",
       " b'spoilers': 934,\n",
       " b'rara': 935,\n",
       " b'tonta': 936,\n",
       " b'falla': 937,\n",
       " b'tipos': 938,\n",
       " b'dirigido': 939,\n",
       " b'campo': 940,\n",
       " b'mundial': 941,\n",
       " b'antigua': 942,\n",
       " b'emocional': 943,\n",
       " b'cabo': 944,\n",
       " b'terminar': 945,\n",
       " b'hermanos': 946,\n",
       " b'adultos': 947,\n",
       " b'ropa': 948,\n",
       " b'esposo': 949,\n",
       " b'pierde': 950,\n",
       " b'cliche': 951,\n",
       " b'ligeramente': 952,\n",
       " b'ido': 953,\n",
       " b'valores': 954,\n",
       " b'demonios': 955,\n",
       " b'concepto': 956,\n",
       " b'comedias': 957,\n",
       " b'asunto': 958,\n",
       " b'compa\\xc3\\xb1ia': 959,\n",
       " b'acaba': 960,\n",
       " b'sexuales': 961,\n",
       " b'situaciones': 962,\n",
       " b'resulta': 963,\n",
       " b'haberse': 964,\n",
       " b'desnudez': 965,\n",
       " b'scott': 966,\n",
       " b'ejercito': 967,\n",
       " b'queda': 968,\n",
       " b'logro': 969,\n",
       " b'fotografia': 970,\n",
       " b'caja': 971,\n",
       " b'error': 972,\n",
       " b'bill': 973,\n",
       " b'hechos': 974,\n",
       " b'credito': 975,\n",
       " b'epoca': 976,\n",
       " b'sue\\xc3\\xb1o': 977,\n",
       " b'anteriores': 978,\n",
       " b'8': 979,\n",
       " b'detalles': 980,\n",
       " b'proyecto': 981,\n",
       " b'armas': 982,\n",
       " b'golpe': 983,\n",
       " b'lamentablemente': 984,\n",
       " b'parecian': 985,\n",
       " b'excepcion': 986,\n",
       " b'soldados': 987,\n",
       " b'profundidad': 988,\n",
       " b'ama': 989,\n",
       " b'tantos': 990,\n",
       " b'desagradable': 991,\n",
       " b'lider': 992,\n",
       " b'tales': 993,\n",
       " b'centro': 994,\n",
       " b'7': 995,\n",
       " b'busca': 996,\n",
       " b'humana': 997,\n",
       " b'conclusion': 998,\n",
       " b'contiene': 999,\n",
       " ...}"
      ]
     },
     "execution_count": 47,
     "metadata": {},
     "output_type": "execute_result"
    }
   ],
   "source": [
    "table"
   ]
  },
  {
   "cell_type": "markdown",
   "id": "c53219df",
   "metadata": {},
   "source": [
    "## Tokenizacion de las reviews"
   ]
  },
  {
   "cell_type": "markdown",
   "id": "3a89f8d1",
   "metadata": {},
   "source": [
    "Pasamos de la representacion en texto de la reviews a una version tokenizada. Vamos a usar los ids de la tabla para lograrlo"
   ]
  },
  {
   "cell_type": "markdown",
   "id": "24c9294a",
   "metadata": {},
   "source": [
    "Todas tienen que tener la misma longitud, asique decidimos que todas tengan 300 palabras como maximo. \n",
    "\n",
    "Si faltan palabras o sobran, le ponemos el valor 10001 (para indicar que esta fuera de nuestro vocabulario)"
   ]
  },
  {
   "cell_type": "code",
   "execution_count": 48,
   "id": "ca36524c",
   "metadata": {},
   "outputs": [],
   "source": [
    "def pasarDePalabraANumero(conjuntosDePalabras, cantMaxPalabras=300):\n",
    "    listaDeNumeros = []\n",
    "    i=0\n",
    "    for fila in conjuntosDePalabras:\n",
    "        fila = fila.split()\n",
    "        fila = fila[:300]\n",
    "        tokenDeFrase = []\n",
    "        \n",
    "        for word in fila:\n",
    "            tokenDeFrase.append(int(table.get(bytes(word, 'utf-8'),10001)))\n",
    "            \n",
    "        while len(tokenDeFrase) < 300:\n",
    "            tokenDeFrase.append(10001)\n",
    "            \n",
    "        listaDeNumeros.append(np.array(tokenDeFrase))\n",
    "        i+=1\n",
    "    return listaDeNumeros"
   ]
  },
  {
   "cell_type": "code",
   "execution_count": 49,
   "id": "09e322a8",
   "metadata": {},
   "outputs": [],
   "source": [
    "numerico = pasarDePalabraANumero(x_train)\n",
    "numericoTest = pasarDePalabraANumero(x_test)\n",
    "numericoSubmit =  pasarDePalabraANumero(review_pruebas['review_es'])"
   ]
  },
  {
   "cell_type": "markdown",
   "id": "a05d4829",
   "metadata": {},
   "source": [
    "Ejemplo de como se ven:"
   ]
  },
  {
   "cell_type": "code",
   "execution_count": 50,
   "id": "27d393f9",
   "metadata": {},
   "outputs": [
    {
     "data": {
      "text/plain": [
       "array([ 1502, 10001,    22,  6540,   851,     0,  1111,  2178,    94,\n",
       "         273, 10001,   859,    89,   622,  3346,  2786,  2115,  3613,\n",
       "          27,  1438,     0,    66,  3470,    18,    16,   187,    67,\n",
       "        3613,    27,     3,   622, 10001,   404,   273,  2049,  3240,\n",
       "          68, 10001, 10001, 10001,   172, 10001, 10001,   478, 10001,\n",
       "         184,    85,   178,  2123,   635,   622, 10001,   927, 10001,\n",
       "         346,   440,   384,  5007,   314,   927, 10001,   820,     0,\n",
       "         107,   312,   927, 10001, 10001,    28,   250,   404,   273,\n",
       "         312,   927, 10001,    50, 10001,   580,    28,  3796,   634,\n",
       "        7176,  1181,   201,  1334,   927, 10001,   565, 10001,   119,\n",
       "         761,   801,  2598,    38,   669,   312,   254,   314,     0,\n",
       "          16,    63, 10001,  2883,  1682,  6112,     0, 10001, 10001,\n",
       "        3687,    22,  4457, 10001,   793,    93,  1465,   149, 10001,\n",
       "        6283,   644,   386,    12,   111,   588,   689,   147,    71,\n",
       "         737,    49,   147,  5337,   147,  1664,    94,   277,  2762,\n",
       "        4355,   248,    46,     4,  2727,    55,    46,  1081, 10001,\n",
       "          48, 10001,  2115,   435,   242,     0,  1858,    40,   229,\n",
       "          23,   273, 10001, 10001,  7596,   476,   350,  1437,   249,\n",
       "        5484,  3885,   567,  1054,    20,   265, 10001,   451,   147,\n",
       "         184,  1033,    76,     0,  3140,   372,    59,   132,   324,\n",
       "          49,    68,    16,   945,  1529, 10001,   104,     0,   113,\n",
       "          13,  1063,  4428, 10001,    44, 10001,     9,   889,   723,\n",
       "           0,  9956,  1535,    62,     0,  7100,  3015,  4788, 10001,\n",
       "        8004, 10001,   181,   930,   203,  1059,    50,   797,    44,\n",
       "       10001,  6541,  1290,  3973,   265, 10001,     8,  2303,  3155,\n",
       "         629, 10001, 10001, 10001, 10001,  6227,   131,   631, 10001,\n",
       "         391,   421,    16,   119,    62,     0,   213,  2088, 10001,\n",
       "        3505,  2509,    22,     0,   143,   964,  3883,   650,    98,\n",
       "       10001, 10001, 10001, 10001, 10001, 10001, 10001, 10001, 10001,\n",
       "       10001, 10001, 10001, 10001, 10001, 10001, 10001, 10001, 10001,\n",
       "       10001, 10001, 10001, 10001, 10001, 10001, 10001, 10001, 10001,\n",
       "       10001, 10001, 10001, 10001, 10001, 10001, 10001, 10001, 10001,\n",
       "       10001, 10001, 10001, 10001, 10001, 10001, 10001, 10001, 10001,\n",
       "       10001, 10001, 10001])"
      ]
     },
     "execution_count": 50,
     "metadata": {},
     "output_type": "execute_result"
    }
   ],
   "source": [
    "numerico[66]"
   ]
  },
  {
   "cell_type": "code",
   "execution_count": 51,
   "id": "f8b877a7",
   "metadata": {},
   "outputs": [],
   "source": [
    "data_list = np.stack(numerico)\n",
    "data_list_test = np.stack(numericoTest)\n",
    "data_list_submit = np.stack(numericoSubmit)"
   ]
  },
  {
   "cell_type": "markdown",
   "id": "d313eb41",
   "metadata": {},
   "source": [
    "## Creacion de la red (sin hiperparametros)"
   ]
  },
  {
   "cell_type": "markdown",
   "id": "03afb764",
   "metadata": {},
   "source": [
    "Vamos a usar la layer intermedia \"GRU\", siguiendo la guia del libro de la bibiliografia. Esta tiene comportamiento muy similar a la LSTM (las cuales son optimas para el analisis de sentimiento)"
   ]
  },
  {
   "cell_type": "code",
   "execution_count": 52,
   "id": "781375c2",
   "metadata": {},
   "outputs": [],
   "source": [
    "embed_size = 128\n",
    "redNeuronal = keras.models.Sequential([\n",
    "    \n",
    "keras.layers.Embedding(len(table), embed_size,\n",
    "        input_shape=[None]),\n",
    "    \n",
    "    keras.layers.GRU(128, return_sequences=True),\n",
    "    \n",
    "    keras.layers.GRU(128),\n",
    "    \n",
    "    keras.layers.Dense(1, activation=\"sigmoid\")\n",
    "])\n",
    "redNeuronal.compile(loss=\"binary_crossentropy\", optimizer=\"adam\",\n",
    "            metrics=[\"accuracy\"])"
   ]
  },
  {
   "cell_type": "code",
   "execution_count": 53,
   "id": "32cf1b85",
   "metadata": {},
   "outputs": [
    {
     "name": "stdout",
     "output_type": "stream",
     "text": [
      "Model: \"sequential\"\n",
      "_________________________________________________________________\n",
      " Layer (type)                Output Shape              Param #   \n",
      "=================================================================\n",
      " embedding (Embedding)       (None, None, 128)         1280000   \n",
      "                                                                 \n",
      " gru (GRU)                   (None, None, 128)         99072     \n",
      "                                                                 \n",
      " gru_1 (GRU)                 (None, 128)               99072     \n",
      "                                                                 \n",
      " dense (Dense)               (None, 1)                 129       \n",
      "                                                                 \n",
      "=================================================================\n",
      "Total params: 1,478,273\n",
      "Trainable params: 1,478,273\n",
      "Non-trainable params: 0\n",
      "_________________________________________________________________\n"
     ]
    }
   ],
   "source": [
    "redNeuronal.summary()"
   ]
  },
  {
   "cell_type": "code",
   "execution_count": 54,
   "id": "bf4da6d6",
   "metadata": {},
   "outputs": [],
   "source": [
    "if exists('modelos/TP2/redNeuronalSentimiento2.joblib') == False:\n",
    "    historia_modelo=redNeuronal.fit(x = data_list, \n",
    "                                    y = y_train, epochs=4)\n",
    "    dump(redNeuronal, 'modelos/TP2/redNeuronalSentimiento2.joblib')\n",
    "else:\n",
    "    redNeuronal = load('modelos/TP2/redNeuronalSentimiento2.joblib')"
   ]
  },
  {
   "cell_type": "code",
   "execution_count": 55,
   "id": "ed5fe1f1",
   "metadata": {},
   "outputs": [
    {
     "data": {
      "text/plain": [
       "array([[0],\n",
       "       [1],\n",
       "       [0],\n",
       "       ...,\n",
       "       [1],\n",
       "       [0],\n",
       "       [0]])"
      ]
     },
     "execution_count": 55,
     "metadata": {},
     "output_type": "execute_result"
    }
   ],
   "source": [
    "if exists('modelos/TP2/predTestRedSinOptimi.joblib') == False:\n",
    "    y_pred = redNeuronal.predict(data_list_test)\n",
    "    y_predCerteza = np.where(y_pred>0.7,1,0)\n",
    "    dump(y_predCerteza, 'modelos/TP2/predTestRedSinOptimi.joblib')\n",
    "else:\n",
    "    y_predCerteza = load('modelos/TP2/predTestRedSinOptimi.joblib')\n",
    "y_predCerteza"
   ]
  },
  {
   "cell_type": "code",
   "execution_count": 56,
   "id": "30aac623",
   "metadata": {},
   "outputs": [
    {
     "data": {
      "image/png": "[encoded data removed]",
      "text/plain": [
       "<Figure size 640x480 with 2 Axes>"
      ]
     },
     "metadata": {},
     "output_type": "display_data"
    }
   ],
   "source": [
    "ds_validacion=pd.DataFrame(y_predCerteza,y_test).reset_index()\n",
    "ds_validacion.columns=['y_pred','y_real']\n",
    "\n",
    "tabla=pd.crosstab(ds_validacion.y_pred, ds_validacion.y_real)\n",
    "grf=sns.heatmap(tabla,annot=True, cmap = 'Blues', fmt='g')\n",
    "plt.show()"
   ]
  },
  {
   "cell_type": "code",
   "execution_count": 57,
   "id": "28443f93",
   "metadata": {
    "scrolled": true
   },
   "outputs": [
    {
     "name": "stdout",
     "output_type": "stream",
     "text": [
      "Accuracy: 0.8593124395968521\n",
      "Recall: 0.8075424436404119\n",
      "Precision: 0.8985754103437597\n",
      "f1 score: 0.8506303136909996\n"
     ]
    }
   ],
   "source": [
    "#Calculo las métricas en el conjunto de evaluación\n",
    "accuracy=accuracy_score(y_test,y_predCerteza)\n",
    "recall=recall_score(y_test,y_predCerteza)\n",
    "f1=f1_score(y_test,y_predCerteza,)\n",
    "precision=precision_score(y_test,y_predCerteza)\n",
    "\n",
    "print(\"Accuracy: \"+str(accuracy))\n",
    "print(\"Recall: \"+str(recall))\n",
    "print(\"Precision: \"+str(precision))\n",
    "print(\"f1 score: \"+str(f1))"
   ]
  },
  {
   "cell_type": "code",
   "execution_count": 58,
   "id": "cc26b4c2",
   "metadata": {},
   "outputs": [],
   "source": [
    "if not exists('submissions/TP2/redesNeuronales2.csv'):\n",
    "    yEnEspanol =y_predCerteza\n",
    "    yEnEspanol = np.array(list(map(lambda x: \"positivo\" if x==1 else \"negativo\", y_predCerteza)))\n",
    "    df_submission = pd.DataFrame({'id': review_pruebasOriginal['ID'], 'sentimiento': yEnEspanol})\n",
    "    df_submission.to_csv('submissions/TP2/redesNeuronales2.csv', index=False)"
   ]
  },
  {
   "cell_type": "markdown",
   "id": "100c0b61",
   "metadata": {},
   "source": [
    "## Busqueda de hiperparametros\n",
    "\n",
    "Vamos a realizar la busqueda de hiperparametros:"
   ]
  },
  {
   "cell_type": "code",
   "execution_count": 59,
   "id": "c11c4949",
   "metadata": {},
   "outputs": [],
   "source": [
    "loss='binary_crossentropy'\n",
    "metrics=['accuracy']\n",
    "optimizer=\"adam\"\n",
    "\n",
    "def creador_modelo(learning_rate = 0.1, \n",
    "                   activation = 'sigmoid', \n",
    "                   output = 2, \n",
    "                  hidden_layers = 2\n",
    "                  ):\n",
    "    modeloHiper = keras.Sequential()\n",
    "    \n",
    "    modeloHiper.add(keras.layers.Embedding(len(table), embed_size,\n",
    "        input_shape=[None]))\n",
    "    \n",
    "    modeloHiper.add(keras.layers.GRU(128, return_sequences=True))\n",
    "    modeloHiper.add(keras.layers.GRU(128))\n",
    "    \n",
    "    for i in range(hidden_layers):\n",
    "        modeloHiper.add(keras.layers.Dense(output, activation=activation))\n",
    "\n",
    "    modeloHiper.add(keras.layers.Dense(1, activation=\"sigmoid\"))\n",
    "    \n",
    "    modeloHiper.compile(\n",
    "      optimizer=optimizer,\n",
    "      loss=loss, \n",
    "      metrics=metrics, \n",
    "    )\n",
    "    return modeloHiper\n"
   ]
  },
  {
   "cell_type": "code",
   "execution_count": 60,
   "id": "f2b2f774",
   "metadata": {},
   "outputs": [
    {
     "name": "stderr",
     "output_type": "stream",
     "text": [
      "/tmp/ipykernel_10685/2109703127.py:1: DeprecationWarning: KerasClassifier is deprecated, use Sci-Keras (https://github.com/adriangb/scikeras) instead. See https://www.adriangb.com/scikeras/stable/migration.html for help migrating.\n",
      "  model = KerasClassifier(build_fn=creador_modelo,\n"
     ]
    }
   ],
   "source": [
    "model = KerasClassifier(build_fn=creador_modelo, \n",
    "                        verbose=1)"
   ]
  },
  {
   "cell_type": "code",
   "execution_count": 61,
   "id": "2a074f48",
   "metadata": {},
   "outputs": [],
   "source": [
    "param_grid = { \n",
    "                  \"hidden_layers\" : [1, 5, 10, 15, 20], \n",
    "                    \"output\" : [1, 2, 4, 8, 32, 64], \n",
    "                    \"batch_size\" : [5, 10, 20],\n",
    "                    \"epochs\" : [5, 10, 15],\n",
    "                   \"activation\": [\"sigmoid\", \"relu\", \"softmax\", \"softplus\", \"elu\", ]\n",
    "             } "
   ]
  },
  {
   "cell_type": "markdown",
   "id": "6e551335",
   "metadata": {},
   "source": [
    "Vamos a realizar 5 random searches para buscar los mejores hiperparametros para la red"
   ]
  },
  {
   "cell_type": "code",
   "execution_count": 62,
   "id": "4ab2172f",
   "metadata": {},
   "outputs": [],
   "source": [
    "rs = RandomizedSearchCV(estimator=model, \n",
    "                        param_distributions=param_grid,\n",
    "                        n_jobs=JOBS, cv=3,\n",
    "                        n_iter=8)"
   ]
  },
  {
   "cell_type": "code",
   "execution_count": 63,
   "id": "f650fc3e",
   "metadata": {},
   "outputs": [],
   "source": [
    "if exists('modelos/TP2/rs_redNeuronal.joblib') == False:\n",
    "    rs_redNeuronal=rs.fit(X = data_list, \n",
    "                            y = y_train)\n",
    "\n",
    "    dump(rs_redNeuronal, 'modelos/TP2/rs_redNeuronal.joblib')\n",
    "else:\n",
    "    rs_redNeuronal = load('modelos/TP2/rs_redNeuronal.joblib')"
   ]
  },
  {
   "cell_type": "code",
   "execution_count": 64,
   "id": "1d70a5ad",
   "metadata": {},
   "outputs": [
    {
     "data": {
      "text/plain": [
       "{'output': 4,\n",
       " 'hidden_layers': 1,\n",
       " 'epochs': 10,\n",
       " 'batch_size': 5,\n",
       " 'activation': 'softplus'}"
      ]
     },
     "execution_count": 64,
     "metadata": {},
     "output_type": "execute_result"
    }
   ],
   "source": [
    "rs_redNeuronal.best_params_"
   ]
  },
  {
   "cell_type": "markdown",
   "id": "23c3bc55",
   "metadata": {},
   "source": [
    "## Creamos la red con los hiperparametros encontrados arriba"
   ]
  },
  {
   "cell_type": "code",
   "execution_count": 65,
   "id": "cc732743",
   "metadata": {},
   "outputs": [],
   "source": [
    "embed_size = 128\n",
    "modeloHiper = keras.models.Sequential()\n",
    "    \n",
    "modeloHiper.add(keras.layers.Embedding(len(table), embed_size,\n",
    "        input_shape=[None]))\n",
    "    \n",
    "modeloHiper.add(keras.layers.GRU(128, return_sequences=True))\n",
    "    \n",
    "modeloHiper.add(keras.layers.GRU(128))\n",
    "    \n",
    "for i in range(rs_redNeuronal.best_params_['hidden_layers']):\n",
    "    modeloHiper.add(keras.layers.Dense(rs_redNeuronal.best_params_['output'],\n",
    "                                       activation=rs_redNeuronal.best_params_['activation']))\n",
    "    \n",
    "modeloHiper.add(keras.layers.Dense(1, activation=\"sigmoid\"))\n",
    "\n",
    "modeloHiper.compile(loss=\"binary_crossentropy\", optimizer=\"adam\",\n",
    "            metrics=[\"accuracy\"])"
   ]
  },
  {
   "cell_type": "code",
   "execution_count": 66,
   "id": "88588004",
   "metadata": {},
   "outputs": [],
   "source": [
    "if exists('modelos/TP2/redNeuronalHiper.joblib') == False:\n",
    "    historia_modelo=modeloHiper.fit(x = data_list, \n",
    "                                    y = y_train, epochs=rs_redNeuronal.best_params_['epochs'])\n",
    "\n",
    "    dump(modeloHiper, 'modelos/TP2/redNeuronalHiper.joblib')\n",
    "\n",
    "else:\n",
    "    modeloHiper = load('modelos/TP2/redNeuronalHiper.joblib')\n"
   ]
  },
  {
   "cell_type": "code",
   "execution_count": 67,
   "id": "88746e80",
   "metadata": {},
   "outputs": [
    {
     "data": {
      "text/plain": [
       "array([[0],\n",
       "       [1],\n",
       "       [0],\n",
       "       ...,\n",
       "       [0],\n",
       "       [0],\n",
       "       [0]])"
      ]
     },
     "execution_count": 67,
     "metadata": {},
     "output_type": "execute_result"
    }
   ],
   "source": [
    "if exists('modelos/TP2/predTestRedConOptimi.joblib') == False:\n",
    "    y_pred = modeloHiper.predict(data_list_test)\n",
    "    y_pred\n",
    "    y_predCerteza = np.where(y_pred>0.7,1,0)\n",
    "    y_predCerteza\n",
    "    dump(y_predCerteza, 'modelos/TP2/predTestRedConOptimi.joblib')\n",
    "else:\n",
    "    y_predCerteza = load('modelos/TP2/predTestRedConOptimi.joblib')\n",
    "y_predCerteza"
   ]
  },
  {
   "cell_type": "code",
   "execution_count": 68,
   "id": "2008db64",
   "metadata": {},
   "outputs": [
    {
     "data": {
      "image/png": "[encoded data removed]",
      "text/plain": [
       "<Figure size 640x480 with 2 Axes>"
      ]
     },
     "metadata": {},
     "output_type": "display_data"
    }
   ],
   "source": [
    "ds_validacion=pd.DataFrame(y_predCerteza,y_test).reset_index()\n",
    "ds_validacion.columns=['y_pred','y_real']\n",
    "\n",
    "tabla=pd.crosstab(ds_validacion.y_pred, ds_validacion.y_real)\n",
    "grf=sns.heatmap(tabla,annot=True, cmap = 'Blues', fmt='g')\n",
    "plt.show()"
   ]
  },
  {
   "cell_type": "code",
   "execution_count": 69,
   "id": "ba944be8",
   "metadata": {},
   "outputs": [
    {
     "name": "stdout",
     "output_type": "stream",
     "text": [
      "Accuracy: 0.8176170095264393\n",
      "Recall: 0.9142777623156136\n",
      "Precision: 0.7643089809213588\n",
      "f1 score: 0.8325940945380813\n"
     ]
    }
   ],
   "source": [
    "#Calculo las métricas en el conjunto de evaluación\n",
    "accuracy=accuracy_score(y_test,y_predCerteza)\n",
    "recall=recall_score(y_test,y_predCerteza)\n",
    "f1=f1_score(y_test,y_predCerteza,)\n",
    "precision=precision_score(y_test,y_predCerteza)\n",
    "\n",
    "print(\"Accuracy: \"+str(accuracy))\n",
    "print(\"Recall: \"+str(recall))\n",
    "print(\"Precision: \"+str(precision))\n",
    "print(\"f1 score: \"+str(f1))"
   ]
  },
  {
   "cell_type": "markdown",
   "id": "bf453ebd",
   "metadata": {},
   "source": [
    "### Prediccion al set de datos de test"
   ]
  },
  {
   "cell_type": "code",
   "execution_count": 70,
   "id": "b7faede7",
   "metadata": {},
   "outputs": [
    {
     "data": {
      "text/plain": [
       "array([[0],\n",
       "       [1],\n",
       "       [0],\n",
       "       ...,\n",
       "       [0],\n",
       "       [0],\n",
       "       [0]])"
      ]
     },
     "execution_count": 70,
     "metadata": {},
     "output_type": "execute_result"
    }
   ],
   "source": [
    "if exists('modelos/TP2/predTestRedConOptimi.joblib') == False:\n",
    "    y_pred = modeloHiper.predict(data_list_submit)\n",
    "    y_predCerteza = np.where(y_pred>0.7,1,0)\n",
    "    dump(y_predCerteza, 'modelos/TP2/predTestRedConOptimi.joblib')\n",
    "else:\n",
    "    y_predCerteza = load('modelos/TP2/predTestRedConOptimi.joblib')\n",
    "y_predCerteza"
   ]
  },
  {
   "cell_type": "code",
   "execution_count": 71,
   "id": "4e6f6e41",
   "metadata": {},
   "outputs": [],
   "source": [
    "if not exists('submissions/TP2/redesNeuronales3.csv'):\n",
    "    yEnEspanol =y_predCerteza\n",
    "    yEnEspanol = np.array(list(map(lambda x: \"positivo\" if x==1 else \"negativo\", y_predCerteza)))\n",
    "    df_submission = pd.DataFrame({'id': review_pruebasOriginal['ID'], 'sentimiento': yEnEspanol})\n",
    "    df_submission.to_csv('submissions/TP2/redesNeuronales3.csv', index=False)"
   ]
  },
  {
   "cell_type": "markdown",
   "id": "b3c39dcb",
   "metadata": {},
   "source": [
    "# Ensamble de 3 modelos\n",
    "\n",
    "Armamos un ensamble sencillo de tipo voting con los modelos bases generados a lo largo del analisis.\n",
    "\n",
    "La utilización de los modelos bases se debe a que utilizamos varios predictores debiles con el proposito de construir uno que en conjunto funcione mejor y asi aprovechar tambien los modelos diseñados previamente "
   ]
  },
  {
   "cell_type": "code",
   "execution_count": 72,
   "id": "e1c4a3f2",
   "metadata": {
    "lines_to_next_cell": 0
   },
   "outputs": [],
   "source": [
    "if not exists('modelos/TP2/voting.joblib.gz'): #Tenemos el archivo comprimido porque era muy grande\n",
    "    naives = load(\"modelos/TP2/nb_conhp.joblib\")\n",
    "    xgb = load(\"modelos/TP2/xgb_base.joblib\")\n",
    "    rf = load(\"modelos/TP2/modeloRandomForest-sin-optimizar-final.joblib\")\n",
    "\n",
    "    ensamble = VotingClassifier(estimators = [\n",
    "        ('nb', naives),\n",
    "        ('xgb', xgb),\n",
    "        ('rf', rf)\n",
    "    ])\n",
    "    ensamble.fit(x_train, y_train)\n",
    "    dump(ensamble, 'modelos/TP2/voting.joblib')\n",
    "    !gzip modelos/TP2/voting.joblib #Comprimimos\n",
    "\n",
    "else:\n",
    "    !gzip -d -k modelos/TP2/voting.joblib.gz #Descomprimimos\n",
    "    ensamble = load('modelos/TP2/voting.joblib')\n",
    "    !rm modelos/TP2/voting.joblib\n",
    "    "
   ]
  },
  {
   "cell_type": "markdown",
   "id": "e30e092e",
   "metadata": {},
   "source": [
    "Entrenamos el modelo "
   ]
  },
  {
   "cell_type": "code",
   "execution_count": 73,
   "id": "7ec6727e",
   "metadata": {},
   "outputs": [
    {
     "data": {
      "text/html": [
       "<style>#sk-container-id-2 {color: black;background-color: white;}#sk-container-id-2 pre{padding: 0;}#sk-container-id-2 div.sk-toggleable {background-color: white;}#sk-container-id-2 label.sk-toggleable__label {cursor: pointer;display: block;width: 100%;margin-bottom: 0;padding: 0.3em;box-sizing: border-box;text-align: center;}#sk-container-id-2 label.sk-toggleable__label-arrow:before {content: \"▸\";float: left;margin-right: 0.25em;color: #696969;}#sk-container-id-2 label.sk-toggleable__label-arrow:hover:before {color: black;}#sk-container-id-2 div.sk-estimator:hover label.sk-toggleable__label-arrow:before {color: black;}#sk-container-id-2 div.sk-toggleable__content {max-height: 0;max-width: 0;overflow: hidden;text-align: left;background-color: #f0f8ff;}#sk-container-id-2 div.sk-toggleable__content pre {margin: 0.2em;color: black;border-radius: 0.25em;background-color: #f0f8ff;}#sk-container-id-2 input.sk-toggleable__control:checked~div.sk-toggleable__content {max-height: 200px;max-width: 100%;overflow: auto;}#sk-container-id-2 input.sk-toggleable__control:checked~label.sk-toggleable__label-arrow:before {content: \"▾\";}#sk-container-id-2 div.sk-estimator input.sk-toggleable__control:checked~label.sk-toggleable__label {background-color: #d4ebff;}#sk-container-id-2 div.sk-label input.sk-toggleable__control:checked~label.sk-toggleable__label {background-color: #d4ebff;}#sk-container-id-2 input.sk-hidden--visually {border: 0;clip: rect(1px 1px 1px 1px);clip: rect(1px, 1px, 1px, 1px);height: 1px;margin: -1px;overflow: hidden;padding: 0;position: absolute;width: 1px;}#sk-container-id-2 div.sk-estimator {font-family: monospace;background-color: #f0f8ff;border: 1px dotted black;border-radius: 0.25em;box-sizing: border-box;margin-bottom: 0.5em;}#sk-container-id-2 div.sk-estimator:hover {background-color: #d4ebff;}#sk-container-id-2 div.sk-parallel-item::after {content: \"\";width: 100%;border-bottom: 1px solid gray;flex-grow: 1;}#sk-container-id-2 div.sk-label:hover label.sk-toggleable__label {background-color: #d4ebff;}#sk-container-id-2 div.sk-serial::before {content: \"\";position: absolute;border-left: 1px solid gray;box-sizing: border-box;top: 0;bottom: 0;left: 50%;z-index: 0;}#sk-container-id-2 div.sk-serial {display: flex;flex-direction: column;align-items: center;background-color: white;padding-right: 0.2em;padding-left: 0.2em;position: relative;}#sk-container-id-2 div.sk-item {position: relative;z-index: 1;}#sk-container-id-2 div.sk-parallel {display: flex;align-items: stretch;justify-content: center;background-color: white;position: relative;}#sk-container-id-2 div.sk-item::before, #sk-container-id-2 div.sk-parallel-item::before {content: \"\";position: absolute;border-left: 1px solid gray;box-sizing: border-box;top: 0;bottom: 0;left: 50%;z-index: -1;}#sk-container-id-2 div.sk-parallel-item {display: flex;flex-direction: column;z-index: 1;position: relative;background-color: white;}#sk-container-id-2 div.sk-parallel-item:first-child::after {align-self: flex-end;width: 50%;}#sk-container-id-2 div.sk-parallel-item:last-child::after {align-self: flex-start;width: 50%;}#sk-container-id-2 div.sk-parallel-item:only-child::after {width: 0;}#sk-container-id-2 div.sk-dashed-wrapped {border: 1px dashed gray;margin: 0 0.4em 0.5em 0.4em;box-sizing: border-box;padding-bottom: 0.4em;background-color: white;}#sk-container-id-2 div.sk-label label {font-family: monospace;font-weight: bold;display: inline-block;line-height: 1.2em;}#sk-container-id-2 div.sk-label-container {text-align: center;}#sk-container-id-2 div.sk-container {/* jupyter's `normalize.less` sets `[hidden] { display: none; }` but bootstrap.min.css set `[hidden] { display: none !important; }` so we also need the `!important` here to be able to override the default hidden behavior on the sphinx rendered scikit-learn.org. See: https://github.com/scikit-learn/scikit-learn/issues/21755 */display: inline-block !important;position: relative;}#sk-container-id-2 div.sk-text-repr-fallback {display: none;}</style><div id=\"sk-container-id-2\" class=\"sk-top-container\"><div class=\"sk-text-repr-fallback\"><pre>VotingClassifier(estimators=[(&#x27;nb&#x27;,\n",
       "                              Pipeline(steps=[(&#x27;tfidfvectorizer&#x27;,\n",
       "                                               TfidfVectorizer(max_df=0.9,\n",
       "                                                               min_df=0.03,\n",
       "                                                               ngram_range=(1,\n",
       "                                                                            2),\n",
       "                                                               stop_words=&#x27;english&#x27;)),\n",
       "                                              (&#x27;multinomialnb&#x27;,\n",
       "                                               MultinomialNB(alpha=0.3))])),\n",
       "                             (&#x27;xgb&#x27;,\n",
       "                              Pipeline(steps=[(&#x27;tfidfvectorizer&#x27;,\n",
       "                                               TfidfVectorizer()),\n",
       "                                              (&#x27;xgbclassifier&#x27;,\n",
       "                                               XGBClassifier(base_score=0.5,\n",
       "                                                             booster=&#x27;gbtree&#x27;,\n",
       "                                                             callbacks=None,\n",
       "                                                             colsample_bylev...\n",
       "                                                             monotone_constraints=&#x27;()&#x27;,\n",
       "                                                             n_estimators=100,\n",
       "                                                             n_jobs=0,\n",
       "                                                             num_parallel_tree=1,\n",
       "                                                             predictor=&#x27;auto&#x27;,\n",
       "                                                             random_state=0,\n",
       "                                                             reg_alpha=0,\n",
       "                                                             reg_lambda=1, ...))])),\n",
       "                             (&#x27;rf&#x27;,\n",
       "                              Pipeline(steps=[(&#x27;tfidfvectorizer&#x27;,\n",
       "                                               TfidfVectorizer()),\n",
       "                                              (&#x27;randomforestclassifier&#x27;,\n",
       "                                               RandomForestClassifier(class_weight=&#x27;balanced&#x27;,\n",
       "                                                                      min_samples_leaf=15,\n",
       "                                                                      min_samples_split=40,\n",
       "                                                                      n_estimators=40,\n",
       "                                                                      n_jobs=-2,\n",
       "                                                                      random_state=9))]))])</pre><b>In a Jupyter environment, please rerun this cell to show the HTML representation or trust the notebook. <br />On GitHub, the HTML representation is unable to render, please try loading this page with nbviewer.org.</b></div><div class=\"sk-container\" hidden><div class=\"sk-item sk-dashed-wrapped\"><div class=\"sk-label-container\"><div class=\"sk-label sk-toggleable\"><input class=\"sk-toggleable__control sk-hidden--visually\" id=\"sk-estimator-id-5\" type=\"checkbox\" ><label for=\"sk-estimator-id-5\" class=\"sk-toggleable__label sk-toggleable__label-arrow\">VotingClassifier</label><div class=\"sk-toggleable__content\"><pre>VotingClassifier(estimators=[(&#x27;nb&#x27;,\n",
       "                              Pipeline(steps=[(&#x27;tfidfvectorizer&#x27;,\n",
       "                                               TfidfVectorizer(max_df=0.9,\n",
       "                                                               min_df=0.03,\n",
       "                                                               ngram_range=(1,\n",
       "                                                                            2),\n",
       "                                                               stop_words=&#x27;english&#x27;)),\n",
       "                                              (&#x27;multinomialnb&#x27;,\n",
       "                                               MultinomialNB(alpha=0.3))])),\n",
       "                             (&#x27;xgb&#x27;,\n",
       "                              Pipeline(steps=[(&#x27;tfidfvectorizer&#x27;,\n",
       "                                               TfidfVectorizer()),\n",
       "                                              (&#x27;xgbclassifier&#x27;,\n",
       "                                               XGBClassifier(base_score=0.5,\n",
       "                                                             booster=&#x27;gbtree&#x27;,\n",
       "                                                             callbacks=None,\n",
       "                                                             colsample_bylev...\n",
       "                                                             monotone_constraints=&#x27;()&#x27;,\n",
       "                                                             n_estimators=100,\n",
       "                                                             n_jobs=0,\n",
       "                                                             num_parallel_tree=1,\n",
       "                                                             predictor=&#x27;auto&#x27;,\n",
       "                                                             random_state=0,\n",
       "                                                             reg_alpha=0,\n",
       "                                                             reg_lambda=1, ...))])),\n",
       "                             (&#x27;rf&#x27;,\n",
       "                              Pipeline(steps=[(&#x27;tfidfvectorizer&#x27;,\n",
       "                                               TfidfVectorizer()),\n",
       "                                              (&#x27;randomforestclassifier&#x27;,\n",
       "                                               RandomForestClassifier(class_weight=&#x27;balanced&#x27;,\n",
       "                                                                      min_samples_leaf=15,\n",
       "                                                                      min_samples_split=40,\n",
       "                                                                      n_estimators=40,\n",
       "                                                                      n_jobs=-2,\n",
       "                                                                      random_state=9))]))])</pre></div></div></div><div class=\"sk-parallel\"><div class=\"sk-parallel-item\"><div class=\"sk-item\"><div class=\"sk-label-container\"><div class=\"sk-label sk-toggleable\"><label>nb</label></div></div><div class=\"sk-serial\"><div class=\"sk-item\"><div class=\"sk-serial\"><div class=\"sk-item\"><div class=\"sk-estimator sk-toggleable\"><input class=\"sk-toggleable__control sk-hidden--visually\" id=\"sk-estimator-id-6\" type=\"checkbox\" ><label for=\"sk-estimator-id-6\" class=\"sk-toggleable__label sk-toggleable__label-arrow\">TfidfVectorizer</label><div class=\"sk-toggleable__content\"><pre>TfidfVectorizer(max_df=0.9, min_df=0.03, ngram_range=(1, 2),\n",
       "                stop_words=&#x27;english&#x27;)</pre></div></div></div><div class=\"sk-item\"><div class=\"sk-estimator sk-toggleable\"><input class=\"sk-toggleable__control sk-hidden--visually\" id=\"sk-estimator-id-7\" type=\"checkbox\" ><label for=\"sk-estimator-id-7\" class=\"sk-toggleable__label sk-toggleable__label-arrow\">MultinomialNB</label><div class=\"sk-toggleable__content\"><pre>MultinomialNB(alpha=0.3)</pre></div></div></div></div></div></div></div></div><div class=\"sk-parallel-item\"><div class=\"sk-item\"><div class=\"sk-label-container\"><div class=\"sk-label sk-toggleable\"><label>xgb</label></div></div><div class=\"sk-serial\"><div class=\"sk-item\"><div class=\"sk-serial\"><div class=\"sk-item\"><div class=\"sk-estimator sk-toggleable\"><input class=\"sk-toggleable__control sk-hidden--visually\" id=\"sk-estimator-id-8\" type=\"checkbox\" ><label for=\"sk-estimator-id-8\" class=\"sk-toggleable__label sk-toggleable__label-arrow\">TfidfVectorizer</label><div class=\"sk-toggleable__content\"><pre>TfidfVectorizer()</pre></div></div></div><div class=\"sk-item\"><div class=\"sk-estimator sk-toggleable\"><input class=\"sk-toggleable__control sk-hidden--visually\" id=\"sk-estimator-id-9\" type=\"checkbox\" ><label for=\"sk-estimator-id-9\" class=\"sk-toggleable__label sk-toggleable__label-arrow\">XGBClassifier</label><div class=\"sk-toggleable__content\"><pre>XGBClassifier(base_score=0.5, booster=&#x27;gbtree&#x27;, callbacks=None,\n",
       "              colsample_bylevel=1, colsample_bynode=1, colsample_bytree=1,\n",
       "              early_stopping_rounds=None, enable_categorical=False,\n",
       "              eval_metric=None, gamma=0, gpu_id=-1, grow_policy=&#x27;depthwise&#x27;,\n",
       "              importance_type=None, interaction_constraints=&#x27;&#x27;,\n",
       "              learning_rate=0.300000012, max_bin=256, max_cat_to_onehot=4,\n",
       "              max_delta_step=0, max_depth=6, max_leaves=0, min_child_weight=1,\n",
       "              missing=nan, monotone_constraints=&#x27;()&#x27;, n_estimators=100,\n",
       "              n_jobs=0, num_parallel_tree=1, predictor=&#x27;auto&#x27;, random_state=0,\n",
       "              reg_alpha=0, reg_lambda=1, ...)</pre></div></div></div></div></div></div></div></div><div class=\"sk-parallel-item\"><div class=\"sk-item\"><div class=\"sk-label-container\"><div class=\"sk-label sk-toggleable\"><label>rf</label></div></div><div class=\"sk-serial\"><div class=\"sk-item\"><div class=\"sk-serial\"><div class=\"sk-item\"><div class=\"sk-estimator sk-toggleable\"><input class=\"sk-toggleable__control sk-hidden--visually\" id=\"sk-estimator-id-10\" type=\"checkbox\" ><label for=\"sk-estimator-id-10\" class=\"sk-toggleable__label sk-toggleable__label-arrow\">TfidfVectorizer</label><div class=\"sk-toggleable__content\"><pre>TfidfVectorizer()</pre></div></div></div><div class=\"sk-item\"><div class=\"sk-estimator sk-toggleable\"><input class=\"sk-toggleable__control sk-hidden--visually\" id=\"sk-estimator-id-11\" type=\"checkbox\" ><label for=\"sk-estimator-id-11\" class=\"sk-toggleable__label sk-toggleable__label-arrow\">RandomForestClassifier</label><div class=\"sk-toggleable__content\"><pre>RandomForestClassifier(class_weight=&#x27;balanced&#x27;, min_samples_leaf=15,\n",
       "                       min_samples_split=40, n_estimators=40, n_jobs=-2,\n",
       "                       random_state=9)</pre></div></div></div></div></div></div></div></div></div></div></div></div>"
      ],
      "text/plain": [
       "VotingClassifier(estimators=[('nb',\n",
       "                              Pipeline(steps=[('tfidfvectorizer',\n",
       "                                               TfidfVectorizer(max_df=0.9,\n",
       "                                                               min_df=0.03,\n",
       "                                                               ngram_range=(1,\n",
       "                                                                            2),\n",
       "                                                               stop_words='english')),\n",
       "                                              ('multinomialnb',\n",
       "                                               MultinomialNB(alpha=0.3))])),\n",
       "                             ('xgb',\n",
       "                              Pipeline(steps=[('tfidfvectorizer',\n",
       "                                               TfidfVectorizer()),\n",
       "                                              ('xgbclassifier',\n",
       "                                               XGBClassifier(base_score=0.5,\n",
       "                                                             booster='gbtree',\n",
       "                                                             callbacks=None,\n",
       "                                                             colsample_bylev...\n",
       "                                                             monotone_constraints='()',\n",
       "                                                             n_estimators=100,\n",
       "                                                             n_jobs=0,\n",
       "                                                             num_parallel_tree=1,\n",
       "                                                             predictor='auto',\n",
       "                                                             random_state=0,\n",
       "                                                             reg_alpha=0,\n",
       "                                                             reg_lambda=1, ...))])),\n",
       "                             ('rf',\n",
       "                              Pipeline(steps=[('tfidfvectorizer',\n",
       "                                               TfidfVectorizer()),\n",
       "                                              ('randomforestclassifier',\n",
       "                                               RandomForestClassifier(class_weight='balanced',\n",
       "                                                                      min_samples_leaf=15,\n",
       "                                                                      min_samples_split=40,\n",
       "                                                                      n_estimators=40,\n",
       "                                                                      n_jobs=-2,\n",
       "                                                                      random_state=9))]))])"
      ]
     },
     "execution_count": 73,
     "metadata": {},
     "output_type": "execute_result"
    }
   ],
   "source": [
    "ensamble"
   ]
  },
  {
   "cell_type": "markdown",
   "id": "e3343af5",
   "metadata": {},
   "source": [
    "Sobre el ensamble realizamos una validacion cruzada para comprobar que su metricas al estar asociadas a las metricas individuales de los modelos siguie siendo optima "
   ]
  },
  {
   "cell_type": "code",
   "execution_count": 74,
   "id": "e2874941",
   "metadata": {},
   "outputs": [],
   "source": [
    "kfoldcv = StratifiedKFold(n_splits=5) \n",
    "scorer_fn = make_scorer(sklearn.metrics.f1_score)\n",
    "\n",
    "if not exists ('modelos/TP2/ensambleCrossvalidation.joblib.gz.part-aa'):\n",
    "    resultados_rf = cross_validate(ensamble, x_train, \n",
    "                                   y_train, cv=kfoldcv,\n",
    "                                   scoring=scorer_fn,\n",
    "                                   return_estimator=True, n_jobs = JOBS)\n",
    "    \n",
    "    dump(resultados_rf, \"modelos/TP2/ensambleCrossvalidation.joblib\")\n",
    "    #Comprimimos el archivo\n",
    "    !gzip -v -9 modelos/TP2/ensambleCrossvalidation.joblib\n",
    "    #Separamos en varios archivos para que github no nos haga drama. #GithubDestruidoConElPoderDeUnix\n",
    "    !split -b 50m modelos/TP2/ensambleCrossvalidation.joblib.gz modelos/TP2/ensambleCrossvalidation.joblib.gz.part-\n",
    "    !rm modelos/TP2/ensambleCrossvalidation.joblib.gz\n",
    "\n",
    "else:\n",
    "    #Reconstruimos el zip\n",
    "    !cat modelos/TP2/ensambleCrossvalidation.joblib.gz.part-a* > modelos/TP2/ensambleCrossvalidation.joblib.gz\n",
    "    #Descomprimimos\n",
    "    !gzip -d -k modelos/TP2/ensambleCrossvalidation.joblib.gz\n",
    "    resultados_rf = load('modelos/TP2/ensambleCrossvalidation.joblib')\n",
    "    !rm modelos/TP2/ensambleCrossvalidation.joblib\n",
    "    !rm modelos/TP2/ensambleCrossvalidation.joblib.gz\n",
    "\n",
    "\n",
    "metricas_cv_rf = resultados_rf['test_score']"
   ]
  },
  {
   "cell_type": "code",
   "execution_count": 75,
   "id": "101a03d6",
   "metadata": {},
   "outputs": [
    {
     "data": {
      "text/plain": [
       "array([0.83010753, 0.83674358, 0.83285303, 0.83278026, 0.83367556])"
      ]
     },
     "execution_count": 75,
     "metadata": {},
     "output_type": "execute_result"
    }
   ],
   "source": [
    "metricas_cv_rf"
   ]
  },
  {
   "cell_type": "code",
   "execution_count": 76,
   "id": "9287b987",
   "metadata": {
    "scrolled": false
   },
   "outputs": [
    {
     "data": {
      "text/plain": [
       "Text(0.5, 1.0, 'Modelo entrenado con 5 folds')"
      ]
     },
     "execution_count": 76,
     "metadata": {},
     "output_type": "execute_result"
    },
    {
     "data": {
      "image/png": "[encoded data removed]",
      "text/plain": [
       "<Figure size 800x800 with 1 Axes>"
      ]
     },
     "metadata": {},
     "output_type": "display_data"
    }
   ],
   "source": [
    "metric_labels_CV_rf = ['F1 Score']*len(metricas_cv_rf) \n",
    "sns.set_context('talk')\n",
    "sns.set_style(\"darkgrid\")\n",
    "plt.figure(figsize=(8,8))\n",
    "sns.boxplot(metricas_cv_rf)\n",
    "plt.title(\"Modelo entrenado con 5 folds\")"
   ]
  },
  {
   "cell_type": "markdown",
   "id": "82e5fb37",
   "metadata": {},
   "source": [
    "## Hacemos prediccion sobre el set de testeo"
   ]
  },
  {
   "cell_type": "code",
   "execution_count": 77,
   "id": "2ee6eb03",
   "metadata": {},
   "outputs": [],
   "source": [
    "if not exists('submissions/TP2/ensamble.csv'):\n",
    "    pred = ensamble.predict(review_pruebas.review_es)\n",
    "    df_submission = pd.DataFrame({'id': review_pruebasOriginal['ID'], 'sentimiento': pred})\n",
    "    df_submission['sentimiento'] = df_submission['sentimiento'].map({1: 'positivo', 0: 'negativo'})\n",
    "    df_submission.to_csv('submissions/TP2/ensamble.csv', index=False)"
   ]
  },
  {
   "cell_type": "markdown",
   "id": "7a737470",
   "metadata": {},
   "source": [
    "Nota sobre el ensamble hibrido: \n",
    "\n",
    "El modelo de mejor performance en kaggle que elevo la posicion del equipo es un modelo incompleto puesto que esta armado unicamente con dos modelos, pero, el modelo expuesto en esta porción del analisis incluye los dos modelos usados en el armado del ensamble que genero la mejor predicción\n",
    "\n",
    "De manera conclusiva es importante destacar que los ensambles son los modelos que mejor encaran la predicción en el analisis de sentimientos de las reviews de peliculas "
   ]
  }
 ],
 "metadata": {
  "jupytext": {
   "cell_metadata_filter": "-all",
   "formats": "ipynb,md"
  },
  "kernelspec": {
   "display_name": "Python 3 (ipykernel)",
   "language": "python",
   "name": "python3"
  },
  "language_info": {
   "codemirror_mode": {
    "name": "ipython",
    "version": 3
   },
   "file_extension": ".py",
   "mimetype": "text/x-python",
   "name": "python",
   "nbconvert_exporter": "python",
   "pygments_lexer": "ipython3",
   "version": "3.11.4"
  }
 },
 "nbformat": 4,
 "nbformat_minor": 5
}
