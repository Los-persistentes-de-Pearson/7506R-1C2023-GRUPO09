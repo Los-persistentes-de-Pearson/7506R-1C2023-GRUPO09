{
  "nbformat": 4,
  "nbformat_minor": 0,
  "metadata": {
    "colab": {
      "provenance": [],
      "include_colab_link": true
    },
    "kernelspec": {
      "name": "python3",
      "display_name": "Python 3"
    },
    "language_info": {
      "name": "python"
    }
  },
  "cells": [
    {
      "cell_type": "markdown",
      "metadata": {
        "id": "view-in-github",
        "colab_type": "text"
      },
      "source": [
        "<a href=\"https://colab.research.google.com/github/Jignacio14/7506R-1C2023-GRUPO09/blob/main/7506R_TP1_GRUPO9_CHP1_ENTREGA.ipynb\" target=\"_parent\"><img src=\"https://colab.research.google.com/assets/colab-badge.svg\" alt=\"Open In Colab\"/></a>"
      ]
    },
    {
      "cell_type": "code",
      "execution_count": 1,
      "metadata": {
        "colab": {
          "base_uri": "https://localhost:8080/"
        },
        "id": "cgGFnd9IIGOP",
        "outputId": "75196d62-3f4a-4eba-ddae-68d800a47a90"
      },
      "outputs": [
        {
          "output_type": "stream",
          "name": "stdout",
          "text": [
            "hola mundo\n",
            "hola mundo\n"
          ]
        }
      ],
      "source": [
        "import pandas as pd \n",
        "\n",
        "print(\"hola mundo\")\n",
        "print(\"hola mundo\")"
      ]
    }
  ]
}