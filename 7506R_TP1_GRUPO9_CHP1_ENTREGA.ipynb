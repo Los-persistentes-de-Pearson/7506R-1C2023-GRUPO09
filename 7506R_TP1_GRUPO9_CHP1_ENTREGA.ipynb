{
  "cells": [
    {
      "cell_type": "markdown",
      "metadata": {
        "colab_type": "text",
        "id": "view-in-github"
      },
      "source": [
        "<a href=\"https://colab.research.google.com/github/Jignacio14/7506R-1C2023-GRUPO09/blob/Pruebas/7506R_TP1_GRUPO9_CHP1_ENTREGA.ipynb\" target=\"_parent\"><img src=\"https://colab.research.google.com/assets/colab-badge.svg\" alt=\"Open In Colab\"/></a>"
      ]
    },
    {
      "cell_type": "code",
      "execution_count": 1,
      "metadata": {
        "colab": {
          "base_uri": "https://localhost:8080/"
        },
        "id": "cgGFnd9IIGOP",
        "outputId": "9c763f5e-78a8-4578-dfc9-8f1a9e0eab84"
      },
      "outputs": [
        {
          "name": "stdout",
          "output_type": "stream",
          "text": [
            "hola mundo\n",
            "hola mundo\n",
            "hola mundo de germannnn\n",
            "ultimo commit de prueba desde visual local\n",
            "uno mas xq creo q rompi algo...\n",
            "un commit para probar pull dde visual\n"
          ]
        }
      ],
      "source": [
        "import pandas as pd \n",
        "\n",
        "print(\"hola mundo\")\n",
        "print(\"hola mundo\")\n",
        "\n",
        "print(\"hola mundo de germannnn\")\n",
        "print(\"ultimo commit de prueba desde visual local\")\n",
        "print(\"uno mas xq creo q rompi algo...\")\n",
        "print(\"un commit para probar pull dde visual\")\n",
        "print(\"\"\"Todo ok. Tengan cuidado con la rama a la q pushean y q el archivo q abran en collab se el de esa rama\n",
        "xq en collab no t muestra (visiblemente) nada de la rama en la q estas laburando.\n",
        "Otro detalle q no se si sabre explicarlo. En visual, escribir algo y borrarlo (si incluso aunque lo borren y dejen igual), \n",
        "genera un cambio en una href q no se bien q hace. Solo por si git les marca como modif un archivo y no saben xq. \n",
        "Yo tavia no entendi q es lo q cambia...\"\"\")\n"
      ]
    },
    {
      "cell_type": "code",
      "execution_count": null,
      "metadata": {
        "id": "DrQREgo3aIst"
      },
      "outputs": [],
      "source": []
    }
  ],
  "metadata": {
    "colab": {
      "include_colab_link": true,
      "provenance": []
    },
    "kernelspec": {
      "display_name": "Python 3",
      "name": "python3"
    },
    "language_info": {
      "codemirror_mode": {
        "name": "ipython",
        "version": 3
      },
      "file_extension": ".py",
      "mimetype": "text/x-python",
      "name": "python",
      "nbconvert_exporter": "python",
      "pygments_lexer": "ipython3",
      "version": "3.10.2"
    }
  },
  "nbformat": 4,
  "nbformat_minor": 0
}
