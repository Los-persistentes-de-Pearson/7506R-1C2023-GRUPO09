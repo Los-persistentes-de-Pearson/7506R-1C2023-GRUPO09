{
  "cells": [
    {
      "cell_type": "markdown",
      "metadata": {
        "id": "view-in-github",
        "colab_type": "text"
      },
      "source": [
        "<a href=\"https://colab.research.google.com/github/Jignacio14/7506R-1C2023-GRUPO09/blob/Pruebas/7506R_TP1_GRUPO9_CHP1_ENTREGA.ipynb\" target=\"_parent\"><img src=\"https://colab.research.google.com/assets/colab-badge.svg\" alt=\"Open In Colab\"/></a>"
      ]
    },
    {
      "cell_type": "code",
      "execution_count": 1,
      "metadata": {
        "colab": {
          "base_uri": "https://localhost:8080/"
        },
        "id": "cgGFnd9IIGOP",
        "outputId": "9c763f5e-78a8-4578-dfc9-8f1a9e0eab84"
      },
      "outputs": [
        {
          "output_type": "stream",
          "name": "stdout",
          "text": [
            "hola mundo\n",
            "hola mundo\n",
            "hola mundo de germannnn\n",
            "ultimo commit de prueba desde visual local\n",
            "uno mas xq creo q rompi algo...\n",
            "un commit para probar pull dde visual\n"
          ]
        }
      ],
      "source": [
        "import pandas as pd \n",
        "\n",
        "print(\"hola mundo\")\n",
        "print(\"hola mundo\")\n",
        "\n",
        "print(\"hola mundo de germannnn\")\n",
        "print(\"ultimo commit de prueba desde visual local\")\n",
        "print(\"uno mas xq creo q rompi algo...\")\n",
        "print(\"un commit para probar pull dde visual\")"
      ]
    },
    {
      "cell_type": "code",
      "source": [],
      "metadata": {
        "id": "DrQREgo3aIst"
      },
      "execution_count": null,
      "outputs": []
    }
  ],
  "metadata": {
    "colab": {
      "provenance": [],
      "include_colab_link": true
    },
    "kernelspec": {
      "display_name": "Python 3",
      "name": "python3"
    },
    "language_info": {
      "codemirror_mode": {
        "name": "ipython",
        "version": 3
      },
      "file_extension": ".py",
      "mimetype": "text/x-python",
      "name": "python",
      "nbconvert_exporter": "python",
      "pygments_lexer": "ipython3",
      "version": "3.10.2"
    }
  },
  "nbformat": 4,
  "nbformat_minor": 0
}