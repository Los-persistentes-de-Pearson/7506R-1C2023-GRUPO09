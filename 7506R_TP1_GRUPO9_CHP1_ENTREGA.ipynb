{
  "cells": [
    {
      "cell_type": "markdown",
      "metadata": {
        "id": "view-in-github",
        "colab_type": "text"
      },
      "source": [
        "<a href=\"https://colab.research.google.com/github/Jignacio14/7506R-1C2023-GRUPO09/blob/Pruebas/7506R_TP1_GRUPO9_CHP1_ENTREGA.ipynb\" target=\"_parent\"><img src=\"https://colab.research.google.com/assets/colab-badge.svg\" alt=\"Open In Colab\"/></a>"
      ]
    },
    {
      "cell_type": "markdown",
      "metadata": {
        "id": "Sw6mzQRwLShy"
      },
      "source": [
        "# Pruebas"
      ]
    },
    {
      "cell_type": "markdown",
      "metadata": {
        "id": "FDgKED2rLija"
      },
      "source": [
        "En este jupyter notebook vamos a explorar un conjunto de datos sobre reservas de hoteles y tratar de hallar un modelo que nos permita predecir si la reserva va a ser cancelada "
      ]
    },
    {
      "cell_type": "markdown",
      "metadata": {
        "id": "pgJGw_W2zXW5"
      },
      "source": [
        "Importamos todas las librerias que vamos a usar"
      ]
    },
    {
      "cell_type": "code",
      "execution_count": 17,
      "metadata": {
        "id": "cgGFnd9IIGOP"
      },
      "outputs": [],
      "source": [
        "import pandas as pd \n",
        "import numpy as np\n",
        "import sklearn as sk\n",
        "import seaborn as sns\n",
        "from matplotlib import pyplot as plt"
      ]
    },
    {
      "cell_type": "markdown",
      "metadata": {
        "id": "JgJvB-PHzXW7"
      },
      "source": [
        "Cargamos los datos en un dataframe de pandas. Creamos una copia del dataframe original y trabajamos encima de la copia"
      ]
    },
    {
      "cell_type": "code",
      "execution_count": 18,
      "metadata": {
        "colab": {
          "base_uri": "https://localhost:8080/"
        },
        "id": "DrQREgo3aIst",
        "outputId": "061fb92b-a045-4224-de7f-b91dd4ea2906"
      },
      "outputs": [
        {
          "output_type": "stream",
          "name": "stdout",
          "text": [
            "El data frame esta compuesto por 61913 filas y 33 columnas\n"
          ]
        }
      ],
      "source": [
        "hotelsDfOriginal = pd.read_csv(\"./hotels_train.csv\")\n",
        "hotelsdf = hotelsDfOriginal.copy()\n",
        "\n",
        "print(\"El data frame esta compuesto por \"f\"{hotelsdf.shape[0]}\"\" filas y \"f\"{hotelsdf.shape[1]}\"\" columnas\")"
      ]
    },
    {
      "cell_type": "markdown",
      "metadata": {
        "id": "b2Ca8AAgNPoL"
      },
      "source": [
        "Un vistaso básico a la información contenida en el dataframe:"
      ]
    },
    {
      "cell_type": "code",
      "execution_count": 19,
      "metadata": {
        "colab": {
          "base_uri": "https://localhost:8080/",
          "height": 894
        },
        "id": "iaCDmUpqNIs9",
        "outputId": "f99562c3-a030-4fa1-9d64-3feeccb58e63"
      },
      "outputs": [
        {
          "output_type": "execute_result",
          "data": {
            "text/plain": [
              "              hotel  lead_time  arrival_date_year arrival_date_month  \\\n",
              "0        City Hotel         49               2016          September   \n",
              "1      Resort Hotel          4               2015            October   \n",
              "52698    City Hotel         49               2016               July   \n",
              "28135    City Hotel         95               2016           November   \n",
              "41556  Resort Hotel        153               2015             August   \n",
              "14613    City Hotel         44               2016           November   \n",
              "43191  Resort Hotel          1               2016                May   \n",
              "61911  Resort Hotel        143               2015            October   \n",
              "61912    City Hotel         57               2016              April   \n",
              "\n",
              "       arrival_date_week_number  arrival_date_day_of_month  \\\n",
              "0                            37                          5   \n",
              "1                            44                         31   \n",
              "52698                        29                         11   \n",
              "28135                        45                          5   \n",
              "41556                        33                          9   \n",
              "14613                        48                         22   \n",
              "43191                        20                         10   \n",
              "61911                        41                         10   \n",
              "61912                        17                         17   \n",
              "\n",
              "       stays_in_weekend_nights  stays_in_week_nights  adults  children  ...  \\\n",
              "0                            1                     2       1       0.0  ...   \n",
              "1                            0                     1       2       0.0  ...   \n",
              "52698                        1                     0       2       0.0  ...   \n",
              "28135                        0                     1       1       0.0  ...   \n",
              "41556                        2                     3       2       0.0  ...   \n",
              "14613                        0                     3       2       0.0  ...   \n",
              "43191                        0                     1       1       0.0  ...   \n",
              "61911                        2                     5       2       0.0  ...   \n",
              "61912                        2                     5       2       0.0  ...   \n",
              "\n",
              "       company days_in_waiting_list    customer_type     adr  \\\n",
              "0          NaN                    0        Transient  115.50   \n",
              "1          NaN                    0        Transient   42.00   \n",
              "52698      NaN                    0        Transient   93.15   \n",
              "28135      NaN                    0  Transient-Party   75.00   \n",
              "41556      NaN                    0        Transient  236.00   \n",
              "14613      NaN                    0        Transient   82.13   \n",
              "43191      NaN                    0  Transient-Party  109.00   \n",
              "61911      NaN                    0        Transient   36.05   \n",
              "61912      NaN                    0        Transient  143.29   \n",
              "\n",
              "      required_car_parking_spaces  total_of_special_requests  \\\n",
              "0                               0                          1   \n",
              "1                               1                          0   \n",
              "52698                           0                          0   \n",
              "28135                           0                          0   \n",
              "41556                           1                          1   \n",
              "14613                           0                          0   \n",
              "43191                           0                          1   \n",
              "61911                           0                          0   \n",
              "61912                           0                          0   \n",
              "\n",
              "       reservation_status  reservation_status_date  \\\n",
              "0                Canceled               2016-08-25   \n",
              "1               Check-Out               2015-11-01   \n",
              "52698            Canceled               2016-06-20   \n",
              "28135            Canceled               2016-10-21   \n",
              "41556           Check-Out               2015-08-14   \n",
              "14613            Canceled               2016-10-09   \n",
              "43191           Check-Out               2016-05-11   \n",
              "61911            Canceled               2015-07-08   \n",
              "61912            Canceled               2016-04-09   \n",
              "\n",
              "                                         id is_canceled  \n",
              "0      7aa4cc6b-b92c-4061-b21d-4f9e0cac4689           1  \n",
              "1      b1428f80-c56c-4ae4-91a9-6962edae08b1           0  \n",
              "52698  c45bf937-566f-4e68-b302-604cba26b402           1  \n",
              "28135  b0e5b157-80f7-4cf1-8924-a57b55378df9           1  \n",
              "41556  a18ecdbd-a31a-416f-9857-210733c5fda0           0  \n",
              "14613  98a0421d-87bb-4285-bd24-6ac95eb0f06c           1  \n",
              "43191  b55ace4b-c7d0-4f1f-bd70-00c64ed14447           0  \n",
              "61911  01906859-1094-4e37-b13e-b015b594d159           1  \n",
              "61912  7137e599-4442-41fb-b147-4aba9f344e38           1  \n",
              "\n",
              "[9 rows x 33 columns]"
            ],
            "text/html": [
              "\n",
              "  <div id=\"df-df2bce35-3a98-4849-ad81-659101646d2c\">\n",
              "    <div class=\"colab-df-container\">\n",
              "      <div>\n",
              "<style scoped>\n",
              "    .dataframe tbody tr th:only-of-type {\n",
              "        vertical-align: middle;\n",
              "    }\n",
              "\n",
              "    .dataframe tbody tr th {\n",
              "        vertical-align: top;\n",
              "    }\n",
              "\n",
              "    .dataframe thead th {\n",
              "        text-align: right;\n",
              "    }\n",
              "</style>\n",
              "<table border=\"1\" class=\"dataframe\">\n",
              "  <thead>\n",
              "    <tr style=\"text-align: right;\">\n",
              "      <th></th>\n",
              "      <th>hotel</th>\n",
              "      <th>lead_time</th>\n",
              "      <th>arrival_date_year</th>\n",
              "      <th>arrival_date_month</th>\n",
              "      <th>arrival_date_week_number</th>\n",
              "      <th>arrival_date_day_of_month</th>\n",
              "      <th>stays_in_weekend_nights</th>\n",
              "      <th>stays_in_week_nights</th>\n",
              "      <th>adults</th>\n",
              "      <th>children</th>\n",
              "      <th>...</th>\n",
              "      <th>company</th>\n",
              "      <th>days_in_waiting_list</th>\n",
              "      <th>customer_type</th>\n",
              "      <th>adr</th>\n",
              "      <th>required_car_parking_spaces</th>\n",
              "      <th>total_of_special_requests</th>\n",
              "      <th>reservation_status</th>\n",
              "      <th>reservation_status_date</th>\n",
              "      <th>id</th>\n",
              "      <th>is_canceled</th>\n",
              "    </tr>\n",
              "  </thead>\n",
              "  <tbody>\n",
              "    <tr>\n",
              "      <th>0</th>\n",
              "      <td>City Hotel</td>\n",
              "      <td>49</td>\n",
              "      <td>2016</td>\n",
              "      <td>September</td>\n",
              "      <td>37</td>\n",
              "      <td>5</td>\n",
              "      <td>1</td>\n",
              "      <td>2</td>\n",
              "      <td>1</td>\n",
              "      <td>0.0</td>\n",
              "      <td>...</td>\n",
              "      <td>NaN</td>\n",
              "      <td>0</td>\n",
              "      <td>Transient</td>\n",
              "      <td>115.50</td>\n",
              "      <td>0</td>\n",
              "      <td>1</td>\n",
              "      <td>Canceled</td>\n",
              "      <td>2016-08-25</td>\n",
              "      <td>7aa4cc6b-b92c-4061-b21d-4f9e0cac4689</td>\n",
              "      <td>1</td>\n",
              "    </tr>\n",
              "    <tr>\n",
              "      <th>1</th>\n",
              "      <td>Resort Hotel</td>\n",
              "      <td>4</td>\n",
              "      <td>2015</td>\n",
              "      <td>October</td>\n",
              "      <td>44</td>\n",
              "      <td>31</td>\n",
              "      <td>0</td>\n",
              "      <td>1</td>\n",
              "      <td>2</td>\n",
              "      <td>0.0</td>\n",
              "      <td>...</td>\n",
              "      <td>NaN</td>\n",
              "      <td>0</td>\n",
              "      <td>Transient</td>\n",
              "      <td>42.00</td>\n",
              "      <td>1</td>\n",
              "      <td>0</td>\n",
              "      <td>Check-Out</td>\n",
              "      <td>2015-11-01</td>\n",
              "      <td>b1428f80-c56c-4ae4-91a9-6962edae08b1</td>\n",
              "      <td>0</td>\n",
              "    </tr>\n",
              "    <tr>\n",
              "      <th>52698</th>\n",
              "      <td>City Hotel</td>\n",
              "      <td>49</td>\n",
              "      <td>2016</td>\n",
              "      <td>July</td>\n",
              "      <td>29</td>\n",
              "      <td>11</td>\n",
              "      <td>1</td>\n",
              "      <td>0</td>\n",
              "      <td>2</td>\n",
              "      <td>0.0</td>\n",
              "      <td>...</td>\n",
              "      <td>NaN</td>\n",
              "      <td>0</td>\n",
              "      <td>Transient</td>\n",
              "      <td>93.15</td>\n",
              "      <td>0</td>\n",
              "      <td>0</td>\n",
              "      <td>Canceled</td>\n",
              "      <td>2016-06-20</td>\n",
              "      <td>c45bf937-566f-4e68-b302-604cba26b402</td>\n",
              "      <td>1</td>\n",
              "    </tr>\n",
              "    <tr>\n",
              "      <th>28135</th>\n",
              "      <td>City Hotel</td>\n",
              "      <td>95</td>\n",
              "      <td>2016</td>\n",
              "      <td>November</td>\n",
              "      <td>45</td>\n",
              "      <td>5</td>\n",
              "      <td>0</td>\n",
              "      <td>1</td>\n",
              "      <td>1</td>\n",
              "      <td>0.0</td>\n",
              "      <td>...</td>\n",
              "      <td>NaN</td>\n",
              "      <td>0</td>\n",
              "      <td>Transient-Party</td>\n",
              "      <td>75.00</td>\n",
              "      <td>0</td>\n",
              "      <td>0</td>\n",
              "      <td>Canceled</td>\n",
              "      <td>2016-10-21</td>\n",
              "      <td>b0e5b157-80f7-4cf1-8924-a57b55378df9</td>\n",
              "      <td>1</td>\n",
              "    </tr>\n",
              "    <tr>\n",
              "      <th>41556</th>\n",
              "      <td>Resort Hotel</td>\n",
              "      <td>153</td>\n",
              "      <td>2015</td>\n",
              "      <td>August</td>\n",
              "      <td>33</td>\n",
              "      <td>9</td>\n",
              "      <td>2</td>\n",
              "      <td>3</td>\n",
              "      <td>2</td>\n",
              "      <td>0.0</td>\n",
              "      <td>...</td>\n",
              "      <td>NaN</td>\n",
              "      <td>0</td>\n",
              "      <td>Transient</td>\n",
              "      <td>236.00</td>\n",
              "      <td>1</td>\n",
              "      <td>1</td>\n",
              "      <td>Check-Out</td>\n",
              "      <td>2015-08-14</td>\n",
              "      <td>a18ecdbd-a31a-416f-9857-210733c5fda0</td>\n",
              "      <td>0</td>\n",
              "    </tr>\n",
              "    <tr>\n",
              "      <th>14613</th>\n",
              "      <td>City Hotel</td>\n",
              "      <td>44</td>\n",
              "      <td>2016</td>\n",
              "      <td>November</td>\n",
              "      <td>48</td>\n",
              "      <td>22</td>\n",
              "      <td>0</td>\n",
              "      <td>3</td>\n",
              "      <td>2</td>\n",
              "      <td>0.0</td>\n",
              "      <td>...</td>\n",
              "      <td>NaN</td>\n",
              "      <td>0</td>\n",
              "      <td>Transient</td>\n",
              "      <td>82.13</td>\n",
              "      <td>0</td>\n",
              "      <td>0</td>\n",
              "      <td>Canceled</td>\n",
              "      <td>2016-10-09</td>\n",
              "      <td>98a0421d-87bb-4285-bd24-6ac95eb0f06c</td>\n",
              "      <td>1</td>\n",
              "    </tr>\n",
              "    <tr>\n",
              "      <th>43191</th>\n",
              "      <td>Resort Hotel</td>\n",
              "      <td>1</td>\n",
              "      <td>2016</td>\n",
              "      <td>May</td>\n",
              "      <td>20</td>\n",
              "      <td>10</td>\n",
              "      <td>0</td>\n",
              "      <td>1</td>\n",
              "      <td>1</td>\n",
              "      <td>0.0</td>\n",
              "      <td>...</td>\n",
              "      <td>NaN</td>\n",
              "      <td>0</td>\n",
              "      <td>Transient-Party</td>\n",
              "      <td>109.00</td>\n",
              "      <td>0</td>\n",
              "      <td>1</td>\n",
              "      <td>Check-Out</td>\n",
              "      <td>2016-05-11</td>\n",
              "      <td>b55ace4b-c7d0-4f1f-bd70-00c64ed14447</td>\n",
              "      <td>0</td>\n",
              "    </tr>\n",
              "    <tr>\n",
              "      <th>61911</th>\n",
              "      <td>Resort Hotel</td>\n",
              "      <td>143</td>\n",
              "      <td>2015</td>\n",
              "      <td>October</td>\n",
              "      <td>41</td>\n",
              "      <td>10</td>\n",
              "      <td>2</td>\n",
              "      <td>5</td>\n",
              "      <td>2</td>\n",
              "      <td>0.0</td>\n",
              "      <td>...</td>\n",
              "      <td>NaN</td>\n",
              "      <td>0</td>\n",
              "      <td>Transient</td>\n",
              "      <td>36.05</td>\n",
              "      <td>0</td>\n",
              "      <td>0</td>\n",
              "      <td>Canceled</td>\n",
              "      <td>2015-07-08</td>\n",
              "      <td>01906859-1094-4e37-b13e-b015b594d159</td>\n",
              "      <td>1</td>\n",
              "    </tr>\n",
              "    <tr>\n",
              "      <th>61912</th>\n",
              "      <td>City Hotel</td>\n",
              "      <td>57</td>\n",
              "      <td>2016</td>\n",
              "      <td>April</td>\n",
              "      <td>17</td>\n",
              "      <td>17</td>\n",
              "      <td>2</td>\n",
              "      <td>5</td>\n",
              "      <td>2</td>\n",
              "      <td>0.0</td>\n",
              "      <td>...</td>\n",
              "      <td>NaN</td>\n",
              "      <td>0</td>\n",
              "      <td>Transient</td>\n",
              "      <td>143.29</td>\n",
              "      <td>0</td>\n",
              "      <td>0</td>\n",
              "      <td>Canceled</td>\n",
              "      <td>2016-04-09</td>\n",
              "      <td>7137e599-4442-41fb-b147-4aba9f344e38</td>\n",
              "      <td>1</td>\n",
              "    </tr>\n",
              "  </tbody>\n",
              "</table>\n",
              "<p>9 rows × 33 columns</p>\n",
              "</div>\n",
              "      <button class=\"colab-df-convert\" onclick=\"convertToInteractive('df-df2bce35-3a98-4849-ad81-659101646d2c')\"\n",
              "              title=\"Convert this dataframe to an interactive table.\"\n",
              "              style=\"display:none;\">\n",
              "        \n",
              "  <svg xmlns=\"http://www.w3.org/2000/svg\" height=\"24px\"viewBox=\"0 0 24 24\"\n",
              "       width=\"24px\">\n",
              "    <path d=\"M0 0h24v24H0V0z\" fill=\"none\"/>\n",
              "    <path d=\"M18.56 5.44l.94 2.06.94-2.06 2.06-.94-2.06-.94-.94-2.06-.94 2.06-2.06.94zm-11 1L8.5 8.5l.94-2.06 2.06-.94-2.06-.94L8.5 2.5l-.94 2.06-2.06.94zm10 10l.94 2.06.94-2.06 2.06-.94-2.06-.94-.94-2.06-.94 2.06-2.06.94z\"/><path d=\"M17.41 7.96l-1.37-1.37c-.4-.4-.92-.59-1.43-.59-.52 0-1.04.2-1.43.59L10.3 9.45l-7.72 7.72c-.78.78-.78 2.05 0 2.83L4 21.41c.39.39.9.59 1.41.59.51 0 1.02-.2 1.41-.59l7.78-7.78 2.81-2.81c.8-.78.8-2.07 0-2.86zM5.41 20L4 18.59l7.72-7.72 1.47 1.35L5.41 20z\"/>\n",
              "  </svg>\n",
              "      </button>\n",
              "      \n",
              "  <style>\n",
              "    .colab-df-container {\n",
              "      display:flex;\n",
              "      flex-wrap:wrap;\n",
              "      gap: 12px;\n",
              "    }\n",
              "\n",
              "    .colab-df-convert {\n",
              "      background-color: #E8F0FE;\n",
              "      border: none;\n",
              "      border-radius: 50%;\n",
              "      cursor: pointer;\n",
              "      display: none;\n",
              "      fill: #1967D2;\n",
              "      height: 32px;\n",
              "      padding: 0 0 0 0;\n",
              "      width: 32px;\n",
              "    }\n",
              "\n",
              "    .colab-df-convert:hover {\n",
              "      background-color: #E2EBFA;\n",
              "      box-shadow: 0px 1px 2px rgba(60, 64, 67, 0.3), 0px 1px 3px 1px rgba(60, 64, 67, 0.15);\n",
              "      fill: #174EA6;\n",
              "    }\n",
              "\n",
              "    [theme=dark] .colab-df-convert {\n",
              "      background-color: #3B4455;\n",
              "      fill: #D2E3FC;\n",
              "    }\n",
              "\n",
              "    [theme=dark] .colab-df-convert:hover {\n",
              "      background-color: #434B5C;\n",
              "      box-shadow: 0px 1px 3px 1px rgba(0, 0, 0, 0.15);\n",
              "      filter: drop-shadow(0px 1px 2px rgba(0, 0, 0, 0.3));\n",
              "      fill: #FFFFFF;\n",
              "    }\n",
              "  </style>\n",
              "\n",
              "      <script>\n",
              "        const buttonEl =\n",
              "          document.querySelector('#df-df2bce35-3a98-4849-ad81-659101646d2c button.colab-df-convert');\n",
              "        buttonEl.style.display =\n",
              "          google.colab.kernel.accessAllowed ? 'block' : 'none';\n",
              "\n",
              "        async function convertToInteractive(key) {\n",
              "          const element = document.querySelector('#df-df2bce35-3a98-4849-ad81-659101646d2c');\n",
              "          const dataTable =\n",
              "            await google.colab.kernel.invokeFunction('convertToInteractive',\n",
              "                                                     [key], {});\n",
              "          if (!dataTable) return;\n",
              "\n",
              "          const docLinkHtml = 'Like what you see? Visit the ' +\n",
              "            '<a target=\"_blank\" href=https://colab.research.google.com/notebooks/data_table.ipynb>data table notebook</a>'\n",
              "            + ' to learn more about interactive tables.';\n",
              "          element.innerHTML = '';\n",
              "          dataTable['output_type'] = 'display_data';\n",
              "          await google.colab.output.renderOutput(dataTable, element);\n",
              "          const docLink = document.createElement('div');\n",
              "          docLink.innerHTML = docLinkHtml;\n",
              "          element.appendChild(docLink);\n",
              "        }\n",
              "      </script>\n",
              "    </div>\n",
              "  </div>\n",
              "  "
            ]
          },
          "metadata": {},
          "execution_count": 19
        }
      ],
      "source": [
        "pd.concat([hotelsdf.head(2), hotelsdf.sample(5), hotelsdf.tail(2)])"
      ]
    },
    {
      "cell_type": "markdown",
      "metadata": {
        "id": "x9G9HuNqzXXA"
      },
      "source": [
        "Renombramos las columnas del dataframe con nombres mas claros y en español"
      ]
    },
    {
      "cell_type": "code",
      "execution_count": 20,
      "metadata": {
        "id": "OTTSHx5eyGIR"
      },
      "outputs": [],
      "source": [
        "nuevas_columnas = {'hotel':'hotel_name', #\n",
        "    'lead_time':'lead_time',\n",
        "    'arrival_date_year':'arrival_year',#\n",
        "    'arrival_date_month':'arrival_month',#\n",
        "    'arrival_date_week_number':'arrival_week_number',\n",
        "    'arrival_date_day_of_month':'arrival_month_day',#\n",
        "    'stays_in_weekend_nights':'weekend_nights_num',#\n",
        "    'stays_in_week_nights':'week_nights_num', # \n",
        "    'adults':'adult_num',#\n",
        "    'children':'children_num', #En el paper, dice que children es un int. Pero figura como float64. #TODO: Investigar\n",
        "    'babies':'babies_num',\n",
        "    'company':'ID_compania',\n",
        "    'days_in_waiting_list': 'cantidad_dias_listaEspera',\n",
        "    'customer_type': 'tipo_cliente',\n",
        "    'adr': 'promedio_gastos_diarios', #No me termina de cerrar este valor\n",
        "    'required_car_parking_spaces': 'cantidad_estacionamientos_pedidos',\n",
        "    'total_of_special_requests': 'cantidad_pedidos_especiales',\n",
        "    'reservation_status': 'estado_reserva',\n",
        "    'reservation_status_date': 'estado_reserva_fecha',\n",
        "    'id': 'id',\n",
        "    'is_canceled': 'esta_cancelado',}\n",
        "\n",
        "nuevas_columnas = {\n",
        "    'adr':'average_daily_rate',\n",
        "    'adults':'adult_num',\n",
        "    'agent':'agent_id',\n",
        "    'arrival_date_day_of_month':'arrival_month_day',\n",
        "    'arrival_date_month':'arrival_month',\n",
        "    'arrival_date_week_number':'arrival_week_number',\n",
        "    'arrival_date_year':'arrival_year',\n",
        "    'assigned_room_type':'assigned_room_type',\n",
        "    'babies':'babies_num',\n",
        "    'booking_changes':'booking_changes_num',\n",
        "    'children':'children_num',\n",
        "    'company':'company_id',\n",
        "    'country':'country',\n",
        "    'customer_type':'customer_type',\n",
        "    'days_in_waiting_list':'days_in_waiting_list',\n",
        "    'deposit_type':'deposit_type',\n",
        "    'distribution_channel':'distribution_channel',\n",
        "    'hotel':'hotel_name',\n",
        "    'id':'booking_id', #chekear con el profesor\n",
        "    'is_canceled':'is_canceled',\n",
        "    'is_repeated_guest':'is_repeated_guest',\n",
        "    'lead_time':'lead_time',\n",
        "    'market_segment':'market_segment_type',\n",
        "    'meal':'meal_type',\n",
        "    'previous_bookings_not_canceled':'previous_bookings_not_canceled_num',\n",
        "    'previous_cancellations':'previous_cancellations_num',\n",
        "    'required_car_parking_spaces':'required_car_parking_spaces_num',\n",
        "    'reservation_status':'reservation_status',\n",
        "    'reservation_status_date':'reservation_status_date',\n",
        "    'reserved_room_type':'reserved_room_type',\n",
        "    'stays_in_weekend_nights':'weekend_nights_num',\n",
        "    'stays_in_week_nights':'week_nights_num',\n",
        "    'total_of_special_requests':'special_requests_num',\n",
        "}\n",
        "\n",
        "hotelsdf.rename(columns = nuevas_columnas, inplace = True)"
      ]
    },
    {
      "cell_type": "code",
      "execution_count": 21,
      "metadata": {
        "id": "-J4glYvgyGIU",
        "scrolled": false
      },
      "outputs": [],
      "source": [
        "#pd.concat([hotelsdf.head(2), hotelsdf.sample(5), hotelsdf.tail(2)])"
      ]
    },
    {
      "cell_type": "markdown",
      "metadata": {
        "id": "RSWUuXZtNh7V"
      },
      "source": [
        "Por otro lado, podemos observar que tipo de dato almacena cada columna y cuales tienen datos faltantes"
      ]
    },
    {
      "cell_type": "code",
      "execution_count": 22,
      "metadata": {
        "colab": {
          "base_uri": "https://localhost:8080/"
        },
        "id": "rPl2wvo_Npa3",
        "outputId": "5623d5cb-e1fe-47e3-f05f-8f8bda4e9cc4"
      },
      "outputs": [
        {
          "output_type": "stream",
          "name": "stdout",
          "text": [
            "<class 'pandas.core.frame.DataFrame'>\n",
            "RangeIndex: 61913 entries, 0 to 61912\n",
            "Data columns (total 33 columns):\n",
            " #   Column                              Non-Null Count  Dtype  \n",
            "---  ------                              --------------  -----  \n",
            " 0   hotel_name                          61913 non-null  object \n",
            " 1   lead_time                           61913 non-null  int64  \n",
            " 2   arrival_year                        61913 non-null  int64  \n",
            " 3   arrival_month                       61913 non-null  object \n",
            " 4   arrival_week_number                 61913 non-null  int64  \n",
            " 5   arrival_month_day                   61913 non-null  int64  \n",
            " 6   weekend_nights_num                  61913 non-null  int64  \n",
            " 7   week_nights_num                     61913 non-null  int64  \n",
            " 8   adult_num                           61913 non-null  int64  \n",
            " 9   children_num                        61909 non-null  float64\n",
            " 10  babies_num                          61913 non-null  int64  \n",
            " 11  meal_type                           61913 non-null  object \n",
            " 12  country                             61692 non-null  object \n",
            " 13  market_segment_type                 61913 non-null  object \n",
            " 14  distribution_channel                61913 non-null  object \n",
            " 15  is_repeated_guest                   61913 non-null  int64  \n",
            " 16  previous_cancellations_num          61913 non-null  int64  \n",
            " 17  previous_bookings_not_canceled_num  61913 non-null  int64  \n",
            " 18  reserved_room_type                  61913 non-null  object \n",
            " 19  assigned_room_type                  61913 non-null  object \n",
            " 20  booking_changes_num                 61913 non-null  int64  \n",
            " 21  deposit_type                        61913 non-null  object \n",
            " 22  agent_id                            54023 non-null  float64\n",
            " 23  company_id                          3152 non-null   float64\n",
            " 24  days_in_waiting_list                61913 non-null  int64  \n",
            " 25  customer_type                       61913 non-null  object \n",
            " 26  average_daily_rate                  61913 non-null  float64\n",
            " 27  required_car_parking_spaces_num     61913 non-null  int64  \n",
            " 28  special_requests_num                61913 non-null  int64  \n",
            " 29  reservation_status                  61913 non-null  object \n",
            " 30  reservation_status_date             61913 non-null  object \n",
            " 31  booking_id                          61913 non-null  object \n",
            " 32  is_canceled                         61913 non-null  int64  \n",
            "dtypes: float64(4), int64(16), object(13)\n",
            "memory usage: 15.6+ MB\n"
          ]
        }
      ],
      "source": [
        "hotelsdf.info()"
      ]
    },
    {
      "cell_type": "markdown",
      "metadata": {
        "id": "OdDNHfAcOjCP"
      },
      "source": [
        "Segun la clasificacion de las variables podemos establecer lo siguiente sobre los datos extraidos del dataframe\n",
        "\n",
        "Variables cuantitativas, entre las cuales podemos encontrar:\n",
        "\n",
        "- lead_time \"time beetwen reservation and arrival\"\n",
        "- arrival_date_year\n",
        "- arrival_date_week_number  \n",
        "- arrival_date_day_of_month\n",
        "- stays_in_weekend_nights\n",
        "- days_in_waiting_list\n",
        "- stays_in_week_nights\n",
        "- adult\n",
        "- children\n",
        "- babies\n",
        "- previous_cancellations\n",
        "- previous_bookings_not_canceled\n",
        "- booking_changes\n",
        "- days_in_waiting_list\n",
        "- adr \"average day rate\"\n",
        "- required_car_parking_spaces\n",
        "- total_of_special_requests\n",
        "- reservation_status_date\n"
      ]
    },
    {
      "cell_type": "markdown",
      "metadata": {
        "id": "TUtAN4dizXXF"
      },
      "source": [
        "Creamos una lista con todas las variables cuantitativas"
      ]
    },
    {
      "cell_type": "code",
      "execution_count": 23,
      "metadata": {
        "colab": {
          "base_uri": "https://localhost:8080/",
          "height": 397
        },
        "id": "AG6RXVGd9kNy",
        "outputId": "b9dadc35-2e57-4fed-a334-d8d7770cdf82"
      },
      "outputs": [
        {
          "output_type": "error",
          "ename": "KeyError",
          "evalue": "ignored",
          "traceback": [
            "\u001b[0;31m---------------------------------------------------------------------------\u001b[0m",
            "\u001b[0;31mKeyError\u001b[0m                                  Traceback (most recent call last)",
            "\u001b[0;32m<ipython-input-23-fee75b21eb01>\u001b[0m in \u001b[0;36m<module>\u001b[0;34m\u001b[0m\n\u001b[1;32m     17\u001b[0m ,\"reservation_status_date\"]\n\u001b[1;32m     18\u001b[0m \u001b[0;34m\u001b[0m\u001b[0m\n\u001b[0;32m---> 19\u001b[0;31m \u001b[0mcorrelaciones\u001b[0m \u001b[0;34m=\u001b[0m \u001b[0mhotelsdf\u001b[0m\u001b[0;34m[\u001b[0m\u001b[0mcuantitativas\u001b[0m\u001b[0;34m]\u001b[0m\u001b[0;34m.\u001b[0m\u001b[0mcorr\u001b[0m\u001b[0;34m(\u001b[0m\u001b[0;34m)\u001b[0m\u001b[0;34m\u001b[0m\u001b[0;34m\u001b[0m\u001b[0m\n\u001b[0m\u001b[1;32m     20\u001b[0m \u001b[0;34m\u001b[0m\u001b[0m\n\u001b[1;32m     21\u001b[0m \u001b[0msns\u001b[0m\u001b[0;34m.\u001b[0m\u001b[0mset\u001b[0m\u001b[0;34m(\u001b[0m\u001b[0mstyle\u001b[0m \u001b[0;34m=\u001b[0m \u001b[0;34m'darkgrid'\u001b[0m\u001b[0;34m)\u001b[0m\u001b[0;34m\u001b[0m\u001b[0;34m\u001b[0m\u001b[0m\n",
            "\u001b[0;32m/usr/local/lib/python3.9/dist-packages/pandas/core/frame.py\u001b[0m in \u001b[0;36m__getitem__\u001b[0;34m(self, key)\u001b[0m\n\u001b[1;32m   3509\u001b[0m             \u001b[0;32mif\u001b[0m \u001b[0mis_iterator\u001b[0m\u001b[0;34m(\u001b[0m\u001b[0mkey\u001b[0m\u001b[0;34m)\u001b[0m\u001b[0;34m:\u001b[0m\u001b[0;34m\u001b[0m\u001b[0;34m\u001b[0m\u001b[0m\n\u001b[1;32m   3510\u001b[0m                 \u001b[0mkey\u001b[0m \u001b[0;34m=\u001b[0m \u001b[0mlist\u001b[0m\u001b[0;34m(\u001b[0m\u001b[0mkey\u001b[0m\u001b[0;34m)\u001b[0m\u001b[0;34m\u001b[0m\u001b[0;34m\u001b[0m\u001b[0m\n\u001b[0;32m-> 3511\u001b[0;31m             \u001b[0mindexer\u001b[0m \u001b[0;34m=\u001b[0m \u001b[0mself\u001b[0m\u001b[0;34m.\u001b[0m\u001b[0mcolumns\u001b[0m\u001b[0;34m.\u001b[0m\u001b[0m_get_indexer_strict\u001b[0m\u001b[0;34m(\u001b[0m\u001b[0mkey\u001b[0m\u001b[0;34m,\u001b[0m \u001b[0;34m\"columns\"\u001b[0m\u001b[0;34m)\u001b[0m\u001b[0;34m[\u001b[0m\u001b[0;36m1\u001b[0m\u001b[0;34m]\u001b[0m\u001b[0;34m\u001b[0m\u001b[0;34m\u001b[0m\u001b[0m\n\u001b[0m\u001b[1;32m   3512\u001b[0m \u001b[0;34m\u001b[0m\u001b[0m\n\u001b[1;32m   3513\u001b[0m         \u001b[0;31m# take() does not accept boolean indexers\u001b[0m\u001b[0;34m\u001b[0m\u001b[0;34m\u001b[0m\u001b[0m\n",
            "\u001b[0;32m/usr/local/lib/python3.9/dist-packages/pandas/core/indexes/base.py\u001b[0m in \u001b[0;36m_get_indexer_strict\u001b[0;34m(self, key, axis_name)\u001b[0m\n\u001b[1;32m   5794\u001b[0m             \u001b[0mkeyarr\u001b[0m\u001b[0;34m,\u001b[0m \u001b[0mindexer\u001b[0m\u001b[0;34m,\u001b[0m \u001b[0mnew_indexer\u001b[0m \u001b[0;34m=\u001b[0m \u001b[0mself\u001b[0m\u001b[0;34m.\u001b[0m\u001b[0m_reindex_non_unique\u001b[0m\u001b[0;34m(\u001b[0m\u001b[0mkeyarr\u001b[0m\u001b[0;34m)\u001b[0m\u001b[0;34m\u001b[0m\u001b[0;34m\u001b[0m\u001b[0m\n\u001b[1;32m   5795\u001b[0m \u001b[0;34m\u001b[0m\u001b[0m\n\u001b[0;32m-> 5796\u001b[0;31m         \u001b[0mself\u001b[0m\u001b[0;34m.\u001b[0m\u001b[0m_raise_if_missing\u001b[0m\u001b[0;34m(\u001b[0m\u001b[0mkeyarr\u001b[0m\u001b[0;34m,\u001b[0m \u001b[0mindexer\u001b[0m\u001b[0;34m,\u001b[0m \u001b[0maxis_name\u001b[0m\u001b[0;34m)\u001b[0m\u001b[0;34m\u001b[0m\u001b[0;34m\u001b[0m\u001b[0m\n\u001b[0m\u001b[1;32m   5797\u001b[0m \u001b[0;34m\u001b[0m\u001b[0m\n\u001b[1;32m   5798\u001b[0m         \u001b[0mkeyarr\u001b[0m \u001b[0;34m=\u001b[0m \u001b[0mself\u001b[0m\u001b[0;34m.\u001b[0m\u001b[0mtake\u001b[0m\u001b[0;34m(\u001b[0m\u001b[0mindexer\u001b[0m\u001b[0;34m)\u001b[0m\u001b[0;34m\u001b[0m\u001b[0;34m\u001b[0m\u001b[0m\n",
            "\u001b[0;32m/usr/local/lib/python3.9/dist-packages/pandas/core/indexes/base.py\u001b[0m in \u001b[0;36m_raise_if_missing\u001b[0;34m(self, key, indexer, axis_name)\u001b[0m\n\u001b[1;32m   5857\u001b[0m \u001b[0;34m\u001b[0m\u001b[0m\n\u001b[1;32m   5858\u001b[0m             \u001b[0mnot_found\u001b[0m \u001b[0;34m=\u001b[0m \u001b[0mlist\u001b[0m\u001b[0;34m(\u001b[0m\u001b[0mensure_index\u001b[0m\u001b[0;34m(\u001b[0m\u001b[0mkey\u001b[0m\u001b[0;34m)\u001b[0m\u001b[0;34m[\u001b[0m\u001b[0mmissing_mask\u001b[0m\u001b[0;34m.\u001b[0m\u001b[0mnonzero\u001b[0m\u001b[0;34m(\u001b[0m\u001b[0;34m)\u001b[0m\u001b[0;34m[\u001b[0m\u001b[0;36m0\u001b[0m\u001b[0;34m]\u001b[0m\u001b[0;34m]\u001b[0m\u001b[0;34m.\u001b[0m\u001b[0munique\u001b[0m\u001b[0;34m(\u001b[0m\u001b[0;34m)\u001b[0m\u001b[0;34m)\u001b[0m\u001b[0;34m\u001b[0m\u001b[0;34m\u001b[0m\u001b[0m\n\u001b[0;32m-> 5859\u001b[0;31m             \u001b[0;32mraise\u001b[0m \u001b[0mKeyError\u001b[0m\u001b[0;34m(\u001b[0m\u001b[0;34mf\"{not_found} not in index\"\u001b[0m\u001b[0;34m)\u001b[0m\u001b[0;34m\u001b[0m\u001b[0;34m\u001b[0m\u001b[0m\n\u001b[0m\u001b[1;32m   5860\u001b[0m \u001b[0;34m\u001b[0m\u001b[0m\n\u001b[1;32m   5861\u001b[0m     \u001b[0;34m@\u001b[0m\u001b[0moverload\u001b[0m\u001b[0;34m\u001b[0m\u001b[0;34m\u001b[0m\u001b[0m\n",
            "\u001b[0;31mKeyError\u001b[0m: \"['arrival_date_year', 'arrival_date_week_number', 'arrival_date_day_of_month', 'stays_in_weekend_nights', 'stays_in_week_nights', 'adults', 'children', 'babies', 'previous_cancellations', 'previous_bookings_not_canceled', 'booking_changes', 'adr', 'required_car_parking_spaces', 'total_of_special_requests'] not in index\""
          ]
        }
      ],
      "source": [
        "cuantitativas = [\"lead_time\"\n",
        ",\"arrival_date_year\"\n",
        ",\"arrival_date_week_number\"\n",
        ",\"arrival_date_day_of_month\"\n",
        ",\"stays_in_weekend_nights\"\n",
        ",\"days_in_waiting_list\"\n",
        ",\"stays_in_week_nights\"\n",
        ",\"adults\"\n",
        ",\"children\"\n",
        ",\"babies\"\n",
        ",\"previous_cancellations\"\n",
        ",\"previous_bookings_not_canceled\"\n",
        ",\"booking_changes\"\n",
        ",\"adr\"\n",
        ",\"required_car_parking_spaces\"\n",
        ",\"total_of_special_requests\"\n",
        ",\"reservation_status_date\"]\n",
        "\n",
        "correlaciones = hotelsdf[cuantitativas].corr()\n",
        "\n",
        "sns.set(style = 'darkgrid')\n",
        "plt.figure( figsize = (12, 9))\n",
        "sns.heatmap(data = correlaciones,annot = True, vmin = -1, vmax =1, fmt='.2f')\n",
        "sns.color_palette(\"mako\", as_cmap=True)\n",
        "plt.show()"
      ]
    },
    {
      "cell_type": "code",
      "execution_count": null,
      "metadata": {
        "id": "SDlUkQaj5U3N"
      },
      "outputs": [],
      "source": [
        "hotelsdf[cuantitativas].describe()"
      ]
    },
    {
      "cell_type": "code",
      "execution_count": null,
      "metadata": {
        "id": "gnYPUudP1m88"
      },
      "outputs": [],
      "source": []
    },
    {
      "cell_type": "code",
      "execution_count": null,
      "metadata": {
        "id": "eSl8okqzOt5u",
        "scrolled": true
      },
      "outputs": [],
      "source": [
        "hotelsdf.isna().sum()"
      ]
    },
    {
      "cell_type": "markdown",
      "metadata": {
        "id": "mBhz6XedQaXT"
      },
      "source": [
        "Variables cualitativas"
      ]
    },
    {
      "cell_type": "code",
      "execution_count": null,
      "metadata": {
        "id": "UdQlj5h37Hsr"
      },
      "outputs": [],
      "source": [
        "cualitativas = ['hotel',\"arrival_date_month\", 'meal', 'country', 'market_segment', 'distribution_channel', 'is_repeated_guest', 'reserved_room_type', 'assigned_room_type', 'deposit_type', 'customer_type', 'reservation_status']\n",
        "\n",
        "#no tiene sentido imprimir cosas como id, company, deposite_type\n",
        "\n",
        "for variable in cualitativas:\n",
        "  print(hotelsdf[variable].value_counts().index.tolist())\n",
        "\n"
      ]
    },
    {
      "cell_type": "code",
      "execution_count": null,
      "metadata": {
        "id": "P3RvNm-L3-ed"
      },
      "outputs": [],
      "source": [
        "print(pd.__version__)"
      ]
    }
  ],
  "metadata": {
    "colab": {
      "provenance": [],
      "include_colab_link": true
    },
    "kernelspec": {
      "display_name": "Python 3 (ipykernel)",
      "language": "python",
      "name": "python3"
    },
    "language_info": {
      "codemirror_mode": {
        "name": "ipython",
        "version": 3
      },
      "file_extension": ".py",
      "mimetype": "text/x-python",
      "name": "python",
      "nbconvert_exporter": "python",
      "pygments_lexer": "ipython3",
      "version": "3.10.10"
    }
  },
  "nbformat": 4,
  "nbformat_minor": 0
}