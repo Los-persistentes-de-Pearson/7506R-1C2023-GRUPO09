{
 "cells": [
  {
   "cell_type": "markdown",
   "metadata": {
    "colab_type": "text",
    "id": "view-in-github"
   },
   "source": [
    "<a href=\"https://colab.research.google.com/github/Jignacio14/7506R-1C2023-GRUPO09/blob/Pruebas/7506R_TP1_GRUPO9_CHP1_ENTREGA.ipynb\" target=\"_parent\"><img src=\"https://colab.research.google.com/assets/colab-badge.svg\" alt=\"Open In Colab\"/></a>"
   ]
  },
  {
   "cell_type": "markdown",
   "metadata": {
    "id": "Sw6mzQRwLShy"
   },
   "source": [
    "#Pruebas"
   ]
  },
  {
   "cell_type": "markdown",
   "metadata": {
    "id": "FDgKED2rLija"
   },
   "source": [
    "En este apartado se estara trabajando el analisis exploratorio de los datos que se estaran usando para el trabajo practico #1"
   ]
  },
  {
   "cell_type": "code",
   "execution_count": 29,
   "metadata": {
    "id": "cgGFnd9IIGOP"
   },
   "outputs": [],
   "source": [
    "import pandas as pd \n",
    "import numpy as np\n",
    "import sklearn as sk\n",
    "import seaborn as sns\n",
    "import matplotlib as mpl"
   ]
  },
  {
   "cell_type": "code",
   "execution_count": 30,
   "metadata": {
    "colab": {
     "base_uri": "https://localhost:8080/"
    },
    "id": "DrQREgo3aIst",
    "outputId": "1c20c16c-0b0b-4bc7-b190-7b2b322bcf04"
   },
   "outputs": [
    {
     "name": "stdout",
     "output_type": "stream",
     "text": [
      "El data frame esta compuesto por 61913 filas y 33 columnas\n"
     ]
    }
   ],
   "source": [
    "hotelsdf = pd.read_csv(\"./hotels_train.csv\")\n",
    "\n",
    "print(\"El data frame esta compuesto por \"f\"{hotelsdf.shape[0]}\"\" filas y \"f\"{hotelsdf.shape[1]}\"\" columnas\")"
   ]
  },
  {
   "cell_type": "markdown",
   "metadata": {
    "id": "b2Ca8AAgNPoL"
   },
   "source": [
    "Un vistaso básico a la información contenida en el dataframe viene dada por:"
   ]
  },
  {
   "cell_type": "code",
   "execution_count": 31,
   "metadata": {
    "colab": {
     "base_uri": "https://localhost:8080/",
     "height": 560
    },
    "id": "iaCDmUpqNIs9",
    "outputId": "1b038262-77a0-4712-f5a0-3d20552c32b3"
   },
   "outputs": [
    {
     "data": {
      "text/html": [
       "<div>\n",
       "<style scoped>\n",
       "    .dataframe tbody tr th:only-of-type {\n",
       "        vertical-align: middle;\n",
       "    }\n",
       "\n",
       "    .dataframe tbody tr th {\n",
       "        vertical-align: top;\n",
       "    }\n",
       "\n",
       "    .dataframe thead th {\n",
       "        text-align: right;\n",
       "    }\n",
       "</style>\n",
       "<table border=\"1\" class=\"dataframe\">\n",
       "  <thead>\n",
       "    <tr style=\"text-align: right;\">\n",
       "      <th></th>\n",
       "      <th>hotel</th>\n",
       "      <th>lead_time</th>\n",
       "      <th>arrival_date_year</th>\n",
       "      <th>arrival_date_month</th>\n",
       "      <th>arrival_date_week_number</th>\n",
       "      <th>arrival_date_day_of_month</th>\n",
       "      <th>stays_in_weekend_nights</th>\n",
       "      <th>stays_in_week_nights</th>\n",
       "      <th>adults</th>\n",
       "      <th>children</th>\n",
       "      <th>...</th>\n",
       "      <th>company</th>\n",
       "      <th>days_in_waiting_list</th>\n",
       "      <th>customer_type</th>\n",
       "      <th>adr</th>\n",
       "      <th>required_car_parking_spaces</th>\n",
       "      <th>total_of_special_requests</th>\n",
       "      <th>reservation_status</th>\n",
       "      <th>reservation_status_date</th>\n",
       "      <th>id</th>\n",
       "      <th>is_canceled</th>\n",
       "    </tr>\n",
       "  </thead>\n",
       "  <tbody>\n",
       "    <tr>\n",
       "      <th>0</th>\n",
       "      <td>City Hotel</td>\n",
       "      <td>49</td>\n",
       "      <td>2016</td>\n",
       "      <td>September</td>\n",
       "      <td>37</td>\n",
       "      <td>5</td>\n",
       "      <td>1</td>\n",
       "      <td>2</td>\n",
       "      <td>1</td>\n",
       "      <td>0.0</td>\n",
       "      <td>...</td>\n",
       "      <td>NaN</td>\n",
       "      <td>0</td>\n",
       "      <td>Transient</td>\n",
       "      <td>115.50</td>\n",
       "      <td>0</td>\n",
       "      <td>1</td>\n",
       "      <td>Canceled</td>\n",
       "      <td>2016-08-25</td>\n",
       "      <td>7aa4cc6b-b92c-4061-b21d-4f9e0cac4689</td>\n",
       "      <td>1</td>\n",
       "    </tr>\n",
       "    <tr>\n",
       "      <th>1</th>\n",
       "      <td>Resort Hotel</td>\n",
       "      <td>4</td>\n",
       "      <td>2015</td>\n",
       "      <td>October</td>\n",
       "      <td>44</td>\n",
       "      <td>31</td>\n",
       "      <td>0</td>\n",
       "      <td>1</td>\n",
       "      <td>2</td>\n",
       "      <td>0.0</td>\n",
       "      <td>...</td>\n",
       "      <td>NaN</td>\n",
       "      <td>0</td>\n",
       "      <td>Transient</td>\n",
       "      <td>42.00</td>\n",
       "      <td>1</td>\n",
       "      <td>0</td>\n",
       "      <td>Check-Out</td>\n",
       "      <td>2015-11-01</td>\n",
       "      <td>b1428f80-c56c-4ae4-91a9-6962edae08b1</td>\n",
       "      <td>0</td>\n",
       "    </tr>\n",
       "    <tr>\n",
       "      <th>10866</th>\n",
       "      <td>City Hotel</td>\n",
       "      <td>429</td>\n",
       "      <td>2016</td>\n",
       "      <td>September</td>\n",
       "      <td>39</td>\n",
       "      <td>23</td>\n",
       "      <td>0</td>\n",
       "      <td>2</td>\n",
       "      <td>2</td>\n",
       "      <td>0.0</td>\n",
       "      <td>...</td>\n",
       "      <td>NaN</td>\n",
       "      <td>330</td>\n",
       "      <td>Transient-Party</td>\n",
       "      <td>65.00</td>\n",
       "      <td>0</td>\n",
       "      <td>0</td>\n",
       "      <td>Check-Out</td>\n",
       "      <td>2016-09-25</td>\n",
       "      <td>f00d632f-6751-4a27-a44a-76a85d9ee54f</td>\n",
       "      <td>0</td>\n",
       "    </tr>\n",
       "    <tr>\n",
       "      <th>11261</th>\n",
       "      <td>Resort Hotel</td>\n",
       "      <td>0</td>\n",
       "      <td>2016</td>\n",
       "      <td>April</td>\n",
       "      <td>17</td>\n",
       "      <td>18</td>\n",
       "      <td>1</td>\n",
       "      <td>0</td>\n",
       "      <td>1</td>\n",
       "      <td>0.0</td>\n",
       "      <td>...</td>\n",
       "      <td>NaN</td>\n",
       "      <td>0</td>\n",
       "      <td>Transient</td>\n",
       "      <td>52.00</td>\n",
       "      <td>1</td>\n",
       "      <td>0</td>\n",
       "      <td>Check-Out</td>\n",
       "      <td>2016-04-19</td>\n",
       "      <td>8798c00d-ca8a-4cfb-aae6-9ba15717e7c3</td>\n",
       "      <td>0</td>\n",
       "    </tr>\n",
       "    <tr>\n",
       "      <th>29730</th>\n",
       "      <td>City Hotel</td>\n",
       "      <td>272</td>\n",
       "      <td>2016</td>\n",
       "      <td>August</td>\n",
       "      <td>32</td>\n",
       "      <td>5</td>\n",
       "      <td>0</td>\n",
       "      <td>1</td>\n",
       "      <td>2</td>\n",
       "      <td>0.0</td>\n",
       "      <td>...</td>\n",
       "      <td>NaN</td>\n",
       "      <td>41</td>\n",
       "      <td>Transient</td>\n",
       "      <td>65.00</td>\n",
       "      <td>0</td>\n",
       "      <td>0</td>\n",
       "      <td>Canceled</td>\n",
       "      <td>2015-12-18</td>\n",
       "      <td>7f36d57f-72f7-42f6-b848-e54e515a8edf</td>\n",
       "      <td>1</td>\n",
       "    </tr>\n",
       "    <tr>\n",
       "      <th>11249</th>\n",
       "      <td>City Hotel</td>\n",
       "      <td>56</td>\n",
       "      <td>2016</td>\n",
       "      <td>May</td>\n",
       "      <td>23</td>\n",
       "      <td>30</td>\n",
       "      <td>1</td>\n",
       "      <td>0</td>\n",
       "      <td>1</td>\n",
       "      <td>0.0</td>\n",
       "      <td>...</td>\n",
       "      <td>NaN</td>\n",
       "      <td>0</td>\n",
       "      <td>Transient-Party</td>\n",
       "      <td>120.00</td>\n",
       "      <td>0</td>\n",
       "      <td>0</td>\n",
       "      <td>Check-Out</td>\n",
       "      <td>2016-05-31</td>\n",
       "      <td>42efef93-48bb-4784-9287-160280e0aa13</td>\n",
       "      <td>0</td>\n",
       "    </tr>\n",
       "    <tr>\n",
       "      <th>20819</th>\n",
       "      <td>City Hotel</td>\n",
       "      <td>181</td>\n",
       "      <td>2016</td>\n",
       "      <td>September</td>\n",
       "      <td>39</td>\n",
       "      <td>23</td>\n",
       "      <td>0</td>\n",
       "      <td>2</td>\n",
       "      <td>3</td>\n",
       "      <td>0.0</td>\n",
       "      <td>...</td>\n",
       "      <td>NaN</td>\n",
       "      <td>0</td>\n",
       "      <td>Transient</td>\n",
       "      <td>169.00</td>\n",
       "      <td>0</td>\n",
       "      <td>0</td>\n",
       "      <td>Check-Out</td>\n",
       "      <td>2016-09-25</td>\n",
       "      <td>038b3908-b74c-45ac-bda6-349479f0d2a4</td>\n",
       "      <td>0</td>\n",
       "    </tr>\n",
       "    <tr>\n",
       "      <th>61911</th>\n",
       "      <td>Resort Hotel</td>\n",
       "      <td>143</td>\n",
       "      <td>2015</td>\n",
       "      <td>October</td>\n",
       "      <td>41</td>\n",
       "      <td>10</td>\n",
       "      <td>2</td>\n",
       "      <td>5</td>\n",
       "      <td>2</td>\n",
       "      <td>0.0</td>\n",
       "      <td>...</td>\n",
       "      <td>NaN</td>\n",
       "      <td>0</td>\n",
       "      <td>Transient</td>\n",
       "      <td>36.05</td>\n",
       "      <td>0</td>\n",
       "      <td>0</td>\n",
       "      <td>Canceled</td>\n",
       "      <td>2015-07-08</td>\n",
       "      <td>01906859-1094-4e37-b13e-b015b594d159</td>\n",
       "      <td>1</td>\n",
       "    </tr>\n",
       "    <tr>\n",
       "      <th>61912</th>\n",
       "      <td>City Hotel</td>\n",
       "      <td>57</td>\n",
       "      <td>2016</td>\n",
       "      <td>April</td>\n",
       "      <td>17</td>\n",
       "      <td>17</td>\n",
       "      <td>2</td>\n",
       "      <td>5</td>\n",
       "      <td>2</td>\n",
       "      <td>0.0</td>\n",
       "      <td>...</td>\n",
       "      <td>NaN</td>\n",
       "      <td>0</td>\n",
       "      <td>Transient</td>\n",
       "      <td>143.29</td>\n",
       "      <td>0</td>\n",
       "      <td>0</td>\n",
       "      <td>Canceled</td>\n",
       "      <td>2016-04-09</td>\n",
       "      <td>7137e599-4442-41fb-b147-4aba9f344e38</td>\n",
       "      <td>1</td>\n",
       "    </tr>\n",
       "  </tbody>\n",
       "</table>\n",
       "<p>9 rows × 33 columns</p>\n",
       "</div>"
      ],
      "text/plain": [
       "              hotel  lead_time  arrival_date_year arrival_date_month  \\\n",
       "0        City Hotel         49               2016          September   \n",
       "1      Resort Hotel          4               2015            October   \n",
       "10866    City Hotel        429               2016          September   \n",
       "11261  Resort Hotel          0               2016              April   \n",
       "29730    City Hotel        272               2016             August   \n",
       "11249    City Hotel         56               2016                May   \n",
       "20819    City Hotel        181               2016          September   \n",
       "61911  Resort Hotel        143               2015            October   \n",
       "61912    City Hotel         57               2016              April   \n",
       "\n",
       "       arrival_date_week_number  arrival_date_day_of_month  \\\n",
       "0                            37                          5   \n",
       "1                            44                         31   \n",
       "10866                        39                         23   \n",
       "11261                        17                         18   \n",
       "29730                        32                          5   \n",
       "11249                        23                         30   \n",
       "20819                        39                         23   \n",
       "61911                        41                         10   \n",
       "61912                        17                         17   \n",
       "\n",
       "       stays_in_weekend_nights  stays_in_week_nights  adults  children  ...  \\\n",
       "0                            1                     2       1       0.0  ...   \n",
       "1                            0                     1       2       0.0  ...   \n",
       "10866                        0                     2       2       0.0  ...   \n",
       "11261                        1                     0       1       0.0  ...   \n",
       "29730                        0                     1       2       0.0  ...   \n",
       "11249                        1                     0       1       0.0  ...   \n",
       "20819                        0                     2       3       0.0  ...   \n",
       "61911                        2                     5       2       0.0  ...   \n",
       "61912                        2                     5       2       0.0  ...   \n",
       "\n",
       "       company days_in_waiting_list    customer_type     adr  \\\n",
       "0          NaN                    0        Transient  115.50   \n",
       "1          NaN                    0        Transient   42.00   \n",
       "10866      NaN                  330  Transient-Party   65.00   \n",
       "11261      NaN                    0        Transient   52.00   \n",
       "29730      NaN                   41        Transient   65.00   \n",
       "11249      NaN                    0  Transient-Party  120.00   \n",
       "20819      NaN                    0        Transient  169.00   \n",
       "61911      NaN                    0        Transient   36.05   \n",
       "61912      NaN                    0        Transient  143.29   \n",
       "\n",
       "      required_car_parking_spaces  total_of_special_requests  \\\n",
       "0                               0                          1   \n",
       "1                               1                          0   \n",
       "10866                           0                          0   \n",
       "11261                           1                          0   \n",
       "29730                           0                          0   \n",
       "11249                           0                          0   \n",
       "20819                           0                          0   \n",
       "61911                           0                          0   \n",
       "61912                           0                          0   \n",
       "\n",
       "       reservation_status  reservation_status_date  \\\n",
       "0                Canceled               2016-08-25   \n",
       "1               Check-Out               2015-11-01   \n",
       "10866           Check-Out               2016-09-25   \n",
       "11261           Check-Out               2016-04-19   \n",
       "29730            Canceled               2015-12-18   \n",
       "11249           Check-Out               2016-05-31   \n",
       "20819           Check-Out               2016-09-25   \n",
       "61911            Canceled               2015-07-08   \n",
       "61912            Canceled               2016-04-09   \n",
       "\n",
       "                                         id is_canceled  \n",
       "0      7aa4cc6b-b92c-4061-b21d-4f9e0cac4689           1  \n",
       "1      b1428f80-c56c-4ae4-91a9-6962edae08b1           0  \n",
       "10866  f00d632f-6751-4a27-a44a-76a85d9ee54f           0  \n",
       "11261  8798c00d-ca8a-4cfb-aae6-9ba15717e7c3           0  \n",
       "29730  7f36d57f-72f7-42f6-b848-e54e515a8edf           1  \n",
       "11249  42efef93-48bb-4784-9287-160280e0aa13           0  \n",
       "20819  038b3908-b74c-45ac-bda6-349479f0d2a4           0  \n",
       "61911  01906859-1094-4e37-b13e-b015b594d159           1  \n",
       "61912  7137e599-4442-41fb-b147-4aba9f344e38           1  \n",
       "\n",
       "[9 rows x 33 columns]"
      ]
     },
     "execution_count": 31,
     "metadata": {},
     "output_type": "execute_result"
    }
   ],
   "source": [
    "pd.concat([hotelsdf.head(2), hotelsdf.sample(5), hotelsdf.tail(2)])"
   ]
  },
  {
   "cell_type": "markdown",
   "metadata": {
    "id": "RSWUuXZtNh7V"
   },
   "source": [
    "Por otro lado un vistazo un poco más detallado a la informacion contenida por el dataframe puede verse:"
   ]
  },
  {
   "cell_type": "code",
   "execution_count": 10,
   "metadata": {
    "colab": {
     "base_uri": "https://localhost:8080/"
    },
    "id": "rPl2wvo_Npa3",
    "outputId": "5e2a72c4-b434-40da-bec7-130cd83a894d"
   },
   "outputs": [
    {
     "name": "stdout",
     "output_type": "stream",
     "text": [
      "<class 'pandas.core.frame.DataFrame'>\n",
      "RangeIndex: 61913 entries, 0 to 61912\n",
      "Data columns (total 33 columns):\n",
      " #   Column                          Non-Null Count  Dtype  \n",
      "---  ------                          --------------  -----  \n",
      " 0   hotel                           61913 non-null  object \n",
      " 1   lead_time                       61913 non-null  int64  \n",
      " 2   arrival_date_year               61913 non-null  int64  \n",
      " 3   arrival_date_month              61913 non-null  object \n",
      " 4   arrival_date_week_number        61913 non-null  int64  \n",
      " 5   arrival_date_day_of_month       61913 non-null  int64  \n",
      " 6   stays_in_weekend_nights         61913 non-null  int64  \n",
      " 7   stays_in_week_nights            61913 non-null  int64  \n",
      " 8   adults                          61913 non-null  int64  \n",
      " 9   children                        61909 non-null  float64\n",
      " 10  babies                          61913 non-null  int64  \n",
      " 11  meal                            61913 non-null  object \n",
      " 12  country                         61692 non-null  object \n",
      " 13  market_segment                  61913 non-null  object \n",
      " 14  distribution_channel            61913 non-null  object \n",
      " 15  is_repeated_guest               61913 non-null  int64  \n",
      " 16  previous_cancellations          61913 non-null  int64  \n",
      " 17  previous_bookings_not_canceled  61913 non-null  int64  \n",
      " 18  reserved_room_type              61913 non-null  object \n",
      " 19  assigned_room_type              61913 non-null  object \n",
      " 20  booking_changes                 61913 non-null  int64  \n",
      " 21  deposit_type                    61913 non-null  object \n",
      " 22  agent                           54023 non-null  float64\n",
      " 23  company                         3152 non-null   float64\n",
      " 24  days_in_waiting_list            61913 non-null  int64  \n",
      " 25  customer_type                   61913 non-null  object \n",
      " 26  adr                             61913 non-null  float64\n",
      " 27  required_car_parking_spaces     61913 non-null  int64  \n",
      " 28  total_of_special_requests       61913 non-null  int64  \n",
      " 29  reservation_status              61913 non-null  object \n",
      " 30  reservation_status_date         61913 non-null  object \n",
      " 31  id                              61913 non-null  object \n",
      " 32  is_canceled                     61913 non-null  int64  \n",
      "dtypes: float64(4), int64(16), object(13)\n",
      "memory usage: 15.6+ MB\n"
     ]
    }
   ],
   "source": [
    "hotelsdf.info()"
   ]
  },
  {
   "cell_type": "markdown",
   "metadata": {
    "id": "OdDNHfAcOjCP"
   },
   "source": [
    "Segun la clasificacion de las variables podemos establecer lo siguiente sobre los datos extraidos del dataframe\n",
    "\n",
    "Variables cuantitativas, entre las cuales podemos encontrar:\n",
    "\n",
    "· arrival_date_year\n",
    "\n",
    "· arrival_date_month \n",
    "\n",
    "· arrival_date_week_number  \n",
    "  \n",
    "· arrival_date_day_of_month\n",
    "\n",
    "· stays_in_weekend_nights\n",
    "\n",
    "· days_in_waiting_list\n",
    "\n",
    "· stays_in_week_nights\n",
    "\n",
    "· required_car_parking_spaces\n",
    "\n",
    "continuar..."
   ]
  },
  {
   "cell_type": "code",
   "execution_count": 11,
   "metadata": {
    "colab": {
     "base_uri": "https://localhost:8080/"
    },
    "id": "eSl8okqzOt5u",
    "outputId": "e4fb0863-ed14-4802-b53b-70af478c2394",
    "scrolled": true
   },
   "outputs": [
    {
     "data": {
      "text/plain": [
       "hotel                                 0\n",
       "lead_time                             0\n",
       "arrival_date_year                     0\n",
       "arrival_date_month                    0\n",
       "arrival_date_week_number              0\n",
       "arrival_date_day_of_month             0\n",
       "stays_in_weekend_nights               0\n",
       "stays_in_week_nights                  0\n",
       "adults                                0\n",
       "children                              4\n",
       "babies                                0\n",
       "meal                                  0\n",
       "country                             221\n",
       "market_segment                        0\n",
       "distribution_channel                  0\n",
       "is_repeated_guest                     0\n",
       "previous_cancellations                0\n",
       "previous_bookings_not_canceled        0\n",
       "reserved_room_type                    0\n",
       "assigned_room_type                    0\n",
       "booking_changes                       0\n",
       "deposit_type                          0\n",
       "agent                              7890\n",
       "company                           58761\n",
       "days_in_waiting_list                  0\n",
       "customer_type                         0\n",
       "adr                                   0\n",
       "required_car_parking_spaces           0\n",
       "total_of_special_requests             0\n",
       "reservation_status                    0\n",
       "reservation_status_date               0\n",
       "id                                    0\n",
       "is_canceled                           0\n",
       "dtype: int64"
      ]
     },
     "execution_count": 11,
     "metadata": {},
     "output_type": "execute_result"
    }
   ],
   "source": [
    "hotelsdf.isnull().sum()"
   ]
  },
  {
   "cell_type": "markdown",
   "metadata": {
    "id": "mBhz6XedQaXT"
   },
   "source": []
  },
  {
   "cell_type": "code",
   "execution_count": 12,
   "metadata": {
    "colab": {
     "base_uri": "https://localhost:8080/"
    },
    "id": "7YXgbopqQv1-",
    "outputId": "346eb6a2-e967-478c-9bab-4dd5ec2aaf42"
   },
   "outputs": [
    {
     "data": {
      "text/plain": [
       "['City Hotel', 'Resort Hotel']"
      ]
     },
     "execution_count": 12,
     "metadata": {},
     "output_type": "execute_result"
    }
   ],
   "source": [
    "hotelsdf['hotel'].value_counts().index.tolist()"
   ]
  }
 ],
 "metadata": {
  "colab": {
   "include_colab_link": true,
   "provenance": []
  },
  "kernelspec": {
   "display_name": "Python 3 (ipykernel)",
   "language": "python",
   "name": "python3"
  },
  "language_info": {
   "codemirror_mode": {
    "name": "ipython",
    "version": 3
   },
   "file_extension": ".py",
   "mimetype": "text/x-python",
   "name": "python",
   "nbconvert_exporter": "python",
   "pygments_lexer": "ipython3",
   "version": "3.10.10"
  }
 },
 "nbformat": 4,
 "nbformat_minor": 1
}
