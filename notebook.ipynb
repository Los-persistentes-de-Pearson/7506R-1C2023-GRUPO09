{
 "cells": [
  {
   "cell_type": "markdown",
   "id": "a4cd338a",
   "metadata": {},
   "source": [
    "En este jupyter notebook vamos a explorar un conjunto de datos sobre reservas de hoteles y tratar de hallar un modelo que nos permita predecir si la reserva va a ser cancelada\n",
    "\n",
    "# Preparacion del ambiente de trabajo\n",
    "Importamos todas las librerias que vamos a usar\n"
   ]
  },
  {
   "cell_type": "code",
   "execution_count": null,
   "id": "d72a7e19",
   "metadata": {},
   "outputs": [],
   "source": [
    "import pandas as pd \n",
    "import numpy as np\n",
    "import sklearn as sk\n",
    "import seaborn as sns\n",
    "from matplotlib import pyplot as plt\n",
    "import scipy.stats as st\n",
    "from calendar import month_name"
   ]
  },
  {
   "cell_type": "markdown",
   "id": "624c2768",
   "metadata": {},
   "source": [
    "## Cargamos de datos a un dataframe\n",
    "\n",
    "Se carga la información a un dataframe de pandas, se genera una copia y se trabaja sobre la misma"
   ]
  },
  {
   "cell_type": "code",
   "execution_count": null,
   "id": "1a86e15a",
   "metadata": {},
   "outputs": [],
   "source": [
    "hotelsDfOriginal = pd.read_csv(\"./hotels_train.csv\")\n",
    "hotelsdf = hotelsDfOriginal.copy()\n",
    "\n",
    "print(\"El data frame esta compuesto por \"f\"{hotelsdf.shape[0]}\"\" filas y \"f\"{hotelsdf.shape[1]}\"\" columnas\")"
   ]
  },
  {
   "cell_type": "markdown",
   "id": "bee0d814",
   "metadata": {},
   "source": [
    "## Vistazo inicial\n",
    "\n",
    "Un vistazo básico a la información contenida en el dataframe:"
   ]
  },
  {
   "cell_type": "code",
   "execution_count": null,
   "id": "cd2adfdd",
   "metadata": {
    "lines_to_next_cell": 2
   },
   "outputs": [],
   "source": [
    "pd.concat([hotelsdf.head(2), hotelsdf.sample(5), hotelsdf.tail(2)])"
   ]
  },
  {
   "cell_type": "markdown",
   "id": "26a2725d",
   "metadata": {},
   "source": [
    "Renombramos las columnas del dataframe con nombres mas claros"
   ]
  },
  {
   "cell_type": "code",
   "execution_count": null,
   "id": "0748d144",
   "metadata": {},
   "outputs": [],
   "source": [
    "nuevas_columnas = {\n",
    "    'adr':'average_daily_rate',\n",
    "    'adults':'adult_num',\n",
    "    'agent':'agent_id',\n",
    "    'arrival_date_day_of_month':'arrival_month_day',\n",
    "    'arrival_date_month':'arrival_month',\n",
    "    'arrival_date_week_number':'arrival_week_number',\n",
    "    'arrival_date_year':'arrival_year',\n",
    "    'assigned_room_type':'assigned_room_type',\n",
    "    'babies':'babies_num',\n",
    "    'booking_changes':'booking_changes_num',\n",
    "    'children':'children_num',\n",
    "    'company':'company_id',\n",
    "    'country':'country',\n",
    "    'customer_type':'customer_type',\n",
    "    'days_in_waiting_list':'days_in_waiting_list',\n",
    "    'deposit_type':'deposit_type',\n",
    "    'distribution_channel':'distribution_channel',\n",
    "    'hotel':'hotel_name',\n",
    "    'id':'booking_id',\n",
    "    'is_canceled':'is_canceled',\n",
    "    'is_repeated_guest':'is_repeated_guest',\n",
    "    'lead_time':'lead_time',\n",
    "    'market_segment':'market_segment_type',\n",
    "    'meal':'meal_type',\n",
    "    'previous_bookings_not_canceled':'previous_bookings_not_canceled_num',\n",
    "    'previous_cancellations':'previous_cancellations_num',\n",
    "    'required_car_parking_spaces':'required_car_parking_spaces_num',\n",
    "    'reserved_room_type':'reserved_room_type',\n",
    "    'stays_in_weekend_nights':'weekend_nights_num',\n",
    "    'stays_in_week_nights':'week_nights_num',\n",
    "    'total_of_special_requests':'special_requests_num',\n",
    "}\n",
    "\n",
    "hotelsdf.rename(columns = nuevas_columnas, inplace = True)"
   ]
  },
  {
   "cell_type": "markdown",
   "id": "5c96786b",
   "metadata": {},
   "source": [
    "Por otro lado, podemos observar que tipo de dato almacena cada columna y cuales tienen datos faltantes"
   ]
  },
  {
   "cell_type": "code",
   "execution_count": null,
   "id": "35e7e296",
   "metadata": {},
   "outputs": [],
   "source": [
    "hotelsdf.info()"
   ]
  },
  {
   "cell_type": "markdown",
   "id": "984a87f6",
   "metadata": {},
   "source": [
    "# Analisis univariado\n",
    "Vamos a dividir las variables en cuantitativas y cualitativas.\n",
    "\n",
    "|     Nombre de la variable           |       Tipo      |      Descripcion         |\n",
    "| ----------------------------------- | --------------- | ------------------------ |  \n",
    "| average_daily_rate                  | Cuantitativa    | Promedio de la ganancia diaria, por habitacion                              |\n",
    "| adult_num                           | Cuantitativa    |           numero de adultos en la reserva              |\n",
    "| agent_id                            | Cualitativa     |                          |\n",
    "| arrival_month_day                   | Cuantitativa    |                          |\n",
    "| arrival_month                       | Cualitativa     |                          |\n",
    "| arrival_week_number                 | Cuantitativa    |                          |\n",
    "| arrival_year                        | Cuantitativa    |                          |\n",
    "| assigned_room_type                  | Cualitativa     |                          |\n",
    "| babies_num                          | Cuantitativa    |                          |\n",
    "| booking_changes_num                 | Cuantitativa    |                          |\n",
    "| booking_id                          | Cualitativa     |                          |\n",
    "| children_num                        | Cuantitativa    |                          |\n",
    "| company_id                          | Cualitativa     |                          |\n",
    "| country                             | Cualitativa     |                          |\n",
    "| customer_type                       | Cualitativa     |                          |\n",
    "| days_in_waiting_list                | Cuantitativa    |                          |\n",
    "| deposit_type                        | Cualitativa     |                          |\n",
    "| distribution_channel                | Cualitativa     |                          |\n",
    "| hotel_name                          | Cualitativa     |                          |\n",
    "| is_canceled                         | Cualitativa     |                          |\n",
    "| is_repeated_guest                   | Cualitativa     |                          |\n",
    "| lead_time                           | Cuantitativa    |                          |\n",
    "| market_segment_type                 | Cualitativa     |                          |\n",
    "| meal_type                           | Cualitativa     |                          |\n",
    "| previous_bookings_not_canceled_num  | Cuantitativa    |                          |\n",
    "| previous_cancellations_num          | Cuantitativa    |                          |\n",
    "| required_car_parking_spaces_num     | Cuantitativa    |                          |\n",
    "| reserved_room_type                  | Cualitativa     |                          |\n",
    "| weekend_nights_num                  | Cuantitativa    |                          |\n",
    "| week_nights_num                     | Cuantitativa    |                          |\n",
    "| special_requests_num                | Cuantitativa    |                          |\n"
   ]
  },
  {
   "cell_type": "markdown",
   "id": "96190eb9",
   "metadata": {},
   "source": [
    "## Cuantitativas\n",
    "\n",
    "Se trabaja inicialmente sobre las variables que han sido identificadas como cuantitativas, se grafican y se intenta realizar la identificación de outliers, por otro lado, aquellas que de un analisis exploratorio previo arrojaron la existencia de *nulls/nans* se realiza algún tipo de reemplazo por el valor más conveniente\n",
    "\n",
    "Creamos una lista con todas las variables cuantitativas"
   ]
  },
  {
   "cell_type": "code",
   "execution_count": null,
   "id": "0bfbe27b",
   "metadata": {
    "lines_to_next_cell": 0
   },
   "outputs": [],
   "source": [
    "cuantitativas = [\n",
    "\"adult_num\",\n",
    "\"arrival_month_day\",\n",
    "\"arrival_week_number\",\n",
    "\"arrival_year\",\n",
    "\"average_daily_rate\",\n",
    "\"babies_num\",\n",
    "\"booking_changes_num\",\n",
    "\"children_num\",\n",
    "\"days_in_waiting_list\",\n",
    "\"lead_time\",\n",
    "\"previous_bookings_not_canceled_num\",\n",
    "\"previous_cancellations_num\",\n",
    "\"required_car_parking_spaces_num\",\n",
    "\"special_requests_num\",\n",
    "\"weekend_nights_num\",\n",
    "\"week_nights_num\",\n",
    "]"
   ]
  },
  {
   "cell_type": "markdown",
   "id": "fb511e03",
   "metadata": {},
   "source": [
    "### Adult number \n",
    "\n",
    "Realizamos un analisis sobre la variable adult number\n",
    "\n",
    "#### Valores estadisticos relevantes "
   ]
  },
  {
   "cell_type": "code",
   "execution_count": null,
   "id": "fee306d0",
   "metadata": {},
   "outputs": [],
   "source": [
    "hotelsdf.adult_num.describe()"
   ]
  },
  {
   "cell_type": "markdown",
   "id": "5a2ea5a4",
   "metadata": {},
   "source": [
    "Dentro de los parametros estadisticos representativos observamos un minimo de 0 adultos y un maximo de 55, ambos representando registros con valores anormales. \n",
    "\n",
    "#### Grafica de distribucion\n",
    "\n",
    "Para mas informacion sobre la frecuencia de los valores se grafican las frecuencias"
   ]
  },
  {
   "cell_type": "code",
   "execution_count": null,
   "id": "058aeb22",
   "metadata": {},
   "outputs": [],
   "source": [
    "sns.countplot(data = hotelsdf, x = 'adult_num', palette= 'Set2')\n",
    "plt.title('Cantidad de adultos por reserva')\n",
    "plt.xlabel('Numero de adultos')\n",
    "plt.ylabel('Frecuencia')"
   ]
  },
  {
   "cell_type": "markdown",
   "id": "46cb9fdf",
   "metadata": {},
   "source": [
    "#### Outliers"
   ]
  },
  {
   "cell_type": "code",
   "execution_count": null,
   "id": "26e78060",
   "metadata": {},
   "outputs": [],
   "source": [
    "a_eliminar_con_cero = hotelsdf[hotelsdf['adult_num'] == 0]\n",
    "a_eliminar_con_cero "
   ]
  },
  {
   "cell_type": "code",
   "execution_count": null,
   "id": "a8721678",
   "metadata": {},
   "outputs": [],
   "source": [
    "a_eliminar_mayores_3 = hotelsdf[hotelsdf['adult_num'] > 3]\n",
    "a_eliminar_mayores_3"
   ]
  },
  {
   "cell_type": "code",
   "execution_count": null,
   "id": "a0c32a1b",
   "metadata": {},
   "outputs": [],
   "source": [
    "print(f'Total de registros a eliminar: {len(a_eliminar_con_cero) + len(a_eliminar_mayores_3)}')"
   ]
  },
  {
   "cell_type": "markdown",
   "id": "9a1910a7",
   "metadata": {},
   "source": [
    "Existen 41 registros con valores superiores a 3, los cuales representan outliers. A su vez, se incluyen a estos registros aquellos valores identificados previamente \n",
    "\n",
    "#### Ajustes de valor\n",
    "\n",
    "Eliminamos dichos valores que representan un porcentaje infimo y pueden llegar a desviar las futuras predicciones"
   ]
  },
  {
   "cell_type": "code",
   "execution_count": null,
   "id": "6a735f9d",
   "metadata": {},
   "outputs": [],
   "source": [
    "hotelsdf.drop(a_eliminar_con_cero.index, inplace = True)\n",
    "hotelsdf.drop(a_eliminar_mayores_3.index, inplace = True)\n",
    "hotelsdf.reset_index(drop=True)\n",
    "hotelsdf[(hotelsdf[\"adult_num\"] > 4) | hotelsdf['adult_num'] == 0]"
   ]
  },
  {
   "cell_type": "markdown",
   "id": "120e06b1",
   "metadata": {},
   "source": [
    "Por otro lado realizamos de nuevo las graficas de la distribucion para verificar que no cambie significativamente"
   ]
  },
  {
   "cell_type": "code",
   "execution_count": null,
   "id": "41782a94",
   "metadata": {},
   "outputs": [],
   "source": [
    "sns.countplot(data = hotelsdf, x = 'adult_num', palette= 'Set2')\n",
    "plt.title('Cantidad de adultos por reserva')\n",
    "plt.xlabel('Numero de adultos')\n",
    "plt.ylabel('Frecuencia')"
   ]
  },
  {
   "cell_type": "markdown",
   "id": "a4580907",
   "metadata": {},
   "source": [
    "### arrival month day\n",
    "\n",
    "#### Valores estadisticos relevantes"
   ]
  },
  {
   "cell_type": "code",
   "execution_count": null,
   "id": "e91d6855",
   "metadata": {},
   "outputs": [],
   "source": [
    "hotelsdf[\"arrival_month_day\"].describe()"
   ]
  },
  {
   "cell_type": "markdown",
   "id": "72aa6441",
   "metadata": {},
   "source": [
    "Los parametros estadisticos relevantes no muestran por si solos valores irregulares en el analisis\n",
    "\n",
    "#### Grafica de distribucion\n",
    "\n",
    "Una grafica puede llegar a esclarecer o identificar valores fuera de lo comun dentro del dataframe"
   ]
  },
  {
   "cell_type": "code",
   "execution_count": null,
   "id": "4e4f7be9",
   "metadata": {},
   "outputs": [],
   "source": [
    "plt.figure(figsize=(8,4))\n",
    "sns.countplot(data = hotelsdf, x = 'arrival_month_day')\n",
    "plt.title(\"Dia de llegada del mes\")\n",
    "plt.xlabel(xlabel = 'Dia de llegada')\n",
    "plt.ylabel(ylabel = 'Frecuencia')"
   ]
  },
  {
   "cell_type": "markdown",
   "id": "43914523",
   "metadata": {},
   "source": [
    "El analisis univariado de arrival month day no arroja informacion relevante, pero por otro lado, muestra que la variable no presenta ningun valor inesperado y desmuestra que no hay un dia de predilecto del mes"
   ]
  },
  {
   "cell_type": "code",
   "execution_count": null,
   "id": "4bdf35cf",
   "metadata": {
    "lines_to_next_cell": 0
   },
   "outputs": [],
   "source": [
    "plt.xlabel(xlabel = 'Dia de llegada')\n",
    "sns.boxplot(data = hotelsdf['arrival_month_day'])\n",
    "plt.title(\"Dia de llegada del mes\")\n",
    "plt.ylabel(ylabel = 'Frecuencia')"
   ]
  },
  {
   "cell_type": "markdown",
   "id": "3c28924a",
   "metadata": {},
   "source": [
    "Por lado un boxplot afirma las concluciones derivadas del grafico anterior "
   ]
  },
  {
   "cell_type": "markdown",
   "id": "4a4c6ed6",
   "metadata": {},
   "source": [
    "### arrival week number \n",
    "\n",
    "#### Valores estadisticos relevantes"
   ]
  },
  {
   "cell_type": "code",
   "execution_count": null,
   "id": "797aaccb",
   "metadata": {
    "lines_to_next_cell": 0
   },
   "outputs": [],
   "source": [
    "hotelsdf.arrival_week_number.describe()"
   ]
  },
  {
   "cell_type": "markdown",
   "id": "e0f3b4d7",
   "metadata": {},
   "source": [
    "Un vistazo inicial a los parametros estadisticos no muestra inconsistencias en los registros\n",
    "\n",
    "#### Grafica de distribucion"
   ]
  },
  {
   "cell_type": "code",
   "execution_count": null,
   "id": "ed6c79dd",
   "metadata": {
    "lines_to_next_cell": 0
   },
   "outputs": [],
   "source": [
    "plt.figure(figsize=(15,5))\n",
    "sns.countplot(data = hotelsdf, x = 'arrival_week_number', palette='Set2')\n",
    "plt.title('Semanas del año')\n",
    "plt.xlabel('Numero de la semana')\n",
    "plt.ylabel('Frecuencia')"
   ]
  },
  {
   "cell_type": "markdown",
   "id": "51a969db",
   "metadata": {},
   "source": [
    "De la grafica concluimos que no existen outliers entre los registros \n",
    "\n",
    "### arrival year \n",
    "\n",
    "#### Valores estadisticos relevantes"
   ]
  },
  {
   "cell_type": "code",
   "execution_count": null,
   "id": "08e7606f",
   "metadata": {},
   "outputs": [],
   "source": [
    "hotelsdf.arrival_year.describe()"
   ]
  },
  {
   "cell_type": "markdown",
   "id": "962efcde",
   "metadata": {},
   "source": [
    "#### Grafica de distribucion"
   ]
  },
  {
   "cell_type": "code",
   "execution_count": null,
   "id": "6a73ae81",
   "metadata": {
    "lines_to_next_cell": 0
   },
   "outputs": [],
   "source": [
    "sns.countplot(data = hotelsdf, x = 'arrival_year')\n",
    "plt.xlabel('Años')\n",
    "plt.ylabel('Frecuencia')\n",
    "plt.title('Año de las reservas')"
   ]
  },
  {
   "cell_type": "markdown",
   "id": "b184992a",
   "metadata": {},
   "source": [
    "Todos los registros corresponden a los años: 2015, 2016 y 2017 siendo el año 2016 el mas frecuente entre los registros\n",
    "\n",
    "### Average Daily Rate\n",
    "\n",
    "Realizamos un analisis sobre la variable average daily rate\n",
    "\n",
    "#### Valores estadisticos relevantes "
   ]
  },
  {
   "cell_type": "code",
   "execution_count": null,
   "id": "3c0d0320",
   "metadata": {},
   "outputs": [],
   "source": [
    "hotelsdf.average_daily_rate.describe()"
   ]
  },
  {
   "cell_type": "markdown",
   "id": "52a24b15",
   "metadata": {},
   "source": [
    "#### Grafica de distribucion"
   ]
  },
  {
   "cell_type": "code",
   "execution_count": null,
   "id": "41901d02",
   "metadata": {},
   "outputs": [],
   "source": [
    "sns.kdeplot(data = hotelsdf.average_daily_rate)\n",
    "plt.xlabel(xlabel = 'Montos')\n",
    "plt.ylabel(ylabel = 'Frecuencia')\n",
    "plt.title('Distribucion del Precio promedio de renta diaria')"
   ]
  },
  {
   "cell_type": "markdown",
   "id": "e4a9ae41",
   "metadata": {},
   "source": [
    "#### Outliers\n",
    "\n",
    "Del grafico anterior se observan registros de average daily rate los cuales tienen asignados 0, se debe estudiar a que se deben esos valores, asi como tambien tratar el valor negativo que aparece como mínimo, por otro lado, analizamos cuantos de los precios presentes en los registros presentan una desviacion considerable de los valores esperados"
   ]
  },
  {
   "cell_type": "code",
   "execution_count": null,
   "id": "06e40f81",
   "metadata": {},
   "outputs": [],
   "source": [
    "sns.boxplot(data = hotelsdf['average_daily_rate'])\n",
    "plt.title(\"Precio promedio de renta diaria\")\n",
    "plt.xlabel('Average daily rate')\n",
    "plt.ylabel('Montos')"
   ]
  },
  {
   "cell_type": "code",
   "execution_count": null,
   "id": "5d3627e1",
   "metadata": {},
   "outputs": [],
   "source": [
    "\n",
    "valores_con_cero = len(hotelsdf[hotelsdf['average_daily_rate'] <= 0])\n",
    "total_valores = len(hotelsdf.average_daily_rate)\n",
    "porcentaje_con_cero = valores_con_cero/total_valores\n",
    "print(f\" Los de adrs que registran un valor de 0 representa un porcentaje de:{porcentaje_con_cero}' por lo tanto considerando que no son representativos, eliminamos dichos registros inconsistentes \")"
   ]
  },
  {
   "cell_type": "markdown",
   "id": "8c0741eb",
   "metadata": {},
   "source": [
    "eliminar valores con 0"
   ]
  },
  {
   "cell_type": "code",
   "execution_count": null,
   "id": "f991fc50",
   "metadata": {},
   "outputs": [],
   "source": [
    "a_eliminar_con_cero = hotelsdf[hotelsdf['average_daily_rate'] <= 0].index\n",
    "hotelsdf.drop(a_eliminar_con_cero, inplace = True)\n",
    "hotelsdf.reset_index(drop=True)"
   ]
  },
  {
   "cell_type": "markdown",
   "id": "f85fbfeb",
   "metadata": {},
   "source": [
    "#### Ajustes de valor"
   ]
  },
  {
   "cell_type": "markdown",
   "id": "f4c3d34a",
   "metadata": {},
   "source": [
    "Utilizamos Z-score para clasificar las desviasiones presentes en los valores\n"
   ]
  },
  {
   "cell_type": "code",
   "execution_count": null,
   "id": "8d60d19f",
   "metadata": {},
   "outputs": [],
   "source": [
    "\n",
    "media_requisitos=np.mean(hotelsdf.average_daily_rate)\n",
    "\n",
    "std_ard=np.std(hotelsdf.average_daily_rate)\n",
    "\n",
    "hotelsdf['z_adr']=(hotelsdf.average_daily_rate - media_requisitos)/std_ard\n",
    "\n",
    "hotelsdf['z_adr']=st.zscore(hotelsdf.average_daily_rate)\n",
    "hotelsdf[(hotelsdf['z_adr'] > 3) | (hotelsdf['z_adr'] < -2)]"
   ]
  },
  {
   "cell_type": "markdown",
   "id": "18848627",
   "metadata": {},
   "source": [
    "Graficamos el Z-score del adr\n"
   ]
  },
  {
   "cell_type": "code",
   "execution_count": null,
   "id": "18050d8d",
   "metadata": {},
   "outputs": [],
   "source": [
    "plt.hist(hotelsdf.z_adr)\n",
    "plt.title('Histograma Z-Score req')\n",
    "plt.xlabel('Z-Score req')\n",
    "plt.xticks([-2, -1, 0, 1, 2, 3, 4, 5, 6, 7, 8])\n",
    "plt.show()"
   ]
  },
  {
   "cell_type": "code",
   "execution_count": null,
   "id": "da3c63c6",
   "metadata": {},
   "outputs": [],
   "source": [
    "desviacion_uno = hotelsdf[(hotelsdf['z_adr'] > 3)]\n",
    "desviacion_dos = hotelsdf[(hotelsdf['z_adr'] < -2)]\n",
    "hotelsdf.drop(desviacion_uno.index, inplace = True)\n",
    "hotelsdf.drop(desviacion_dos.index, inplace = True)\n",
    "hotelsdf.reset_index(drop=True)"
   ]
  },
  {
   "cell_type": "code",
   "execution_count": null,
   "id": "cd8b1496",
   "metadata": {},
   "outputs": [],
   "source": [
    "total_valores = len(hotelsdf.average_daily_rate)\n",
    "cantidad_a_eliminar = desviacion_uno.average_daily_rate.count() + desviacion_dos.average_daily_rate.count()\n",
    "print(\"Vamos a eliminar \" + str(cantidad_a_eliminar)  + \" valores ya son valores que tienen una desviacion estandar muy marcada con  respecto al resto de los valores. Ademas, estos valores representan un \" +  str(cantidad_a_eliminar/total_valores) + \" porcentaje del total\")"
   ]
  },
  {
   "cell_type": "markdown",
   "id": "e2799f63",
   "metadata": {},
   "source": [
    "Graficamos nuevamente con el proposito de verificar la nueva distribucion adquirida luego de la modificacion \n",
    "\n"
   ]
  },
  {
   "cell_type": "code",
   "execution_count": null,
   "id": "bc29660a",
   "metadata": {},
   "outputs": [],
   "source": [
    "data = hotelsdf.average_daily_rate\n",
    "sns.kdeplot(data = data)\n",
    "plt.xlabel(xlabel = 'Average daily rate')\n",
    "plt.ylabel(ylabel = 'Frecuencia')\n",
    "plt.title('Distribucion del average daily rate')"
   ]
  },
  {
   "cell_type": "code",
   "execution_count": null,
   "id": "a7e831c6",
   "metadata": {},
   "outputs": [],
   "source": [
    "hotelsdf.drop(labels = 'z_adr', inplace = True, axis = 1)\n",
    "hotelsdf.reset_index(drop=True)"
   ]
  },
  {
   "cell_type": "markdown",
   "id": "fa9c30b5",
   "metadata": {},
   "source": [
    "### babies number \n",
    "\n",
    "#### Valores estadisticos relevantes\n"
   ]
  },
  {
   "cell_type": "code",
   "execution_count": null,
   "id": "b8a17c7c",
   "metadata": {},
   "outputs": [],
   "source": [
    "hotelsdf.babies_num.describe()"
   ]
  },
  {
   "cell_type": "markdown",
   "id": "30ac5a9e",
   "metadata": {},
   "source": [
    "#### Grafica de distribucion"
   ]
  },
  {
   "cell_type": "code",
   "execution_count": null,
   "id": "a481b5f4",
   "metadata": {},
   "outputs": [],
   "source": [
    "eje_y = hotelsdf.babies_num.value_counts()\n",
    "eje_x = eje_y.index.tolist()\n",
    "sns.barplot(y = eje_y, x = eje_x, palette='Set2')\n",
    "plt.xlabel('Cantidad de bebes')\n",
    "plt.ylabel(ylabel='Frecuencia')\n",
    "plt.title('Numero de bebes por reserva')"
   ]
  },
  {
   "cell_type": "markdown",
   "id": "fc97524f",
   "metadata": {},
   "source": [
    "#### Outliers"
   ]
  },
  {
   "cell_type": "code",
   "execution_count": null,
   "id": "28f63d12",
   "metadata": {},
   "outputs": [],
   "source": [
    "hotelsdf[(hotelsdf.babies_num >= 1) & (hotelsdf.adult_num < 1)]"
   ]
  },
  {
   "cell_type": "markdown",
   "id": "1c7912b4",
   "metadata": {},
   "source": [
    "#### Ajustes de valor"
   ]
  },
  {
   "cell_type": "code",
   "execution_count": null,
   "id": "0b3d119b",
   "metadata": {},
   "outputs": [],
   "source": [
    "hotelsdf.drop(hotelsdf[hotelsdf.babies_num == 9].index, inplace = True)\n",
    "hotelsdf.reset_index(drop=True)"
   ]
  },
  {
   "cell_type": "markdown",
   "id": "6fa3127c",
   "metadata": {},
   "source": [
    "### booking changes number \n",
    "\n",
    "#### Valores estadisticos relevantes"
   ]
  },
  {
   "cell_type": "code",
   "execution_count": null,
   "id": "786cf6b2",
   "metadata": {},
   "outputs": [],
   "source": [
    "hotelsdf.booking_changes_num.describe()"
   ]
  },
  {
   "cell_type": "markdown",
   "id": "1eac83d9",
   "metadata": {},
   "source": [
    "#### Grafica de distribucion"
   ]
  },
  {
   "cell_type": "code",
   "execution_count": null,
   "id": "d7129c68",
   "metadata": {
    "lines_to_next_cell": 0
   },
   "outputs": [],
   "source": [
    "eje_y = hotelsdf.booking_changes_num.value_counts()\n",
    "eje_x = eje_y.index.tolist()\n",
    "sns.barplot(y = eje_y, x = eje_x, palette='Set2')\n",
    "plt.xlabel('Numero de cambios')\n",
    "plt.ylabel(ylabel='Frecuencia')\n",
    "plt.title('Cantidad de cambios por reserva')"
   ]
  },
  {
   "cell_type": "markdown",
   "id": "28bf12e8",
   "metadata": {},
   "source": [
    "### children number \n",
    "#### Grafica de distribucion"
   ]
  },
  {
   "cell_type": "code",
   "execution_count": null,
   "id": "4506dd1b",
   "metadata": {
    "lines_to_next_cell": 0
   },
   "outputs": [],
   "source": [
    "hotelsdf[\"children_num\"].describe()"
   ]
  },
  {
   "cell_type": "markdown",
   "id": "49ed0f10",
   "metadata": {},
   "source": [
    "Children number representa la cantidad de niños que fueron registrados en la reserva.\\\n",
    "Esta variable es **discreta**, porque representa una cantidad discreta de niños.\\\n",
    "Sin embargo, esta almacenada como float64 porque tiene valores faltantes."
   ]
  },
  {
   "cell_type": "markdown",
   "id": "551fb486",
   "metadata": {},
   "source": [
    "#### Valores nulos/faltantes"
   ]
  },
  {
   "cell_type": "code",
   "execution_count": null,
   "id": "d95ba490",
   "metadata": {},
   "outputs": [],
   "source": [
    "hotelsdf.children_num.isna().sum()"
   ]
  },
  {
   "cell_type": "markdown",
   "id": "2af084cb",
   "metadata": {},
   "source": [
    "Vemos que tenemos 4 valores faltantes.\n",
    "Vamos a ver cuales son"
   ]
  },
  {
   "cell_type": "code",
   "execution_count": null,
   "id": "0b7caf77",
   "metadata": {},
   "outputs": [],
   "source": [
    "hotelsdf[hotelsdf[\"children_num\"].isna() == True]"
   ]
  },
  {
   "cell_type": "code",
   "execution_count": null,
   "id": "f5a6e341",
   "metadata": {},
   "outputs": [],
   "source": [
    "cantidadFilas = len(hotelsdf.index)\n",
    "cantidadDeChildrenNumVacios = hotelsdf.children_num.isna().sum()\n",
    "print(\"Considerando que la cantidad de datos de children_num faltante es \" + str((cantidadDeChildrenNumVacios * 100) / cantidadFilas) + \"%, lo podemos borrar\")"
   ]
  },
  {
   "cell_type": "code",
   "execution_count": null,
   "id": "1dbb17cc",
   "metadata": {},
   "outputs": [],
   "source": [
    "# Borramos las columnas sin valores\n",
    "hotelsdf.drop((hotelsdf[hotelsdf[\"children_num\"].isna() == True].index.values),inplace=True)\n",
    "hotelsdf.reset_index(drop=True)"
   ]
  },
  {
   "cell_type": "code",
   "execution_count": null,
   "id": "dc400246",
   "metadata": {},
   "outputs": [],
   "source": [
    "# Casteamos la columna de children number a int, ahora que ya no tiene los valores nana\n",
    "hotelsdf = hotelsdf.astype({'children_num':'int'})"
   ]
  },
  {
   "cell_type": "code",
   "execution_count": null,
   "id": "19fd59ff",
   "metadata": {},
   "outputs": [],
   "source": [
    "# Corroboramos que el casteo funciono\n",
    "print(hotelsdf[\"children_num\"].dtypes)"
   ]
  },
  {
   "cell_type": "markdown",
   "id": "75e93865",
   "metadata": {},
   "source": [
    "#### Outliers"
   ]
  },
  {
   "cell_type": "code",
   "execution_count": null,
   "id": "145f6c62",
   "metadata": {},
   "outputs": [],
   "source": [
    "eje_y = hotelsdf[\"children_num\"].value_counts()\n",
    "eje_x = eje_y.index.tolist()\n",
    "sns.barplot(y = eje_y, x = eje_x, palette='Set2')\n",
    "plt.xlabel('Cantidad de ninos')\n",
    "plt.ylabel(ylabel='Frecuencia')\n",
    "plt.title('Numero de ninos por reserva')\n",
    "\n",
    "hotelsdf[\"children_num\"].value_counts()"
   ]
  },
  {
   "cell_type": "markdown",
   "id": "d43ce57c",
   "metadata": {},
   "source": [
    "Vemos que la gran mayoria de las reservas fueron hechas con 0 niños.\\\n",
    "Unos menos con 1 y 2; e incluso menos con 3. \\\n",
    "Sin embargo, nos figura una fila que reservo con 10 niños. Dicha fila es la siguiente:"
   ]
  },
  {
   "cell_type": "code",
   "execution_count": null,
   "id": "3d6f7f93",
   "metadata": {},
   "outputs": [],
   "source": [
    "hotelsdf[hotelsdf[\"children_num\"] == 10]"
   ]
  },
  {
   "cell_type": "markdown",
   "id": "e0fc1252",
   "metadata": {},
   "source": [
    "#### Ajustes de valor\n",
    "\n"
   ]
  },
  {
   "cell_type": "markdown",
   "id": "0e6aeaae",
   "metadata": {},
   "source": [
    "Considerando que es un valor tanto mas alto que el resto, que es un unico caso y considerando que fue hecha con **2 adultos** nada mas; podemos considerar que este outlier y que lo podemos remover. "
   ]
  },
  {
   "cell_type": "code",
   "execution_count": null,
   "id": "56467e95",
   "metadata": {},
   "outputs": [],
   "source": [
    "hotelsdf.drop((hotelsdf[hotelsdf[\"children_num\"] == 10].index.values),inplace=True)\n",
    "hotelsdf.reset_index(drop=True)"
   ]
  },
  {
   "cell_type": "markdown",
   "id": "49283bc2",
   "metadata": {},
   "source": [
    "Una vez ajustados los valores, nuestros valores toman la siguiente forma:"
   ]
  },
  {
   "cell_type": "code",
   "execution_count": null,
   "id": "ccbd9690",
   "metadata": {},
   "outputs": [],
   "source": [
    "eje_y = hotelsdf[\"children_num\"].value_counts()\n",
    "eje_x = eje_y.index.tolist()\n",
    "sns.barplot(y = eje_y, x = eje_x, palette='Set2')\n",
    "plt.xlabel('Cantidad de ninos')\n",
    "plt.ylabel(ylabel='Frecuencia')\n",
    "plt.title('Numero de ninos por reserva')\n",
    "\n",
    "hotelsdf[\"children_num\"].value_counts()"
   ]
  },
  {
   "cell_type": "markdown",
   "id": "df9e9c3d",
   "metadata": {},
   "source": [
    "### days in the waiting list "
   ]
  },
  {
   "cell_type": "markdown",
   "id": "a3201e43",
   "metadata": {},
   "source": [
    "#### Valores estadisticos relevantes"
   ]
  },
  {
   "cell_type": "code",
   "execution_count": null,
   "id": "c8a7cfb3",
   "metadata": {},
   "outputs": [],
   "source": [
    "hotelsdf[\"days_in_waiting_list\"].describe()"
   ]
  },
  {
   "cell_type": "markdown",
   "id": "9c6c56a0",
   "metadata": {},
   "source": [
    "Days in waiting list representa la cantidad de dias que la reserva estuvo en la lista de espera antes de serconfirmada.\n",
    "Esta variable es **discreta**, porque representa una cantidad discreta de dias.\\\n",
    "Esta esta alamacenada como int:"
   ]
  },
  {
   "cell_type": "code",
   "execution_count": null,
   "id": "da450d8a",
   "metadata": {},
   "outputs": [],
   "source": [
    "print(hotelsdf[\"days_in_waiting_list\"].dtype)"
   ]
  },
  {
   "cell_type": "markdown",
   "id": "ee656bde",
   "metadata": {},
   "source": [
    "#### Valores nulos/faltantes"
   ]
  },
  {
   "cell_type": "code",
   "execution_count": null,
   "id": "410bdb6f",
   "metadata": {},
   "outputs": [],
   "source": [
    "hotelsdf.days_in_waiting_list.isna().sum()"
   ]
  },
  {
   "cell_type": "markdown",
   "id": "0cdc2a01",
   "metadata": {},
   "source": [
    "No tiene valores vacios"
   ]
  },
  {
   "cell_type": "markdown",
   "id": "7b3980ec",
   "metadata": {},
   "source": [
    "#### Grafica de distribucion"
   ]
  },
  {
   "cell_type": "code",
   "execution_count": null,
   "id": "fce10d5e",
   "metadata": {},
   "outputs": [],
   "source": [
    "print(\"Los valores que toma la variable son los siguientes:\")\n",
    "daysInWaitingListValores = (hotelsdf[\"days_in_waiting_list\"].unique())\n",
    "daysInWaitingListValores.sort()\n",
    "print(daysInWaitingListValores)\n",
    "print()\n",
    "print(\"Y toma dichos valores con la siguiente frecuencia\")\n",
    "hotelsdf[\"days_in_waiting_list\"].value_counts()"
   ]
  },
  {
   "cell_type": "markdown",
   "id": "19038973",
   "metadata": {},
   "source": [
    "Observamos que la gran mayoria de la gente estuvo 0 dias en la lista de espera. "
   ]
  },
  {
   "cell_type": "markdown",
   "id": "b50ec77a",
   "metadata": {},
   "source": [
    "Vamos a graficar los valores mayores a 0 para poder apreciar la distribucion de los otros datos"
   ]
  },
  {
   "cell_type": "code",
   "execution_count": null,
   "id": "859c683d",
   "metadata": {},
   "outputs": [],
   "source": [
    "mayor0=hotelsdf[hotelsdf[\"days_in_waiting_list\"] > 0]\n",
    "mayor0.reset_index(drop=True)\n",
    "plt.hist(mayor0.days_in_waiting_list)\n",
    "plt.title('Histograma dias en la lista de espera')\n",
    "plt.xlabel('Cantidad de dias')\n",
    "plt.show()"
   ]
  },
  {
   "cell_type": "markdown",
   "id": "3efd52c2",
   "metadata": {},
   "source": [
    "Vamos a trazar un boxplot para tratar de identificar valores outliers"
   ]
  },
  {
   "cell_type": "code",
   "execution_count": null,
   "id": "a980bd38",
   "metadata": {},
   "outputs": [],
   "source": [
    "sns.boxplot(data = hotelsdf['days_in_waiting_list'])\n",
    "plt.title(\"Dias en la lista de espera\")\n",
    "plt.xlabel('Frecuencia')\n",
    "plt.ylabel('Dias')"
   ]
  },
  {
   "cell_type": "markdown",
   "id": "b5ca1093",
   "metadata": {},
   "source": [
    "La forma de este grafico nos muestra que tenemos muchos casos de 1 sola ocurrencia para todos los valores que no son 0.\n",
    "Sin embargo esos valores representan un:"
   ]
  },
  {
   "cell_type": "code",
   "execution_count": null,
   "id": "e331d7d3",
   "metadata": {},
   "outputs": [],
   "source": [
    "print(str((len(mayor0)*100)/len(hotelsdf)) + \"%\")"
   ]
  },
  {
   "cell_type": "markdown",
   "id": "bfbd896d",
   "metadata": {},
   "source": [
    "Vale casi un 4% del tota. Consideramos un tanto elevado para eliminarlos "
   ]
  },
  {
   "cell_type": "markdown",
   "id": "c6cd9cb6",
   "metadata": {},
   "source": [
    "### lead time "
   ]
  },
  {
   "cell_type": "markdown",
   "id": "619242b8",
   "metadata": {},
   "source": [
    "#### Valores estadisticos relevantes"
   ]
  },
  {
   "cell_type": "code",
   "execution_count": null,
   "id": "1e19e340",
   "metadata": {},
   "outputs": [],
   "source": [
    "hotelsdf[\"lead_time\"].describe()"
   ]
  },
  {
   "cell_type": "markdown",
   "id": "c3f360a0",
   "metadata": {},
   "source": [
    "Lead time representa la cantidad de dias que hubo entre el dia que se realizo la reserva y el dia de llegada.\\\n",
    "Esta variable es **discreta**, porque representa una cantidad discreta de dias.\\\n",
    "Esta esta alamacenada como int:"
   ]
  },
  {
   "cell_type": "code",
   "execution_count": null,
   "id": "24cae8cc",
   "metadata": {},
   "outputs": [],
   "source": [
    "print(hotelsdf[\"lead_time\"].dtype)"
   ]
  },
  {
   "cell_type": "markdown",
   "id": "73a37887",
   "metadata": {},
   "source": [
    "#### Valores nulos/faltantes"
   ]
  },
  {
   "cell_type": "code",
   "execution_count": null,
   "id": "ef7d5765",
   "metadata": {},
   "outputs": [],
   "source": [
    "hotelsdf.days_in_waiting_list.isna().sum()"
   ]
  },
  {
   "cell_type": "markdown",
   "id": "5d7a54d8",
   "metadata": {},
   "source": [
    "No tiene valores faltantes"
   ]
  },
  {
   "cell_type": "markdown",
   "id": "2483bd21",
   "metadata": {},
   "source": [
    "#### Grafica de distribucion"
   ]
  },
  {
   "cell_type": "markdown",
   "id": "eb8e6bd2",
   "metadata": {},
   "source": [
    "Vamos a analizar la frecuencia de los distintos valores que lead time puede tomar"
   ]
  },
  {
   "cell_type": "code",
   "execution_count": null,
   "id": "a0c1fda9",
   "metadata": {},
   "outputs": [],
   "source": [
    "print(\"Los valores que toma la variable son los siguientes:\")\n",
    "daysInWaitingListValores = (hotelsdf[\"lead_time\"].unique())\n",
    "daysInWaitingListValores.sort()\n",
    "print(daysInWaitingListValores)\n",
    "print()\n",
    "print(\"Y toma dichos valores con la siguiente frecuencia\")\n",
    "hotelsdf[\"lead_time\"].value_counts()"
   ]
  },
  {
   "cell_type": "markdown",
   "id": "c381d009",
   "metadata": {},
   "source": [
    "Vamos a graficarlos para ver su distribucion"
   ]
  },
  {
   "cell_type": "code",
   "execution_count": null,
   "id": "b6aabb25",
   "metadata": {},
   "outputs": [],
   "source": [
    "plt.hist(hotelsdf.lead_time)\n",
    "plt.title('Histograma dias de anticipacion de la reserva')\n",
    "plt.xlabel('Cantidad de dias')\n",
    "plt.ylabel('Frecuencia')\n",
    "plt.show()"
   ]
  },
  {
   "cell_type": "markdown",
   "id": "6c6b4946",
   "metadata": {},
   "source": [
    "Vemos que la mayoria de los valores estan por debajo de 300"
   ]
  },
  {
   "cell_type": "code",
   "execution_count": null,
   "id": "d2789c3a",
   "metadata": {},
   "outputs": [],
   "source": [
    "sns.boxplot(data=hotelsdf.lead_time)\n",
    "plt.xlabel(\"Cantidad de reservas\")\n",
    "plt.ylabel(\"Cantidad de dias de anticipacion\")\n",
    "plt.title(\"Boxplot dias de anticipacion de la reserva\")\n",
    "plt.show()"
   ]
  },
  {
   "cell_type": "code",
   "execution_count": null,
   "id": "7d6a3ac3",
   "metadata": {},
   "outputs": [],
   "source": [
    "hotelsdf[hotelsdf[\"lead_time\"] >= 400]"
   ]
  },
  {
   "cell_type": "markdown",
   "id": "985d90f8",
   "metadata": {},
   "source": [
    "#### Outliers\n"
   ]
  },
  {
   "cell_type": "code",
   "execution_count": null,
   "id": "1061e82c",
   "metadata": {},
   "outputs": [],
   "source": [
    "porcentaje = str((len(hotelsdf[hotelsdf[\"lead_time\"] >= 400]) * 100)/len(hotelsdf))\n",
    "print(\"Los valores mas llamativos son aquellos por encima de 400. Dichos valores representan un: \" + porcentaje + \"%\")"
   ]
  },
  {
   "cell_type": "markdown",
   "id": "ac8f7f02",
   "metadata": {},
   "source": [
    "Es un porcentaje lo suficientemente bajo para poder borrarlos"
   ]
  },
  {
   "cell_type": "code",
   "execution_count": null,
   "id": "7a1513a3",
   "metadata": {},
   "outputs": [],
   "source": [
    "hotelsdf.drop(hotelsdf[hotelsdf[\"lead_time\"] >= 400].index, inplace = True)\n",
    "hotelsdf.reset_index(drop=True)"
   ]
  },
  {
   "cell_type": "markdown",
   "id": "5019711b",
   "metadata": {},
   "source": [
    "Vamos a observar como se ve nuestro grafico despues de sacar los outliers"
   ]
  },
  {
   "cell_type": "code",
   "execution_count": null,
   "id": "70dd38ef",
   "metadata": {},
   "outputs": [],
   "source": [
    "sns.boxplot(data=hotelsdf.lead_time)\n",
    "plt.xlabel(\"Cantidad de reservas\")\n",
    "plt.ylabel(\"Cantidad de dias de anticipacion\")\n",
    "plt.title(\"Boxplot dias de anticipacion de la reserva\")\n",
    "plt.show()\n",
    "\n",
    "plt.hist(hotelsdf.lead_time)\n",
    "plt.title('Histograma dias de anticipacion de la reserva')\n",
    "plt.xlabel('Cantidad de dias')\n",
    "plt.ylabel('Frecuencia')\n",
    "plt.show()"
   ]
  },
  {
   "cell_type": "markdown",
   "id": "9bc358f5",
   "metadata": {},
   "source": [
    "### previous booking not cancelled number\n",
    "\n",
    "#### Valores estadisticos relevantes"
   ]
  },
  {
   "cell_type": "code",
   "execution_count": null,
   "id": "a7bedf39",
   "metadata": {},
   "outputs": [],
   "source": [
    "hotelsdf[\"previous_bookings_not_canceled_num\"].describe()"
   ]
  },
  {
   "cell_type": "markdown",
   "id": "1106d5cb",
   "metadata": {},
   "source": [
    "Esta variable representa la cantidad de reservasa que no fueron canceladas por el usuario antes de la reserva actual"
   ]
  },
  {
   "cell_type": "markdown",
   "id": "063f21f8",
   "metadata": {},
   "source": [
    "#### Valores nulos/faltantes"
   ]
  },
  {
   "cell_type": "code",
   "execution_count": null,
   "id": "7e963dd4",
   "metadata": {},
   "outputs": [],
   "source": [
    "hotelsdf.previous_bookings_not_canceled_num.isna().sum()"
   ]
  },
  {
   "cell_type": "markdown",
   "id": "4388ab57",
   "metadata": {},
   "source": [
    "#### Grafica de distribucion\n"
   ]
  },
  {
   "cell_type": "code",
   "execution_count": null,
   "id": "3fa1af4b",
   "metadata": {},
   "outputs": [],
   "source": [
    "print(\"Los valores que toma la variable son los siguientes:\")\n",
    "daysInWaitingListValores = (hotelsdf[\"previous_bookings_not_canceled_num\"].unique())\n",
    "daysInWaitingListValores.sort()\n",
    "print(daysInWaitingListValores)\n",
    "print()\n",
    "print(\"Y toma dichos valores con la siguiente frecuencia\")\n",
    "hotelsdf[\"previous_bookings_not_canceled_num\"].value_counts()"
   ]
  },
  {
   "cell_type": "markdown",
   "id": "7da9058d",
   "metadata": {},
   "source": [
    "Vamos a graficar los valores mayores a 0 para poder apreciar la distribucion de los otros datos"
   ]
  },
  {
   "cell_type": "code",
   "execution_count": null,
   "id": "815678cb",
   "metadata": {},
   "outputs": [],
   "source": [
    "mayor0=hotelsdf[hotelsdf[\"previous_bookings_not_canceled_num\"] > 0]\n",
    "mayor0.reset_index(drop=True)\n",
    "plt.hist(mayor0.days_in_waiting_list)\n",
    "plt.title('Histograma dias en la lista de espera mayor a 0')\n",
    "plt.xlabel('Cantidad de dias')\n",
    "plt.show()"
   ]
  },
  {
   "cell_type": "markdown",
   "id": "47d0699d",
   "metadata": {},
   "source": [
    "Del grafico se observa que la gran mayoria de la gente que no cancelo, no cancelaron entre 1 y 10 veces"
   ]
  },
  {
   "cell_type": "markdown",
   "id": "58d9e2e2",
   "metadata": {},
   "source": [
    "#### Outliers"
   ]
  },
  {
   "cell_type": "code",
   "execution_count": null,
   "id": "e5941414",
   "metadata": {},
   "outputs": [],
   "source": [
    "sns.boxplot(data = hotelsdf['previous_bookings_not_canceled_num'])\n",
    "plt.xlabel('Dias en la lista de espera')\n",
    "plt.ylabel('Dias')"
   ]
  },
  {
   "cell_type": "markdown",
   "id": "a315c243",
   "metadata": {},
   "source": [
    "Debido a la gran cantidad de valores con 0, y a la poca cantidad de valores sin 0 todos los valores distintos a 0 figuran como outliers. \\\n",
    "Dichos valores representan:"
   ]
  },
  {
   "cell_type": "code",
   "execution_count": null,
   "id": "7ce30b83",
   "metadata": {},
   "outputs": [],
   "source": [
    "print(str((len(hotelsdf[hotelsdf[\"previous_bookings_not_canceled_num\"] > 0])*100)/len(hotelsdf)) + \"%\")"
   ]
  },
  {
   "cell_type": "markdown",
   "id": "22a320ac",
   "metadata": {},
   "source": [
    "Considerando el bajo volumen que representan, decidimos dropearlos"
   ]
  },
  {
   "cell_type": "code",
   "execution_count": null,
   "id": "4d626054",
   "metadata": {},
   "outputs": [],
   "source": [
    "hotelsdf.drop(hotelsdf[hotelsdf[\"previous_bookings_not_canceled_num\"] > 0].index, inplace = True)\n",
    "hotelsdf.reset_index(drop=True)"
   ]
  },
  {
   "cell_type": "markdown",
   "id": "cc70d7c0",
   "metadata": {},
   "source": [
    "Sin embargo, al dropearlos, el resto de nuestros valores son 0. Esto quiere decir que todo el resto de las columnas presentan los mismos valores. \\\n",
    "Es por esto que decidimos eliminar la totalidad de la columna visto a que no nos aporta informacion."
   ]
  },
  {
   "cell_type": "code",
   "execution_count": null,
   "id": "0e07435f",
   "metadata": {},
   "outputs": [],
   "source": [
    "hotelsdf.drop(\"previous_bookings_not_canceled_num\", axis=1, inplace=True)\n",
    "cuantitativas.remove(\"previous_bookings_not_canceled_num\")\n",
    "hotelsdf.reset_index(drop=True)"
   ]
  },
  {
   "cell_type": "markdown",
   "id": "db030347",
   "metadata": {},
   "source": [
    "### previous booking cancellation number"
   ]
  },
  {
   "cell_type": "markdown",
   "id": "c504beea",
   "metadata": {
    "lines_to_next_cell": 0
   },
   "source": [
    "#### Valores estadisticos relevantes"
   ]
  },
  {
   "cell_type": "code",
   "execution_count": null,
   "id": "b477718f",
   "metadata": {},
   "outputs": [],
   "source": [
    "hotelsdf[\"previous_cancellations_num\"].describe()"
   ]
  },
  {
   "cell_type": "markdown",
   "id": "4281ac1e",
   "metadata": {},
   "source": [
    "Esta variable representa la cantidad de reservasa que si fueron canceladas por el usuario antes de la reserva actual"
   ]
  },
  {
   "cell_type": "markdown",
   "id": "052cbbba",
   "metadata": {
    "lines_to_next_cell": 0
   },
   "source": [
    "#### Valores nulos/faltantes"
   ]
  },
  {
   "cell_type": "code",
   "execution_count": null,
   "id": "72f42b8f",
   "metadata": {},
   "outputs": [],
   "source": [
    "hotelsdf.previous_cancellations_num.isna().sum()"
   ]
  },
  {
   "cell_type": "markdown",
   "id": "ec8b9576",
   "metadata": {
    "lines_to_next_cell": 0
   },
   "source": [
    "#### Grafica de distribucion"
   ]
  },
  {
   "cell_type": "code",
   "execution_count": null,
   "id": "3ff01fb2",
   "metadata": {
    "lines_to_next_cell": 0
   },
   "outputs": [],
   "source": [
    "print(\"Los valores que toma la variable son los siguientes:\")\n",
    "daysInWaitingListValores = (hotelsdf[\"previous_cancellations_num\"].unique())\n",
    "daysInWaitingListValores.sort()\n",
    "print(daysInWaitingListValores)\n",
    "print()\n",
    "print(\"Y toma dichos valores con la siguiente frecuencia\")\n",
    "hotelsdf[\"previous_cancellations_num\"].value_counts()"
   ]
  },
  {
   "cell_type": "code",
   "execution_count": null,
   "id": "231510ce",
   "metadata": {},
   "outputs": [],
   "source": [
    "sns.countplot(data = hotelsdf, x='previous_cancellations_num', palette='Set1')\n",
    "plt.title('Countplot reservas previas no canceladas')\n",
    "plt.xlabel('Cantidad de reservas')\n",
    "plt.show()"
   ]
  },
  {
   "cell_type": "markdown",
   "id": "3ae81104",
   "metadata": {},
   "source": [
    "Del grafico y la distribucion previa se observa que la gran mayoria de la gente que cancelo, cancelo 1 vez."
   ]
  },
  {
   "cell_type": "markdown",
   "id": "3c9d5662",
   "metadata": {},
   "source": [
    "#### Outliers"
   ]
  },
  {
   "cell_type": "code",
   "execution_count": null,
   "id": "27e0aca0",
   "metadata": {},
   "outputs": [],
   "source": [
    "sns.boxplot(data = hotelsdf['previous_cancellations_num'])\n",
    "plt.xlabel('Dias en la lista de espera')\n",
    "plt.ylabel('Dias')"
   ]
  },
  {
   "cell_type": "markdown",
   "id": "637ec459",
   "metadata": {},
   "source": [
    "Del grafico se ve que todos los valores por encima de 0 estan  por fuera de los cuartiles.\\\n",
    "Sin embargo, esos datos representan:"
   ]
  },
  {
   "cell_type": "code",
   "execution_count": null,
   "id": "2ab5f405",
   "metadata": {},
   "outputs": [],
   "source": [
    "print(str((len(hotelsdf[hotelsdf[\"previous_cancellations_num\"] > 0])*100)/len(hotelsdf)) + \"%\")"
   ]
  },
  {
   "cell_type": "markdown",
   "id": "c84d4c21",
   "metadata": {},
   "source": [
    "Porcentaje que es demasiado elevado como para eliminar"
   ]
  },
  {
   "cell_type": "markdown",
   "id": "c2345086",
   "metadata": {},
   "source": [
    "Sin embargo, la mayoria de estos datos estan concetrados en los registros con 1 cancelacion. Si tomamos un umbral un poco mayor podemos descartar los valores atipicos. Por ejemplo, los registros con 2 cancelaciones o mas represenan un"
   ]
  },
  {
   "cell_type": "code",
   "execution_count": null,
   "id": "149c7d85",
   "metadata": {},
   "outputs": [],
   "source": [
    "print(str((len(hotelsdf[hotelsdf[\"previous_cancellations_num\"] >= 2])*100)/len(hotelsdf)) + \"%\")"
   ]
  },
  {
   "cell_type": "markdown",
   "id": "7119f4b9",
   "metadata": {},
   "source": [
    "Al ser un porcentaje tan insignificante, decidimos eliminar esas"
   ]
  },
  {
   "cell_type": "code",
   "execution_count": null,
   "id": "bc5285c2",
   "metadata": {},
   "outputs": [],
   "source": [
    "hotelsdf.drop(hotelsdf[hotelsdf[\"previous_cancellations_num\"] >= 2].index, inplace = True)\n",
    "hotelsdf.reset_index(drop=True)"
   ]
  },
  {
   "cell_type": "markdown",
   "id": "70e6653b",
   "metadata": {},
   "source": [
    "Observamos como nuestros valores cambiaron despues del ajuste"
   ]
  },
  {
   "cell_type": "code",
   "execution_count": null,
   "id": "fcb264bb",
   "metadata": {},
   "outputs": [],
   "source": [
    "sns.countplot(data = hotelsdf, x='previous_cancellations_num', palette='Set1')\n",
    "plt.title('Countplot reservas previas no canceladas')\n",
    "plt.xlabel('Cantidad de reservas')\n",
    "plt.show()"
   ]
  },
  {
   "cell_type": "markdown",
   "id": "a74692ab",
   "metadata": {},
   "source": [
    "#### Ajustes de valor\n",
    "\n",
    "### required car space number \n",
    "\n",
    "#### Valores estadisticos relevantes"
   ]
  },
  {
   "cell_type": "code",
   "execution_count": null,
   "id": "841fd57b",
   "metadata": {},
   "outputs": [],
   "source": [
    "hotelsdf.required_car_parking_spaces_num.describe()"
   ]
  },
  {
   "cell_type": "markdown",
   "id": "b1034ed5",
   "metadata": {},
   "source": [
    "#### Valores nulos/faltantes"
   ]
  },
  {
   "cell_type": "code",
   "execution_count": null,
   "id": "daa9026b",
   "metadata": {},
   "outputs": [],
   "source": [
    "print(\"La cantidad de valores nulos/faltantes es\", hotelsdf.required_car_parking_spaces_num.isna().sum())"
   ]
  },
  {
   "cell_type": "markdown",
   "id": "742308b5",
   "metadata": {},
   "source": [
    "#### Grafica de distribucion"
   ]
  },
  {
   "cell_type": "code",
   "execution_count": null,
   "id": "f43d979a",
   "metadata": {},
   "outputs": [],
   "source": [
    "sns.countplot(data = hotelsdf, x='required_car_parking_spaces_num')\n",
    "plt.title(\"Cantidad de reservas por espacios de estacionamiento\")\n",
    "plt.ylabel(\"Frecuencia\")\n",
    "plt.xlabel(\"Espacios de autos requeridos\")"
   ]
  },
  {
   "cell_type": "markdown",
   "id": "b1b2d1f1",
   "metadata": {},
   "source": [
    "#### Outliers"
   ]
  },
  {
   "cell_type": "markdown",
   "id": "6aa9d227",
   "metadata": {},
   "source": [
    "Viendo el grafico podemos identificar que el numero de espacios de estacionamiento mas comun es 0, seguido por 1. \n",
    "Además encontramos algunos pocos casos en los que se reservaron 2, 3 y 8 espacios.\n",
    "Estos ultimos son posibles Outliers.\n",
    "\n",
    "Mostramos dichos registros junto con la columnas de adult_num para analizarlos más en detalle y determinar si alguno de ellos puede ser Outlier y por que.\n",
    "Nuestro criterio para determinar que un valor es adecuado para esta variable es que haya como mucho 1 espacio de estacionamiento por adulto en la reserva."
   ]
  },
  {
   "cell_type": "code",
   "execution_count": null,
   "id": "834a9884",
   "metadata": {},
   "outputs": [],
   "source": [
    "registrosDosOMasEspacios = hotelsdf[hotelsdf[\"required_car_parking_spaces_num\"]>=2]\n",
    "display(registrosDosOMasEspacios[['adult_num', \"required_car_parking_spaces_num\"]].sort_values(\n",
    "    by = \"required_car_parking_spaces_num\", \n",
    "    ascending = False\n",
    "))"
   ]
  },
  {
   "cell_type": "markdown",
   "id": "fab1ae72",
   "metadata": {},
   "source": [
    "De la tabla anterior se pueden sacar las siguientes conclusiones:\n",
    "- El resgistro con valor de 8 espacios de estacionamiento es claramente un Outlier ya que no es coherente que una habitacion para dos personas haya reservado esa cantidad de espacios de estacionamiento.\n",
    "- El resgistro con el valor de 3 espacios de estacionamiento y 2 adultos tambien es un Outliers ya que tampoco es coherente que 2 personas hayan reservado 3 espacios de estacionamiento.\n",
    "- Los registros restantes NO son Outliers ya que si bien contienen valores poco freciuentes, son coherentes con el criterio explicado en el parrafo de arriba."
   ]
  },
  {
   "cell_type": "markdown",
   "id": "b8d7f363",
   "metadata": {},
   "source": [
    "#### Ajustes de valor"
   ]
  },
  {
   "cell_type": "markdown",
   "id": "9c0a0fc5",
   "metadata": {},
   "source": [
    "Con el analisis anteior, tomamos las siguiuentes decisiones:\n",
    "- Para el resgistro con valor de 8 espacios de estacionamiento,lo eliminamos por tratarse de un Outlier muy grosero.\n",
    "- En el registro resgistro con el valor de 3 espacios de estacionamiento y 2 adultos, cambiamos el valor de required_car_parking_spaces_num por el valor \"2\" suponiendo un error de tipeo.\n",
    "- Se mantienen sin cambios el resto de los registros restantes listados arriba."
   ]
  },
  {
   "cell_type": "code",
   "execution_count": null,
   "id": "652ed883",
   "metadata": {},
   "outputs": [],
   "source": [
    "hotelsdf.loc[ (hotelsdf.required_car_parking_spaces_num==3) & (hotelsdf.adult_num==2) , \"required_car_parking_spaces_num\"] = 2"
   ]
  },
  {
   "cell_type": "code",
   "execution_count": null,
   "id": "c408e302",
   "metadata": {},
   "outputs": [],
   "source": [
    "sns.countplot(data = hotelsdf, x='required_car_parking_spaces_num')\n",
    "plt.title(\"Cantidad de reservas por espacios de estacionamiento\")\n",
    "plt.ylabel(\"Frecuencia\")\n",
    "plt.xlabel(\"Espacios de autos requeridos\")"
   ]
  },
  {
   "cell_type": "markdown",
   "id": "f82526c2",
   "metadata": {},
   "source": [
    "### special requests number "
   ]
  },
  {
   "cell_type": "markdown",
   "id": "f894f0b4",
   "metadata": {},
   "source": [
    "#### Valores estadisticos relevantes"
   ]
  },
  {
   "cell_type": "code",
   "execution_count": null,
   "id": "2de442db",
   "metadata": {},
   "outputs": [],
   "source": [
    "hotelsdf.special_requests_num.describe() "
   ]
  },
  {
   "cell_type": "markdown",
   "id": "cbe21deb",
   "metadata": {},
   "source": [
    "#### Valores nulos/faltanteS"
   ]
  },
  {
   "cell_type": "code",
   "execution_count": null,
   "id": "a9408bd7",
   "metadata": {},
   "outputs": [],
   "source": [
    "print(\"La cantidad de valores nulos/faltantes es\", hotelsdf.special_requests_num.isna().sum())"
   ]
  },
  {
   "cell_type": "markdown",
   "id": "f136c869",
   "metadata": {},
   "source": [
    "#### Grafica de distribucion"
   ]
  },
  {
   "cell_type": "code",
   "execution_count": null,
   "id": "54ea3d46",
   "metadata": {},
   "outputs": [],
   "source": [
    "sns.countplot(data = hotelsdf, x='special_requests_num', palette='Set1')\n",
    "plt.title(\"Reservas por cantidad de requisitos especiales\")\n",
    "plt.xlabel(\"Cantidad requerimiento especiales\")\n",
    "plt.ylabel(\"Frecuencia\")"
   ]
  },
  {
   "cell_type": "code",
   "execution_count": null,
   "id": "fa35a52f",
   "metadata": {},
   "outputs": [],
   "source": [
    "sns.boxplot(data=hotelsdf.special_requests_num)\n",
    "plt.xlabel(\"Cantidad de reservas\")\n",
    "plt.ylabel(\"Canidad de requisitos especiales\")\n",
    "plt.title(\"Canidad de requisitos especiales por reserva\")\n",
    "plt.show()"
   ]
  },
  {
   "cell_type": "markdown",
   "id": "151bd60d",
   "metadata": {},
   "source": [
    "#### Outliers"
   ]
  },
  {
   "cell_type": "markdown",
   "id": "3953e85c",
   "metadata": {},
   "source": [
    "Viendo los graficos vemos que los valores mas frecuentes de requisitos especiales son 0 (ninguno), 1 y 2 y algunos menos con 3. Ademas hay muy pocos con 4 y 5. \n",
    "Los valores que podrian levantar sosppecha son 4 y 5.\n",
    "Miramos la cantidad de registros de cada uno de ellos para ver que no sean casos puntuales."
   ]
  },
  {
   "cell_type": "code",
   "execution_count": null,
   "id": "4051da74",
   "metadata": {},
   "outputs": [],
   "source": [
    "print(\"hay\", hotelsdf[hotelsdf.special_requests_num==4].shape[0] ,\"reservas con 4 requisitos especiales\")\n",
    "print(\"hay\", hotelsdf[hotelsdf.special_requests_num==5].shape[0] ,\"reservas con 5 requisitos especiales\")"
   ]
  },
  {
   "cell_type": "markdown",
   "id": "619cdb7b",
   "metadata": {},
   "source": [
    "#### Ajustes de valor"
   ]
  },
  {
   "cell_type": "markdown",
   "id": "29af8a24",
   "metadata": {},
   "source": [
    "Debido a la la cantidad de reservas para estos casos y que el rango de valores es relativamente acotado, no parcen ser casos puntuales. \n",
    "Procedemos a cambiar la cantidad de requisitos especiales de dichos registros el valor mas frecuente"
   ]
  },
  {
   "cell_type": "code",
   "execution_count": null,
   "id": "f0f2ba53",
   "metadata": {},
   "outputs": [],
   "source": [
    "media_special_requests = round(hotelsdf.special_requests_num.mean())\n",
    "hotelsdf.loc[hotelsdf['special_requests_num'] >= 4, 'special_requests_num'] = media_special_requests"
   ]
  },
  {
   "cell_type": "markdown",
   "id": "236773b4",
   "metadata": {},
   "source": [
    "Graficamos nuevamente la distribucion de la variable para validar los cambios realizados "
   ]
  },
  {
   "cell_type": "code",
   "execution_count": null,
   "id": "24d0c4e1",
   "metadata": {},
   "outputs": [],
   "source": [
    "sns.countplot(data = hotelsdf, x='special_requests_num', palette='Set1')\n",
    "plt.title(\"Reservas por cantidad de requisitos especiales\")\n",
    "plt.xlabel(\"Cantidad requerimiento especiales\")\n",
    "plt.ylabel(\"Frecuencia\")"
   ]
  },
  {
   "cell_type": "markdown",
   "id": "ce0036be",
   "metadata": {},
   "source": [
    "### weekend nights number"
   ]
  },
  {
   "cell_type": "markdown",
   "id": "d9d0f77f",
   "metadata": {},
   "source": [
    "#### Valores estadisticos relevantes"
   ]
  },
  {
   "cell_type": "code",
   "execution_count": null,
   "id": "2a0cb942",
   "metadata": {},
   "outputs": [],
   "source": [
    "hotelsdf.weekend_nights_num.describe() "
   ]
  },
  {
   "cell_type": "markdown",
   "id": "31386b85",
   "metadata": {},
   "source": [
    "#### Valores nulos/faltantes"
   ]
  },
  {
   "cell_type": "code",
   "execution_count": null,
   "id": "74283330",
   "metadata": {},
   "outputs": [],
   "source": [
    "print(\"La cantidad de valores nulos/faltantes es\", hotelsdf.weekend_nights_num.isna().sum())"
   ]
  },
  {
   "cell_type": "markdown",
   "id": "39e63e7e",
   "metadata": {},
   "source": [
    "#### Grafica de distribucion"
   ]
  },
  {
   "cell_type": "code",
   "execution_count": null,
   "id": "460afeff",
   "metadata": {},
   "outputs": [],
   "source": [
    "sns.countplot(data = hotelsdf, x='weekend_nights_num', palette='Set1')\n",
    "plt.title(\"Reservas por cantidad de noches de fin de semana\")\n",
    "plt.xlabel(\"Numero de noches de fin de semana\")\n",
    "plt.ylabel(\"Frecuencia\")"
   ]
  },
  {
   "cell_type": "code",
   "execution_count": null,
   "id": "85dc042e",
   "metadata": {},
   "outputs": [],
   "source": [
    "sns.boxplot(data=hotelsdf.weekend_nights_num)\n",
    "plt.xlabel(\"Cantidad de reservas\")\n",
    "plt.ylabel(\"Cantidad de noches de fin de semana\")\n",
    "plt.title(\"Cantdad de noches de fin de semana por reserva\")\n",
    "plt.show()"
   ]
  },
  {
   "cell_type": "markdown",
   "id": "d667ae1c",
   "metadata": {},
   "source": [
    "#### Outliers"
   ]
  },
  {
   "cell_type": "markdown",
   "id": "592fe72d",
   "metadata": {},
   "source": [
    "Podriamos suponer como posibles outliers, reservas con muchos dias de estadia. A simple vista se puede ver que hay pocas reservas con 5 o mas noches de fin de semana de estadia. Comenzamos estudiando los valores de 9 o mas dias de fin de semana ya que equivaldrian a un minimo de 4 semanas de estadia."
   ]
  },
  {
   "cell_type": "code",
   "execution_count": null,
   "id": "35c06a35",
   "metadata": {},
   "outputs": [],
   "source": [
    "mayores_a_nueve = hotelsdf[hotelsdf[\"weekend_nights_num\"]>=9]\n",
    "mayores_a_nueve.shape[0]"
   ]
  },
  {
   "cell_type": "code",
   "execution_count": null,
   "id": "968ae328",
   "metadata": {},
   "outputs": [],
   "source": [
    "sns.countplot(data = mayores_a_nueve, x='weekend_nights_num', palette='Set1')\n",
    "plt.title(\"Reservas por cantidad de noches de fin de semana\")\n",
    "plt.xlabel(\"Numero de noches de fin de semana\")\n",
    "plt.ylabel(\"Frecuencia\")"
   ]
  },
  {
   "cell_type": "markdown",
   "id": "950b40e6",
   "metadata": {},
   "source": [
    "#### Ajustes de valor"
   ]
  },
  {
   "cell_type": "markdown",
   "id": "57557f41",
   "metadata": {},
   "source": [
    "Son solo 13 registros, es decir, representan muy poca cantidad del total. Tomamos la decision de eliminarlos para evitar que generen ruido al momento de generar el modelo."
   ]
  },
  {
   "cell_type": "code",
   "execution_count": null,
   "id": "c1a339a0",
   "metadata": {},
   "outputs": [],
   "source": [
    "mas_de_nueve_noches_finde = hotelsdf[hotelsdf[\"weekend_nights_num\"]>=9]\n",
    "hotelsdf.drop(mas_de_nueve_noches_finde.index, inplace = True)\n",
    "hotelsdf.reset_index(drop=True)"
   ]
  },
  {
   "cell_type": "markdown",
   "id": "b573846b",
   "metadata": {},
   "source": [
    "Hasta ahora analizamos las estadias con mas de 9 noches de fin de semana (al menos un mes de esatdia)\n",
    "Sin embargo nos resta estudiar, los casos de 5, 6, 7 y 8 dias de fin de semana.\n",
    "Vemos cuantos registros son"
   ]
  },
  {
   "cell_type": "code",
   "execution_count": null,
   "id": "f25f82a4",
   "metadata": {},
   "outputs": [],
   "source": [
    "mayores_a_5_menores_a_nueve_finde = hotelsdf[hotelsdf[\"weekend_nights_num\"]>=5]\n",
    "mayores_a_5_menores_a_nueve_finde.shape[0]"
   ]
  },
  {
   "cell_type": "code",
   "execution_count": null,
   "id": "d62c85f8",
   "metadata": {},
   "outputs": [],
   "source": [
    "mayores_a_5_menores_a_nueve_finde = hotelsdf[hotelsdf[\"weekend_nights_num\"]>=5]\n",
    "sns.countplot(data = mayores_a_5_menores_a_nueve_finde, x='weekend_nights_num', palette='Set1')"
   ]
  },
  {
   "cell_type": "markdown",
   "id": "1a5f76aa",
   "metadata": {},
   "source": [
    "Como son muchos mas registros posponemos su analisis para estudiarlos en un analisis multivariado despues de terminar de estudiar todas las variables cuantitativas pero los dejamos marcados como posibles registros a modificar."
   ]
  },
  {
   "cell_type": "code",
   "execution_count": null,
   "id": "1302330f",
   "metadata": {},
   "outputs": [],
   "source": [
    "sns.countplot(data = hotelsdf, x='weekend_nights_num', palette='Set1')\n",
    "plt.title(\"Reservas por cantidad de noches de fin de semana\")\n",
    "plt.xlabel(\"Numero de noches de fin de semana\")\n",
    "plt.ylabel(\"Frecuencia\")"
   ]
  },
  {
   "cell_type": "markdown",
   "id": "bf07e01c",
   "metadata": {},
   "source": [
    "### week nights number "
   ]
  },
  {
   "cell_type": "markdown",
   "id": "2104c461",
   "metadata": {},
   "source": [
    "#### Valores estadisticos relevantes"
   ]
  },
  {
   "cell_type": "code",
   "execution_count": null,
   "id": "887ca1d3",
   "metadata": {},
   "outputs": [],
   "source": [
    "hotelsdf.week_nights_num.describe() "
   ]
  },
  {
   "cell_type": "markdown",
   "id": "0d619739",
   "metadata": {},
   "source": [
    "#### Valores nulos/faltantes"
   ]
  },
  {
   "cell_type": "code",
   "execution_count": null,
   "id": "cb3ee4cc",
   "metadata": {},
   "outputs": [],
   "source": [
    "print(\"La cantidad de valores nulos/faltantes es\", hotelsdf.week_nights_num.isna().sum())"
   ]
  },
  {
   "cell_type": "markdown",
   "id": "c59e7b3f",
   "metadata": {},
   "source": [
    "#### Grafica de distribucion"
   ]
  },
  {
   "cell_type": "code",
   "execution_count": null,
   "id": "59d10135",
   "metadata": {},
   "outputs": [],
   "source": [
    "sns.countplot(data = hotelsdf, x='week_nights_num', palette='Set1')\n",
    "plt.title(\"Reservas por cantidad de noches de de semana\")\n",
    "plt.xlabel(\"Noches de semana\")\n",
    "plt.ylabel(\"Frecuencia\")"
   ]
  },
  {
   "cell_type": "markdown",
   "id": "27eccb50",
   "metadata": {},
   "source": [
    "Se puede ver que la gran mayoria de las reservas son estadias de entre ningna (0) y 5 noches de semana y en menor medida estadias de entre 6 y 10 noches de semana. \n",
    "Como en el grafico no se ven puntualmente los registros con estadias de 11 o mas noches de semana, los graficamos de nuevo para ver como se distribuyen y estudiarlos mejor"
   ]
  },
  {
   "cell_type": "code",
   "execution_count": null,
   "id": "143ed5cb",
   "metadata": {},
   "outputs": [],
   "source": [
    "mayores_a_11_noches_semana = hotelsdf[hotelsdf[\"week_nights_num\"]>=11]\n",
    "mayores_a_11_noches_semana.shape[0]"
   ]
  },
  {
   "cell_type": "code",
   "execution_count": null,
   "id": "ac590c7c",
   "metadata": {},
   "outputs": [],
   "source": [
    "sns.countplot(data = mayores_a_11_noches_semana, x='week_nights_num', palette='Set1')\n",
    "plt.title(\"Estancias de mas de once dias\")\n",
    "plt.xlabel(\"Noches de semana\")\n",
    "plt.ylabel(\"Frecuencia\")"
   ]
  },
  {
   "cell_type": "markdown",
   "id": "158a6adb",
   "metadata": {},
   "source": [
    "Como son muchos registros y no contienen valores incoherentes a primera vista posponemos su tratamiento para estudiarlos con un analisis multivariado comparandolo con weekend_nights_number en dicha seccion.\n",
    "\n",
    "Ocurre que ademas los registros que este caso representarian una desviacion muy grande fueron eliminados al momento de eliminar aquellos outliers de noches de fin de semana"
   ]
  },
  {
   "cell_type": "markdown",
   "id": "f6cfdaf2",
   "metadata": {},
   "source": [
    "## Cualitativas\n",
    "\n",
    "Variables cualitativas\n",
    "\n",
    "En un principio establecemos una lista que contenga todas las variables cualitativas"
   ]
  },
  {
   "cell_type": "code",
   "execution_count": null,
   "id": "07848b5f",
   "metadata": {},
   "outputs": [],
   "source": [
    "cualitativas = [\n",
    "\"agent_id\",\n",
    "\"arrival_month\",\n",
    "\"assigned_room_type\",\n",
    "\"booking_id\",\n",
    "\"company_id\",\n",
    "\"country\",\n",
    "\"customer_type\",\n",
    "\"deposit_type\",\n",
    "\"distribution_channel\",\n",
    "\"hotel_name\",\n",
    "'is_canceled',\n",
    "\"is_repeated_guest\",\n",
    "\"market_segment_type\",\n",
    "\"meal_type\",\n",
    "\"reserved_room_type\",\n",
    "]"
   ]
  },
  {
   "cell_type": "markdown",
   "id": "5cff35f4",
   "metadata": {},
   "source": [
    "### Valores nulos"
   ]
  },
  {
   "cell_type": "code",
   "execution_count": null,
   "id": "ac7d7765",
   "metadata": {},
   "outputs": [],
   "source": [
    "cualitativas_nulas = hotelsdf[cualitativas].isnull().sum()\n",
    "cualitativas_nulas = cualitativas_nulas[cualitativas_nulas > 0]\n",
    "\n",
    "cuantitativas_nulas_per = pd.Series()\n",
    "\n",
    "for indice in cualitativas_nulas.index:\n",
    "    cuantitativas_nulas_per[indice] = cualitativas_nulas[indice]/len(hotelsdf[indice])*100\n",
    "\n",
    "sns.barplot(x = cuantitativas_nulas_per.index, y = cuantitativas_nulas_per)\n",
    "plt.ylabel(ylabel= 'Porcentaje')\n",
    "plt.xlabel(xlabel= 'Nombre columna')\n",
    "plt.title(label = 'Porcentaje de valores nulos')\n",
    "plt.ylim(0, 100)\n",
    "plt.yticks([0,10,20,30,40,50,60,70,80,90,100])\n",
    "plt.show()"
   ]
  },
  {
   "cell_type": "markdown",
   "id": "79894fa9",
   "metadata": {},
   "source": [
    "Viendo que la columna company_id tiene un 92% de valores faltantes es conveniente para el analisis eliminar la columna "
   ]
  },
  {
   "cell_type": "code",
   "execution_count": null,
   "id": "92fbc3e9",
   "metadata": {},
   "outputs": [],
   "source": [
    "hotelsdf.drop(\"company_id\", axis=1, inplace=True)\n",
    "hotelsdf.reset_index(drop=True)\n",
    "cualitativas.remove(\"company_id\")"
   ]
  },
  {
   "cell_type": "markdown",
   "id": "dc9cd299",
   "metadata": {},
   "source": [
    "Por otro lado la variable booking ID no sera graficada puesto que corresponde a una cadena que representa un codigo unico para cada reserva \n",
    "\n",
    "### Agent ID\n",
    "\n",
    "#### Valores que toma"
   ]
  },
  {
   "cell_type": "code",
   "execution_count": null,
   "id": "8867574f",
   "metadata": {},
   "outputs": [],
   "source": [
    "agent_id_valores = (hotelsdf[\"agent_id\"].unique())\n",
    "agent_id_valores.sort()\n",
    "print(agent_id_valores)"
   ]
  },
  {
   "cell_type": "markdown",
   "id": "194d679a",
   "metadata": {},
   "source": [
    "#### Ajuste de valores faltantes\n",
    "\n",
    "Reemplazamos valores faltantes por 0 ya que no existe previamente y servira para regular los tipos de atos de la columna"
   ]
  },
  {
   "cell_type": "code",
   "execution_count": null,
   "id": "a27c36ee",
   "metadata": {},
   "outputs": [],
   "source": [
    "hotelsdf.loc[hotelsdf['agent_id'].isnull(), 'agent_id'] = 0\n",
    "hotelsdf[hotelsdf.agent_id.isnull()]\n",
    "hotelsdf['agent_id'] = hotelsdf['agent_id'].astype(int)"
   ]
  },
  {
   "cell_type": "markdown",
   "id": "7a9d9bc6",
   "metadata": {},
   "source": [
    "#### Grafica de distribucion"
   ]
  },
  {
   "cell_type": "code",
   "execution_count": null,
   "id": "699854a6",
   "metadata": {},
   "outputs": [],
   "source": [
    "cantidad = len(hotelsdf['agent_id'].value_counts().index.tolist())\n",
    "print(f\"La cantidad de identificaciones de empresa es: {cantidad}\")"
   ]
  },
  {
   "cell_type": "markdown",
   "id": "cc70763b",
   "metadata": {},
   "source": [
    "Debido a que existen 295 id de empresas, graficamos un muestreo de los 10 ids mas frecuentes en el dataframe"
   ]
  },
  {
   "cell_type": "code",
   "execution_count": null,
   "id": "a5c8c750",
   "metadata": {},
   "outputs": [],
   "source": [
    "data = hotelsdf.agent_id.value_counts().sort_values(ascending=False).head(10)\n",
    "sns.barplot(y = data, x = data.index.tolist())\n",
    "plt.title('Top 10 ID de agencia mas frecuentes')\n",
    "plt.xlabel('ID de agencia')\n",
    "plt.ylabel('Frecuencia')"
   ]
  },
  {
   "cell_type": "markdown",
   "id": "c55ffd13",
   "metadata": {},
   "source": [
    "El resto de valores tienen representaciones de ids validas pero aparecen de manera menos frecuente, al ser tantos, mostramos los mas frecuentes para darnos una idea. En este caso el id mas frecuente es el 9 con aproximadamente unos 16 mil registros \n",
    "\n",
    "### arrival month\n",
    "\n",
    "#### Valores que toma"
   ]
  },
  {
   "cell_type": "code",
   "execution_count": null,
   "id": "a98f20dc",
   "metadata": {},
   "outputs": [],
   "source": [
    "arrival_month_valores = (hotelsdf[\"arrival_month\"].unique())\n",
    "month_lookup = list(month_name)\n",
    "months = arrival_month_valores\n",
    "sorted(months, key=month_lookup.index)"
   ]
  },
  {
   "cell_type": "markdown",
   "id": "94859003",
   "metadata": {},
   "source": [
    "#### Grafica de la distribucion"
   ]
  },
  {
   "cell_type": "code",
   "execution_count": null,
   "id": "dab41597",
   "metadata": {},
   "outputs": [],
   "source": [
    "plt.title('Meses de llegada')\n",
    "sns.countplot(data = hotelsdf, x = 'arrival_month', palette='Set2')\n",
    "plt.xticks(rotation=45)\n",
    "plt.xlabel('Meses')\n",
    "plt.ylabel('Frecuencia')"
   ]
  },
  {
   "cell_type": "markdown",
   "id": "b3370959",
   "metadata": {},
   "source": [
    "Del siguiente grafico observamos que el mes de agosto es el mes con mas reservas hechas, por otro lado enero es el mes con menos reservas \n",
    "\n",
    "### Assigned Room type\n",
    "\n",
    "### Valores que toma"
   ]
  },
  {
   "cell_type": "code",
   "execution_count": null,
   "id": "f7ce5829",
   "metadata": {},
   "outputs": [],
   "source": [
    "assigned_room_type = hotelsdf['assigned_room_type'].unique().tolist()\n",
    "ordenado = sorted(assigned_room_type)\n",
    "print(ordenado) "
   ]
  },
  {
   "cell_type": "markdown",
   "id": "6ff307f0",
   "metadata": {
    "lines_to_next_cell": 0
   },
   "source": [
    "Realizamos un grafico de la frecuencia de los tipos de habitaciones asignadas \n",
    "\n",
    "#### Grafica de distribucion"
   ]
  },
  {
   "cell_type": "code",
   "execution_count": null,
   "id": "6483276a",
   "metadata": {},
   "outputs": [],
   "source": [
    "sns.countplot(data = hotelsdf, x='assigned_room_type', palette='Set2')\n",
    "plt.title('Tipos de habitacion asignada')\n",
    "plt.xlabel('Tipo de habitacion')\n",
    "plt.ylabel('Frecuencia')"
   ]
  },
  {
   "cell_type": "markdown",
   "id": "75c7c537",
   "metadata": {},
   "source": [
    "Del cual concluimos que las habitaciones de tipo: H, I y K son las menos frecuentas y la habitacion tipo A se lleva la mayoria de las apariciones en los registros \n",
    "\n",
    "### Country\n",
    "\n",
    "#### Valores que toma"
   ]
  },
  {
   "cell_type": "code",
   "execution_count": null,
   "id": "82f0b567",
   "metadata": {},
   "outputs": [],
   "source": [
    "country = hotelsdf['country'].unique().tolist()\n",
    "print(country) "
   ]
  },
  {
   "cell_type": "markdown",
   "id": "c04daaf6",
   "metadata": {},
   "source": [
    "#### Grafica de distribucion"
   ]
  },
  {
   "cell_type": "code",
   "execution_count": null,
   "id": "e2cb626d",
   "metadata": {},
   "outputs": [],
   "source": [
    "data = hotelsdf.country.value_counts().sort_values(ascending=False).head(20)\n",
    "plt.xticks(rotation=45)\n",
    "sns.barplot(y = data, x = data.index.tolist(), palette='Set2')\n",
    "plt.title('Paises por reserva')\n",
    "plt.xlabel('Pais')\n",
    "plt.ylabel('Frecuencia')"
   ]
  },
  {
   "cell_type": "markdown",
   "id": "462e8e0e",
   "metadata": {},
   "source": [
    "Del grafico concluimos que Portugal es el pais del cual hay mayor numero de reservas, seguido de: Alemania, Fracia, España. Por otro lado aun hay registros con valores faltantes \n",
    "\n",
    "#### Valores faltantes\n",
    "\n",
    "Para evitar la eliminacion de los registros y debido a la muy marcada tendencia de las reservas a venir de Portugal asignamos a los valores faltantes dicho pais, puesto que representas aproximadamente un 0.2% de los datos "
   ]
  },
  {
   "cell_type": "code",
   "execution_count": null,
   "id": "6402f533",
   "metadata": {
    "lines_to_next_cell": 0
   },
   "outputs": [],
   "source": [
    "hotelsdf.loc[hotelsdf['country'].isnull(), 'country'] = 'PRT'"
   ]
  },
  {
   "cell_type": "markdown",
   "id": "b93cbd14",
   "metadata": {},
   "source": [
    "Dicha asignacion no genera una desviacion, la prueba de eso en el siguiente grafico "
   ]
  },
  {
   "cell_type": "code",
   "execution_count": null,
   "id": "a7fe88b8",
   "metadata": {
    "lines_to_next_cell": 2
   },
   "outputs": [],
   "source": [
    "data = hotelsdf.country.value_counts().sort_values(ascending=False).head(20)\n",
    "plt.xticks(rotation=45)\n",
    "sns.barplot(y = data, x = data.index.tolist(), palette='Set2')\n",
    "plt.title('Paises por reserva')\n",
    "plt.xlabel('Pais')\n",
    "plt.ylabel('Frecuencia')"
   ]
  },
  {
   "cell_type": "markdown",
   "id": "f402a972",
   "metadata": {},
   "source": [
    "### Customer type\n",
    "\n",
    "#### Valores que toma"
   ]
  },
  {
   "cell_type": "code",
   "execution_count": null,
   "id": "62705a48",
   "metadata": {},
   "outputs": [],
   "source": [
    "customer_typeValores = (hotelsdf[\"customer_type\"].unique())\n",
    "customer_typeValores.sort()\n",
    "print(customer_typeValores)"
   ]
  },
  {
   "cell_type": "markdown",
   "id": "cf19792d",
   "metadata": {},
   "source": [
    "#### Grafica de distribucion"
   ]
  },
  {
   "cell_type": "code",
   "execution_count": null,
   "id": "d000d3dc",
   "metadata": {
    "lines_to_next_cell": 2
   },
   "outputs": [],
   "source": [
    "sns.countplot(data = hotelsdf, x = 'customer_type', palette='Set2')\n",
    "plt.title(\"Tipos de clientes\")\n",
    "plt.ylabel(\"Frecuencia\")\n",
    "plt.xlabel(\"Tipo de cliente\")"
   ]
  },
  {
   "cell_type": "markdown",
   "id": "1d29e73d",
   "metadata": {},
   "source": [
    "### Deposit type\n",
    "\n",
    "#### Valores que toma"
   ]
  },
  {
   "cell_type": "code",
   "execution_count": null,
   "id": "86a1989a",
   "metadata": {},
   "outputs": [],
   "source": [
    "deposit_typeValores = (hotelsdf[\"deposit_type\"].unique())\n",
    "deposit_typeValores.sort()\n",
    "print(deposit_typeValores)"
   ]
  },
  {
   "cell_type": "markdown",
   "id": "62ef566e",
   "metadata": {
    "lines_to_next_cell": 0
   },
   "source": [
    "#### Grafica de distribucion"
   ]
  },
  {
   "cell_type": "code",
   "execution_count": null,
   "id": "77496632",
   "metadata": {
    "lines_to_next_cell": 0
   },
   "outputs": [],
   "source": [
    "sns.countplot(data = hotelsdf, x = 'deposit_type', palette='Set2')\n",
    "plt.title(\"Tipo de deposito en las reservas\")\n",
    "plt.ylabel(\"Frecuencia\")\n",
    "plt.xlabel(\"Tipo de deposito\")"
   ]
  },
  {
   "cell_type": "markdown",
   "id": "486a8a02",
   "metadata": {},
   "source": [
    "Del grafico apreciamos las frecuencias y los tipos de depositos disponibles en el dataframe, siendo No Deposit el mas frecuente y por el contrario Refundable se queda con la menor frecuencia"
   ]
  },
  {
   "cell_type": "markdown",
   "id": "d8f9bd6d",
   "metadata": {},
   "source": [
    "### Distribution channel\n",
    "\n",
    "#### Valores que toma"
   ]
  },
  {
   "cell_type": "code",
   "execution_count": null,
   "id": "16ac467f",
   "metadata": {},
   "outputs": [],
   "source": [
    "distribution_channelValores = (hotelsdf[\"distribution_channel\"].unique())\n",
    "distribution_channelValores.sort()\n",
    "print(distribution_channelValores)"
   ]
  },
  {
   "cell_type": "markdown",
   "id": "f6692dd6",
   "metadata": {
    "lines_to_next_cell": 0
   },
   "source": [
    "#### Grafica de distribucion"
   ]
  },
  {
   "cell_type": "code",
   "execution_count": null,
   "id": "82729bd0",
   "metadata": {},
   "outputs": [],
   "source": [
    "sns.countplot(data = hotelsdf, x = 'hotel_name', palette='Set2')\n",
    "plt.title(\"Nombre de los hoteles\")\n",
    "plt.xlabel(\"Nombre del hotel\")\n",
    "plt.ylabel(\"Frecuencia\")"
   ]
  },
  {
   "cell_type": "markdown",
   "id": "c9fb2fde",
   "metadata": {},
   "source": [
    "Estudiamos la variable nombre de hotel, encontrando dos hoteles en el dataframe \n",
    "\n",
    "### Hotel Name\n",
    "\n",
    "#### Valores que toma"
   ]
  },
  {
   "cell_type": "code",
   "execution_count": null,
   "id": "b9349621",
   "metadata": {},
   "outputs": [],
   "source": [
    "hotel_nameValores = (hotelsdf[\"hotel_name\"].unique())\n",
    "hotel_nameValores.sort()\n",
    "print(hotel_nameValores)"
   ]
  },
  {
   "cell_type": "markdown",
   "id": "eb10b052",
   "metadata": {
    "lines_to_next_cell": 0
   },
   "source": [
    "#### Grafica de distribucion"
   ]
  },
  {
   "cell_type": "code",
   "execution_count": null,
   "id": "e7582fd7",
   "metadata": {},
   "outputs": [],
   "source": [
    "sns.countplot(data = hotelsdf, x = 'hotel_name', palette='Set2')\n",
    "plt.title(\"Nombre de los hoteles\")\n",
    "plt.xlabel(\"Nombre del hotel\")\n",
    "plt.ylabel(\"Frecuencia\")"
   ]
  },
  {
   "cell_type": "markdown",
   "id": "31b0d091",
   "metadata": {},
   "source": [
    "Estudiamos la variable nombre de hotel, encontrando dos hoteles en el dataframe \n",
    "\n",
    "### Is canceled (Target)\n",
    "\n",
    "#### Valores que toma"
   ]
  },
  {
   "cell_type": "code",
   "execution_count": null,
   "id": "e696a52b",
   "metadata": {},
   "outputs": [],
   "source": [
    "is_canceledValores = (hotelsdf[\"is_canceled\"].unique())\n",
    "is_canceledValores.sort()\n",
    "print(is_canceledValores)"
   ]
  },
  {
   "cell_type": "markdown",
   "id": "7eb89b45",
   "metadata": {
    "lines_to_next_cell": 0
   },
   "source": [
    "#### Grafica de distribucion\n",
    "La variable a predecir, dicha variable tiene valores 0 y 1, siendo 0 no cancelado y 1 las reservas canceladas\n",
    "\n",
    "#### Grafica de distribucion"
   ]
  },
  {
   "cell_type": "code",
   "execution_count": null,
   "id": "10f6b829",
   "metadata": {},
   "outputs": [],
   "source": [
    "para_ver = pd.DataFrame()\n",
    "para_ver['is_canceled'] = hotelsdf['is_canceled'].map({1: 'Cancelado', 0: 'No cancelado'})\n",
    "sns.countplot(data = para_ver, x = 'is_canceled', palette='Set2')\n",
    "plt.title('Estado final de la reserva, variable target')\n",
    "plt.ylabel('Frecuencia')\n",
    "plt.xlabel(\"Estado\")"
   ]
  },
  {
   "cell_type": "markdown",
   "id": "e18b0536",
   "metadata": {},
   "source": [
    "### Is repeated guest\n",
    "\n",
    "#### Valores que toma\n"
   ]
  },
  {
   "cell_type": "code",
   "execution_count": null,
   "id": "78545a6a",
   "metadata": {},
   "outputs": [],
   "source": [
    "is_repeated_guestValores = (hotelsdf[\"is_repeated_guest\"].unique())\n",
    "is_repeated_guestValores.sort()\n",
    "print(is_repeated_guestValores)"
   ]
  },
  {
   "cell_type": "markdown",
   "id": "a9b2633a",
   "metadata": {},
   "source": [
    "#### Grafica de distribucion"
   ]
  },
  {
   "cell_type": "code",
   "execution_count": null,
   "id": "e3552d38",
   "metadata": {},
   "outputs": [],
   "source": [
    "para_ver['is_repeated_guest'] = hotelsdf['is_repeated_guest'].map({1: 'Si', 0: 'No'})\n",
    "sns.countplot(data = para_ver, x = 'is_repeated_guest', palette='Set2')\n",
    "plt.title('Huespedes con visitas previas al hotel en la reserva')\n",
    "plt.ylabel('Frecuencia')\n",
    "plt.xlabel('Huesped repetido')"
   ]
  },
  {
   "cell_type": "markdown",
   "id": "d4436f77",
   "metadata": {},
   "source": [
    "Del grafico es facil concluir que la mayoria de las reservas fueron realizados por usuarios que visitan por primera vez el hotel escogido\n"
   ]
  },
  {
   "cell_type": "markdown",
   "id": "a0b4f22b",
   "metadata": {},
   "source": [
    "### Market segment\n",
    "\n",
    "#### Valores que toma\n"
   ]
  },
  {
   "cell_type": "code",
   "execution_count": null,
   "id": "fd9aef1d",
   "metadata": {},
   "outputs": [],
   "source": [
    "market_segment_typeValores = (hotelsdf[\"market_segment_type\"].unique())\n",
    "market_segment_typeValores.sort()\n",
    "print(market_segment_typeValores)"
   ]
  },
  {
   "cell_type": "markdown",
   "id": "9e87f334",
   "metadata": {},
   "source": [
    "#### Grafica de distribucion\n",
    "#### Grafica de distribucion"
   ]
  },
  {
   "cell_type": "code",
   "execution_count": null,
   "id": "532a6d39",
   "metadata": {},
   "outputs": [],
   "source": [
    "plt.xticks(rotation=30)\n",
    "sns.countplot(data=hotelsdf, x = 'market_segment_type', palette='Set2')\n",
    "plt.title(\"Tipo de segmento de mercado\")\n",
    "plt.ylabel(\"Frecuencia\")\n",
    "plt.xlabel(\"Segmento del mercado\")"
   ]
  },
  {
   "cell_type": "markdown",
   "id": "a4d964d2",
   "metadata": {},
   "source": [
    "### meal type\n",
    "\n",
    "#### Valores que toma"
   ]
  },
  {
   "cell_type": "code",
   "execution_count": null,
   "id": "24d7d7fb",
   "metadata": {},
   "outputs": [],
   "source": [
    "meal_typeValores = (hotelsdf[\"meal_type\"].unique())\n",
    "meal_typeValores.sort()\n",
    "print(meal_typeValores)"
   ]
  },
  {
   "cell_type": "markdown",
   "id": "632b3691",
   "metadata": {},
   "source": [
    "#### Grafica de distribucion"
   ]
  },
  {
   "cell_type": "code",
   "execution_count": null,
   "id": "7aed968d",
   "metadata": {},
   "outputs": [],
   "source": [
    "sns.countplot(data=hotelsdf, x = 'meal_type', palette='Set2')\n",
    "plt.title(\"Tipo de comida por reserva\")\n",
    "plt.ylabel(\"Frecuencia\")\n",
    "plt.xlabel(\"Tipo de comida\")"
   ]
  },
  {
   "cell_type": "markdown",
   "id": "59535b1f",
   "metadata": {},
   "source": [
    "### Reserved room type\n",
    "\n",
    "#### Valores que toma"
   ]
  },
  {
   "cell_type": "code",
   "execution_count": null,
   "id": "65bea93a",
   "metadata": {},
   "outputs": [],
   "source": [
    "reserved_room_typeValores = (hotelsdf[\"reserved_room_type\"].unique())\n",
    "reserved_room_typeValores.sort()\n",
    "print(reserved_room_typeValores)"
   ]
  },
  {
   "cell_type": "markdown",
   "id": "f95dc189",
   "metadata": {},
   "source": [
    "#### Grafica de distribucion"
   ]
  },
  {
   "cell_type": "code",
   "execution_count": null,
   "id": "651dd364",
   "metadata": {},
   "outputs": [],
   "source": [
    "sns.countplot(data=hotelsdf, x = 'reserved_room_type')\n",
    "plt.title(\"Tipo de habitacion reservada\")\n",
    "plt.ylabel(\"Frecuencia\")\n",
    "plt.xlabel(\"Tipo de habitacion\")"
   ]
  },
  {
   "cell_type": "markdown",
   "id": "3cb50ee9",
   "metadata": {},
   "source": [
    "Como ya habiamos observado en la cantidad de dias de fin de semana, la mayor cantidad de gente se queda "
   ]
  },
  {
   "cell_type": "markdown",
   "id": "dafc50ab",
   "metadata": {},
   "source": [
    "# Estado del data frame post analisis univariado"
   ]
  },
  {
   "cell_type": "markdown",
   "id": "34810c21",
   "metadata": {},
   "source": [
    "Vamos a observar el estado de nuestro data frame actualmente para observar que efecto tuvo nuestro analisis en el volumen de los datos"
   ]
  },
  {
   "cell_type": "code",
   "execution_count": null,
   "id": "9d8ba2c6",
   "metadata": {},
   "outputs": [],
   "source": [
    "pd.concat([hotelsdf.head(2), hotelsdf.sample(5), hotelsdf.tail(2)])"
   ]
  },
  {
   "cell_type": "code",
   "execution_count": null,
   "id": "cd6bbc21",
   "metadata": {},
   "outputs": [],
   "source": [
    "hotelsdf.info()"
   ]
  },
  {
   "cell_type": "code",
   "execution_count": null,
   "id": "9c1c16a4",
   "metadata": {},
   "outputs": [],
   "source": [
    "porcentaje = str(100 - len(hotelsdf) * 100 / len(hotelsDfOriginal))[:5]\n",
    "print(\"Vemos que despues del proceso de Ingenieria de caracteristicas, la cantidad de datos se redujo en un \" + porcentaje + \"%\") "
   ]
  },
  {
   "cell_type": "markdown",
   "id": "47131d61",
   "metadata": {},
   "source": [
    "Ademas observamos que no tenemos mas datos faltantes, visto en como los unicos valores del tipo float64 es average_daily_rate, el cual es un valor de punto flotante."
   ]
  },
  {
   "cell_type": "markdown",
   "id": "86122b39",
   "metadata": {},
   "source": [
    "# Analisis multivariado\n",
    "## Medicion de la correlacion entre las variables cuantitativas\n",
    "\n",
    "Una vez hecho el tratado sobre outliers y datos faltantes medimos la correlacion entre las variables cuantitativas encontradas en el dataframe"
   ]
  },
  {
   "cell_type": "code",
   "execution_count": null,
   "id": "f59fe42f",
   "metadata": {},
   "outputs": [],
   "source": [
    "# Este if es se usa para evitar problemas de versiones de pandas entre la version local y la presente en Google Collab\n",
    "if (pd.__version__) == \"1.5.2\":\n",
    "    correlaciones = hotelsdf[cuantitativas].corr(numeric_only=True)\n",
    "\n",
    "else:\n",
    "    correlaciones = hotelsdf[cuantitativas].corr()\n",
    "\n",
    "    \n",
    "sns.set(style = 'darkgrid')\n",
    "plt.figure( figsize = (12, 9))\n",
    "sns.heatmap(data = correlaciones,annot = True, vmin = -1, vmax =1, fmt='.2f')\n",
    "sns.color_palette(\"mako\", as_cmap=True)\n",
    "plt.show()"
   ]
  },
  {
   "cell_type": "markdown",
   "id": "671c8a32",
   "metadata": {},
   "source": [
    "### Week nights number vs Weekend nights number\n",
    "\n",
    "Como dijimos previamente, analizar por separado las noches de dia de semana y las noches de dias de fin de semana no basta parta estudiar dichas variables. El primer problema que podria surgir es que la cantidad de noches de semana y de fin de semana no guarden una relacion coherente. Al graficarlos debería ocurrir lo siguiente:\n",
    "- Cuando el numero de noches n de fin de semana es impar, las pendientes de las rectas tienen una variacion de +/- 5 noches de semana\n",
    "- Cuando el numero de noches n de fin de semana es par, las pendientes de las rectas tienen una variacion de +- 10 noches de semana"
   ]
  },
  {
   "cell_type": "code",
   "execution_count": null,
   "id": "c94be5d7",
   "metadata": {},
   "outputs": [],
   "source": [
    "sns.scatterplot(x=hotelsdf.weekend_nights_num,y=hotelsdf.week_nights_num)\n",
    "plt.title('Dispersograma noches finde vs noches de semana')\n",
    "plt.show()"
   ]
  },
  {
   "cell_type": "markdown",
   "id": "b852afe7",
   "metadata": {},
   "source": [
    "Al observar el grafico observamos que todos los puntos se encuentran en los rangos explicados anteriormente."
   ]
  },
  {
   "cell_type": "markdown",
   "id": "f3eaa873",
   "metadata": {},
   "source": [
    "Sin embargo, ocurre que si bien puede resultar util tener datos sobre las noches de semana y las de fin de semana, un dato que nos podria resultar aun mas util es la cantidad de noches totales de estadia.\n",
    "Agregamos una columna con dicho dato"
   ]
  },
  {
   "cell_type": "code",
   "execution_count": null,
   "id": "69b1b3f7",
   "metadata": {},
   "outputs": [],
   "source": [
    "hotelsdf[\"dias_totales\"] = hotelsdf[\"week_nights_num\"] + hotelsdf[\"weekend_nights_num\"]"
   ]
  },
  {
   "cell_type": "markdown",
   "id": "55ca7429",
   "metadata": {},
   "source": [
    "Puesto que ahora tenemos una nueva variable, realizamos un breve analisis univariado sobre la misma para determinar si existen Outliers no detectados en las columans de week y weekend nights number."
   ]
  },
  {
   "cell_type": "code",
   "execution_count": null,
   "id": "dbcc0634",
   "metadata": {},
   "outputs": [],
   "source": [
    "plt.figure(figsize=(15,5))\n",
    "sns.countplot(data = hotelsdf, x = 'dias_totales', palette= 'Set2')\n",
    "plt.title('Cantidad de reservas por dias de estadia')\n",
    "plt.xlabel('Dias de estadia')\n",
    "plt.ylabel('Frecuencia')"
   ]
  },
  {
   "cell_type": "markdown",
   "id": "34aece77",
   "metadata": {},
   "source": [
    "La mayoria de las reservas son de estadias de entre 1 y 7 dias de estadia. En menor medida se observan reservas para estadias entre 8 y 14 dias y por ultimos unas pocas entre 15 y 30 dias. Realizamos un boxplot para darnos una idea de que numero utilizar como corte para determinar outliers."
   ]
  },
  {
   "cell_type": "code",
   "execution_count": null,
   "id": "f7a4efab",
   "metadata": {},
   "outputs": [],
   "source": [
    "plt.xlabel(xlabel = 'Dia estadia')\n",
    "sns.boxplot(data = hotelsdf['dias_totales'])\n",
    "plt.title(\"reservas por dias de estadia\")\n",
    "plt.ylabel(ylabel = 'Frecuencia')"
   ]
  },
  {
   "cell_type": "markdown",
   "id": "362ed09c",
   "metadata": {},
   "source": [
    "Segun el grafico se alejarian de la media todos los valores de 8 o mas dias de estadia. Vemos cuantos registros son y que porcentaje representan del total"
   ]
  },
  {
   "cell_type": "code",
   "execution_count": null,
   "id": "30b51a23",
   "metadata": {},
   "outputs": [],
   "source": [
    "reservas_mas_de_ocho_dias = hotelsdf[(hotelsdf.dias_totales>=8)].shape[0]\n",
    "print(\"hay\",reservas_mas_de_ocho_dias,\"que representan un porcentaje del total de\", reservas_mas_de_ocho_dias*100/hotelsdf.shape[0],\"%\")"
   ]
  },
  {
   "cell_type": "markdown",
   "id": "89aec473",
   "metadata": {},
   "source": [
    "Puesto que este valor es muy elevado, apelamos al sentido comun. Rservas de hasta 14 dias de estadia son muy posibles, por lo cual estuidiamos las de mas 15 o mas dias."
   ]
  },
  {
   "cell_type": "code",
   "execution_count": null,
   "id": "0fba5553",
   "metadata": {},
   "outputs": [],
   "source": [
    "quince_o_mas_dias = hotelsdf[hotelsdf[\"dias_totales\"]>=15]\n",
    "#plt.figure(figsize=(15,5))\n",
    "sns.countplot(data = quince_o_mas_dias, x = 'dias_totales', palette= 'Set2', hue = \"is_canceled\")\n",
    "plt.title('Cantidad de dias de estadia')\n",
    "plt.xlabel('Dias de estadia')\n",
    "plt.ylabel('Frecuencia')"
   ]
  },
  {
   "cell_type": "markdown",
   "id": "a46755a9",
   "metadata": {},
   "source": [
    "Primero vemos cuantos registros son en total"
   ]
  },
  {
   "cell_type": "code",
   "execution_count": null,
   "id": "1e8a6737",
   "metadata": {},
   "outputs": [],
   "source": [
    "print(\"hay\",quince_o_mas_dias.shape[0],\"que se quedan 15 o mas dias y representan un porcentaje del total de\", (quince_o_mas_dias.shape[0])*100/hotelsdf.shape[0],\"%\")"
   ]
  },
  {
   "cell_type": "markdown",
   "id": "d95abbdc",
   "metadata": {},
   "source": [
    "Luego vemos cuantos de esos cancelan"
   ]
  },
  {
   "cell_type": "code",
   "execution_count": null,
   "id": "73c87905",
   "metadata": {},
   "outputs": [],
   "source": [
    "cancelaron_y_quince_o_mas_dias = hotelsdf[ (hotelsdf.dias_totales>=15) & (hotelsdf.is_canceled == 1) ].shape[0]\n",
    "\n",
    "print(\"hay\",cancelaron_y_quince_o_mas_dias,\"que cancelaron y se quedaron mas de 15 o mas dias.Osea un\", cancelaron_y_quince_o_mas_dias*100/quince_o_mas_dias.shape[0],\"% de los que se que se quedan mas de 15 dias cancelan\")"
   ]
  },
  {
   "cell_type": "markdown",
   "id": "3aa2f891",
   "metadata": {},
   "source": [
    "Vemos que el porcentaje de reservas de mas de 15 dias que cancelan es muy alto. Sin embargo, la cantidad de registros con los que ocurre esto son muy pocos. Dejarlos, podria generar ruido al momento de realizar la prediccion. Nos podria llevar, erroneamente a pensar que alguien que se quedo muchos dias cancelaria cuando esto no necesariamente es asi. En el problema q estamos resolviendo, es prefereible no detectar a alguien que cancela, que suponer que alguien cancelaria y que luego no lo haga ya que en terminos de presupuestos, disponibilidad o cualquiera sea el uso que se le de a esta prediccion, no estar preparardo para una reserva perjudicaria mucho mas que estarlo \"por las dudas\".\n",
    "Procedemos a eliminarlos"
   ]
  },
  {
   "cell_type": "code",
   "execution_count": null,
   "id": "da73ec18",
   "metadata": {},
   "outputs": [],
   "source": [
    "a_eliminar_con_quince_o_mas_dias = hotelsdf[hotelsdf['dias_totales'] >= 15]\n",
    "hotelsdf.drop(a_eliminar_con_quince_o_mas_dias.index, inplace = True)\n",
    "hotelsdf.reset_index(drop=True)"
   ]
  },
  {
   "cell_type": "code",
   "execution_count": null,
   "id": "82f0137a",
   "metadata": {},
   "outputs": [],
   "source": [
    "sns.countplot(data = hotelsdf, x='meal_type', hue='is_canceled')\n",
    "plt.title(\"Tipo de comida en la reserva por cancelacion\")\n",
    "plt.xlabel(\"Tipo de comida\")\n",
    "plt.ylabel(\"Frecuencia\")"
   ]
  },
  {
   "cell_type": "markdown",
   "id": "7700d609",
   "metadata": {},
   "source": [
    "Una vez analizada la variable contra el target podemos decir que la misma no proporciona suficiente informacion para el analisis y por lo tanto descartamos la misma para descongestionarla cantidad de variables a usar en el analisis futuro\n",
    "\n",
    "#### Dias_totales vs Lead_time"
   ]
  },
  {
   "cell_type": "code",
   "execution_count": null,
   "id": "2e91806a",
   "metadata": {},
   "outputs": [],
   "source": [
    "sns.scatterplot(x=hotelsdf.dias_totales,y=hotelsdf.lead_time)\n",
    "plt.title('Dispersograma dias totales lead time')\n",
    "plt.show()"
   ]
  },
  {
   "cell_type": "markdown",
   "id": "cb7fb518",
   "metadata": {},
   "source": [
    "Los dias totales y la cantidad de tiempo previo desde la reserva hasta la fecha de llegada se distribuyen de manera homogenea. No se identifican outliers\n",
    "\n",
    "#### ADR y Tipo de cliente"
   ]
  },
  {
   "cell_type": "code",
   "execution_count": null,
   "id": "c9c8f599",
   "metadata": {},
   "outputs": [],
   "source": [
    "boxplot = hotelsdf.boxplot(column='average_daily_rate', by='customer_type')\n",
    "plt.title('Precio diario promedio por tipo de cliente')\n",
    "plt.suptitle(\"\")\n",
    "plt.xlabel(\"Tipo de cliente\")\n",
    "plt.ylabel(\"Precio diario promedio\")"
   ]
  },
  {
   "cell_type": "markdown",
   "id": "98dc5c13",
   "metadata": {},
   "source": [
    "Se puede observar en las graficas que hay valores que se escapan de lo esperado cuando se hace la medicion en relacion al tipo de cliente, al contabilizar estas observaciones concluimos que son pocas y por lo tanto, eliminamos dichos registros que representan una desviacion. Tambien hay que considerar que la media de todos los registros es de aproximadamente 100 (en la unidad correspondiente) y por lo tanto la desviacion estandar es muy chica mostrando algunos valores como outliers a pesar de haber pasado por un tratamiento previo "
   ]
  },
  {
   "cell_type": "code",
   "execution_count": null,
   "id": "13fbb31d",
   "metadata": {},
   "outputs": [],
   "source": [
    "#obtenemos los indices de los outliers\n",
    "indices_outliers = hotelsdf[(hotelsdf['customer_type'] == 'Group') & (hotelsdf['average_daily_rate'] > 200)].index\n",
    "hotelsdf.drop(indices_outliers, inplace = True)\n",
    "indices_outliers2 = hotelsdf[(hotelsdf['customer_type'] == 'Contract') & (hotelsdf['average_daily_rate'] > 200)].index\n",
    "hotelsdf.drop(indices_outliers2, inplace = True)\n",
    "hotelsdf.reset_index(drop=True)"
   ]
  },
  {
   "cell_type": "markdown",
   "id": "91cfec67",
   "metadata": {},
   "source": [
    "Graficamos nuevamente para verificar que dicho tratamiento no generara una desviacion considerable en el analisis\n",
    "\n",
    " ```python \n",
    "boxplot = hotelsdf.boxplot(column='average_daily_rate', by='customer_type')\n",
    "plt.title('Precio diario promedio por tipo de cliente')\n",
    "plt.suptitle(\"\")\n",
    "plt.xlabel(\"Tipo de cliente\")\n",
    "plt.ylabel(\"Precio diario promedio\")\n",
    "```\n",
    "\n",
    "### ADR y Tipo de habitacion\n",
    "\n",
    "```python \n",
    "boxplot = hotelsdf.boxplot(column='average_daily_rate', by='assigned_room_type')\n",
    "plt.title('Precio diario promedio por tipo de habitacion')\n",
    "plt.suptitle(\"\")\n",
    "plt.xlabel(\"Tipo de cliente\")\n",
    "plt.ylabel(\"Precio diario promedio\")\n",
    "```\n",
    "\n",
    "Del grafico anterior es claro que aparecen outliers en el precio promedio diario de habitacion cuando este es agrupado por tipo de habitacion. Se identefican los conjuntos de datos que deben ser eliminados o tratados. "
   ]
  },
  {
   "cell_type": "code",
   "execution_count": null,
   "id": "b410f9ff",
   "metadata": {
    "lines_to_next_cell": 0
   },
   "outputs": [],
   "source": [
    "indices_tipo_k = hotelsdf[(hotelsdf['assigned_room_type'] == 'K') & (hotelsdf['average_daily_rate'] > 160)].index\n",
    "indices_tipo_i = hotelsdf[(hotelsdf['assigned_room_type'] == 'I') & (hotelsdf['average_daily_rate'] > 210)].index\n",
    "indices_tipo_b = hotelsdf[(hotelsdf['assigned_room_type'] == 'B') & (hotelsdf['average_daily_rate'] < 30)].index\n",
    "indices_tipo_b2 = hotelsdf[(hotelsdf['assigned_room_type'] == 'B') & (hotelsdf['average_daily_rate'] > 210)].index\n",
    "print(f\"El total de los datos a eliminar es {len(indices_tipo_k ) + len(indices_tipo_b) + len(indices_tipo_b2) + len(indices_tipo_i)}\")"
   ]
  },
  {
   "cell_type": "code",
   "execution_count": null,
   "id": "15b43b8e",
   "metadata": {},
   "outputs": [],
   "source": [
    "hotelsdf.drop(indices_tipo_k, inplace=True)\n",
    "hotelsdf.drop(indices_tipo_i, inplace=True)\n",
    "hotelsdf.drop(indices_tipo_b, inplace=True)\n",
    "hotelsdf.drop(indices_tipo_b2, inplace=True)\n",
    "hotelsdf.reset_index(drop=True)"
   ]
  },
  {
   "cell_type": "markdown",
   "id": "6ad66dc6",
   "metadata": {},
   "source": [
    "Mostramos nuevamente la distribucion de las variables alteradas"
   ]
  },
  {
   "cell_type": "code",
   "execution_count": null,
   "id": "e1109885",
   "metadata": {},
   "outputs": [],
   "source": [
    "boxplot = hotelsdf.boxplot(column='average_daily_rate', by='assigned_room_type')\n",
    "plt.title('Precio diario promedio por tipo de habitacion')\n",
    "plt.suptitle(\"\")\n",
    "plt.xlabel(\"Tipo de cliente\")\n",
    "plt.ylabel(\"Precio diario promedio\")"
   ]
  },
  {
   "cell_type": "markdown",
   "id": "d83b8fa2",
   "metadata": {},
   "source": [
    "### Adult number, children number y babies number\n",
    "\n",
    "Realizamos un grafico con la intencion de detectar outliers "
   ]
  },
  {
   "cell_type": "code",
   "execution_count": null,
   "id": "be7c1b5e",
   "metadata": {},
   "outputs": [],
   "source": [
    "#Visualizacion 3D\n",
    "\n",
    "fig = plt.figure(figsize=(12, 8))\n",
    "ax = fig.add_subplot(projection='3d')\n",
    "x1 = hotelsdf.adult_num\n",
    "y1 = hotelsdf.children_num\n",
    "z1 = hotelsdf.babies_num\n",
    "ax.scatter(x1,y1,z1, label = 'No cancelados')\n",
    "ax.set_xlabel('Adultos')\n",
    "ax.set_ylabel('Niños')\n",
    "ax.set_zlabel('Bebes')\n",
    "ax.elev = 5  \n",
    "ax.azim = -75\n",
    "plt.title('Comparacion adultos, niños y bebes')"
   ]
  },
  {
   "cell_type": "markdown",
   "id": "e32d5b4d",
   "metadata": {},
   "source": [
    "A partir del grafico anterior no se puede hacer una observacion relevante en la deteccion de outliers\n",
    "\n",
    "## Relacion contra el target: is_canceled"
   ]
  },
  {
   "cell_type": "markdown",
   "id": "9edbfa0c",
   "metadata": {},
   "source": [
    "Vamos a graficar algunas variables haciendo foco en si cancelaron o no. Estas fueron elegidas en base a nuestros analisis multi y univariados y segun el significado que tienen estas variables en el contexto del problema. Optamos por: \"lead_time\", \"average_daily_rate\", \"previous_cancellations_num\", \"dias_totales\" y \"reserved_room_type\""
   ]
  },
  {
   "cell_type": "markdown",
   "id": "ed06fa65",
   "metadata": {},
   "source": [
    "### Lead time"
   ]
  },
  {
   "cell_type": "code",
   "execution_count": null,
   "id": "5e2a9827",
   "metadata": {},
   "outputs": [],
   "source": [
    "sns.kdeplot(data= hotelsdf, x = \"lead_time\", hue= \"is_canceled\")\n",
    "plt.title(\"Densidad de registros de lead_time s haciendo foco en is_canceled\")\n",
    "plt.xlabel(\"Lead time\")\n",
    "plt.ylabel(\"Densidad\")"
   ]
  },
  {
   "cell_type": "markdown",
   "id": "b0d3bc70",
   "metadata": {},
   "source": [
    "Estas graficas podrian sugerir que reservas realizadas con mayor anticipacion tendrian mas probabilidad de ser canceladas."
   ]
  },
  {
   "cell_type": "markdown",
   "id": "1daea0b0",
   "metadata": {},
   "source": [
    "### previous_cancellations_num"
   ]
  },
  {
   "cell_type": "code",
   "execution_count": null,
   "id": "b28c67dc",
   "metadata": {},
   "outputs": [],
   "source": [
    "#TODO CAMBIARRRRR\n",
    "hotelsdf_filtratres = hotelsdf[ hotelsdf[\"previous_cancellations_num\"] <2]\n",
    "sns.countplot(data= hotelsdf_filtratres, x=\"previous_cancellations_num\",  hue= \"is_canceled\")\n",
    "plt.title(\"Cantidad de reservas respecto a la cantidad de cancelaciones previas\")\n",
    "plt.xlabel(\"Cancelaciones previas\")\n",
    "plt.ylabel(\"Cantidad de reservas\")"
   ]
  },
  {
   "cell_type": "markdown",
   "id": "090c39c0",
   "metadata": {},
   "source": [
    "Sin embargo si hacemos zoom en las reservas con una cancelacion previa..."
   ]
  },
  {
   "cell_type": "code",
   "execution_count": null,
   "id": "d73196e1",
   "metadata": {},
   "outputs": [],
   "source": [
    "hotelsdf_con_una_cancelaciones = hotelsdf[ hotelsdf[\"previous_cancellations_num\"] ==1]\n",
    "sns.countplot(data= hotelsdf_con_una_cancelaciones, x=\"previous_cancellations_num\",  hue= \"is_canceled\")\n",
    "plt.title(\"Cantidad de reservas para una cancelacion previa\")\n",
    "plt.xlabel(\"Cancelaciones previas\")\n",
    "plt.ylabel(\"Cantidad de reservas\")"
   ]
  },
  {
   "cell_type": "code",
   "execution_count": null,
   "id": "fa4cf49d",
   "metadata": {},
   "outputs": [],
   "source": [
    "reservas_con_una_cancelacion = hotelsdf_con_una_cancelaciones.shape[0]\n",
    "total_reservas_cancelaciones_prev = hotelsdf[\"previous_cancellations_num\"].shape[0]\n",
    "print(\"las reservas con 1 cancelacion previa represntan un \", reservas_con_una_cancelacion*100/total_reservas_cancelaciones_prev,\"%\" )"
   ]
  },
  {
   "cell_type": "markdown",
   "id": "5eb01144",
   "metadata": {},
   "source": [
    "Observando la grafica vemos que existe un salto muy importante en la cantidad de reservas canceladas cuando la cantidad de reservas canceladas anteriormente es 1. Si bien esta variable parece tener una influencia muy importante sobre el valor ocurre con un numero muy pequeño de registros (un 6%)"
   ]
  },
  {
   "cell_type": "markdown",
   "id": "51404b06",
   "metadata": {},
   "source": [
    "### Average_daily_rate"
   ]
  },
  {
   "cell_type": "code",
   "execution_count": null,
   "id": "aa9bb23c",
   "metadata": {},
   "outputs": [],
   "source": [
    "sns.kdeplot(data= hotelsdf, x = \"average_daily_rate\", hue= \"is_canceled\")\n",
    "plt.title(\"Densidad de registros del precio promedio diario por hab haciendo foco en la cancelacion\")\n",
    "plt.xlabel(\"Precio promedio diario por hab\")\n",
    "plt.ylabel(\"Densidad de registros\")"
   ]
  },
  {
   "cell_type": "markdown",
   "id": "b1442817",
   "metadata": {},
   "source": [
    "Se puede ver que las garficas de ADR haciendo foco en is_cancelled se comportan de manera similiar para todos los valores. No podemos estabecer que exista una influencia directa de esta variable sobre el target."
   ]
  },
  {
   "cell_type": "markdown",
   "id": "e0aaba27",
   "metadata": {},
   "source": [
    "### Dias Totales"
   ]
  },
  {
   "cell_type": "code",
   "execution_count": null,
   "id": "2ac02154",
   "metadata": {},
   "outputs": [],
   "source": [
    "sns.countplot(data = hotelsdf, x = 'dias_totales', palette= 'Set2', hue = \"is_canceled\")\n",
    "plt.title('Cantidad de dias de estadia')\n",
    "plt.xlabel('Dias de estadia')\n",
    "plt.ylabel('Frecuencia')\n",
    "plt.title(\"Cantidad de reservas por dias de estadia\")"
   ]
  },
  {
   "cell_type": "markdown",
   "id": "5d20a2da",
   "metadata": {},
   "source": [
    "Podemos ver que no existe una relacion directa entre la cantidad de dias de estadia y si la reserva esta cancelada o no."
   ]
  },
  {
   "cell_type": "markdown",
   "id": "60196af7",
   "metadata": {},
   "source": [
    "### reserved_room_type"
   ]
  },
  {
   "cell_type": "code",
   "execution_count": null,
   "id": "3ad00e95",
   "metadata": {},
   "outputs": [],
   "source": [
    "sns.countplot(data=hotelsdf, x = 'reserved_room_type',  hue= \"is_canceled\")\n",
    "plt.title('Cantidad de reservas segun el tipo de cuarto haciendo foco en la cancelacion')\n",
    "plt.xlabel('Tipo de habitacion')\n",
    "plt.ylabel(\"Cantidad de reservas por dias de estadia\")\n",
    "plt.show()"
   ]
  },
  {
   "cell_type": "markdown",
   "id": "3fe86e88",
   "metadata": {},
   "source": [
    "Podemos ver que no existe una relacion directa entre el tipo de habitacion elegido y si la reserva esta cancelada o no."
   ]
  },
  {
   "cell_type": "markdown",
   "id": "d92a3abb",
   "metadata": {},
   "source": [
    "## Conclusion"
   ]
  },
  {
   "cell_type": "markdown",
   "id": "45e404d7",
   "metadata": {},
   "source": [
    "Como conclusión de esta primera etapa podríamos decir que la única variable que parece tener cierta influencia sobre el target es \"lead_time\".\n",
    "Para el resto de las variables, no podemos afirmar que existe una correlación directa entre ellas y el target. Esto se puede observar en sus graficas de distribucion en las cuales la cantidad de reservas canceladas es practicamente igual a las no canceladas para casi la totalidad del rango."
   ]
  }
 ],
 "metadata": {
  "jupytext": {
   "formats": "ipynb,md"
  },
  "kernelspec": {
   "display_name": "Python 3 (ipykernel)",
   "language": "python",
   "name": "python3"
  }
 },
 "nbformat": 4,
 "nbformat_minor": 5
}
