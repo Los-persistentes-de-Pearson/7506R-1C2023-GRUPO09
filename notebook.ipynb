{
 "cells": [
  {
   "cell_type": "markdown",
   "id": "a805430f",
   "metadata": {},
   "source": [
    "# Pruebas\n",
    "\n",
    "En este jupyter notebook vamos a explorar un conjunto de datos sobre reservas de hoteles y tratar de hallar un modelo que nos permita predecir si la reserva va a ser cancelada"
   ]
  },
  {
   "cell_type": "markdown",
   "id": "786100b6",
   "metadata": {},
   "source": [
    "Importamos todas las librerias que vamos a usar"
   ]
  },
  {
   "cell_type": "code",
   "execution_count": null,
   "id": "bc2b8920",
   "metadata": {},
   "outputs": [],
   "source": [
    "import pandas as pd \n",
    "import numpy as np\n",
    "import sklearn as sk\n",
    "import seaborn as sns\n",
    "from matplotlib import pyplot as plt"
   ]
  },
  {
   "cell_type": "markdown",
   "id": "04e42018",
   "metadata": {},
   "source": [
    "Cargamos los datos en un dataframe de pandas. Creamos una copia del dataframe original y trabajamos encima de la copia"
   ]
  },
  {
   "cell_type": "code",
   "execution_count": null,
   "id": "3d6874ae",
   "metadata": {},
   "outputs": [],
   "source": [
    "hotelsDfOriginal = pd.read_csv(\"./hotels_train.csv\")\n",
    "hotelsdf = hotelsDfOriginal.copy()\n",
    "\n",
    "print(\"El data frame esta compuesto por \"f\"{hotelsdf.shape[0]}\"\" filas y \"f\"{hotelsdf.shape[1]}\"\" columnas\")"
   ]
  },
  {
   "cell_type": "markdown",
   "id": "cd35db90",
   "metadata": {},
   "source": [
    "Un vistaso básico a la información contenida en el dataframe:"
   ]
  },
  {
   "cell_type": "code",
   "execution_count": null,
   "id": "364f2180",
   "metadata": {},
   "outputs": [],
   "source": [
    "pd.concat([hotelsdf.head(2), hotelsdf.sample(5), hotelsdf.tail(2)])"
   ]
  },
  {
   "cell_type": "markdown",
   "id": "728416b9",
   "metadata": {},
   "source": [
    "Renombramos las columnas del dataframe con nombres mas claros y en español"
   ]
  },
  {
   "cell_type": "code",
   "execution_count": null,
   "id": "c61d591d",
   "metadata": {},
   "outputs": [],
   "source": [
    "nuevas_columnas = {\n",
    "    'adr':'average_daily_rate',\n",
    "    'adults':'adult_num',\n",
    "    'agent':'agent_id',\n",
    "    'arrival_date_day_of_month':'arrival_month_day',\n",
    "    'arrival_date_month':'arrival_month',\n",
    "    'arrival_date_week_number':'arrival_week_number',\n",
    "    'arrival_date_year':'arrival_year',\n",
    "    'assigned_room_type':'assigned_room_type',\n",
    "    'babies':'babies_num',\n",
    "    'booking_changes':'booking_changes_num',\n",
    "    'children':'children_num',\n",
    "    'company':'company_id',\n",
    "    'country':'country',\n",
    "    'customer_type':'customer_type',\n",
    "    'days_in_waiting_list':'days_in_waiting_list',\n",
    "    'deposit_type':'deposit_type',\n",
    "    'distribution_channel':'distribution_channel',\n",
    "    'hotel':'hotel_name',\n",
    "    'id':'booking_id', #chekear con el profesor\n",
    "    'is_canceled':'is_canceled',\n",
    "    'is_repeated_guest':'is_repeated_guest',\n",
    "    'lead_time':'lead_time',\n",
    "    'market_segment':'market_segment_type',\n",
    "    'meal':'meal_type',\n",
    "    'previous_bookings_not_canceled':'previous_bookings_not_canceled_num',\n",
    "    'previous_cancellations':'previous_cancellations_num',\n",
    "    'required_car_parking_spaces':'required_car_parking_spaces_num',\n",
    "    'reservation_status':'reservation_status',\n",
    "    'reservation_status_date':'reservation_status_date',\n",
    "    'reserved_room_type':'reserved_room_type',\n",
    "    'stays_in_weekend_nights':'weekend_nights_num',\n",
    "    'stays_in_week_nights':'week_nights_num',\n",
    "    'total_of_special_requests':'special_requests_num',\n",
    "}\n",
    "\n",
    "hotelsdf.rename(columns = nuevas_columnas, inplace = True)"
   ]
  },
  {
   "cell_type": "markdown",
   "id": "ddfff7b8",
   "metadata": {},
   "source": [
    "Vemos el dataset con los nuevos nombres de columnas"
   ]
  },
  {
   "cell_type": "code",
   "execution_count": null,
   "id": "0feaafb8",
   "metadata": {},
   "outputs": [],
   "source": [
    "pd.concat([hotelsdf.head(2), hotelsdf.sample(5), hotelsdf.tail(2)])"
   ]
  },
  {
   "cell_type": "markdown",
   "id": "a82f747b",
   "metadata": {},
   "source": [
    "Por otro lado, podemos observar que tipo de dato almacena cada columna y cuales tienen datos faltantes"
   ]
  },
  {
   "cell_type": "code",
   "execution_count": null,
   "id": "2ac1232a",
   "metadata": {},
   "outputs": [],
   "source": [
    "hotelsdf.info()"
   ]
  },
  {
   "cell_type": "markdown",
   "id": "65158948",
   "metadata": {},
   "source": [
    "Segun la clasificacion de las variables podemos establecer lo siguiente sobre los datos extraidos del dataframe\n",
    "\n",
    "Variables cuantitativas, entre las cuales podemos encontrar:\n",
    "\n",
    "- lead_time \"time beetwen reservation and arrival\"\n",
    "- arrival_date_year\n",
    "- arrival_date_week_number  \n",
    "- arrival_date_day_of_month\n",
    "- stays_in_weekend_nights\n",
    "- days_in_waiting_list\n",
    "- stays_in_week_nights\n",
    "- adult\n",
    "- children\n",
    "- babies\n",
    "- previous_cancellations\n",
    "- previous_bookings_not_canceled\n",
    "- booking_changes\n",
    "- days_in_waiting_list\n",
    "- adr \"average day rate\"\n",
    "- required_car_parking_spaces\n",
    "- total_of_special_requests\n",
    "- reservation_status_date"
   ]
  },
  {
   "cell_type": "markdown",
   "id": "4cc4b53f",
   "metadata": {},
   "source": [
    "Creamos una lista con todas las variables cuantitativas"
   ]
  },
  {
   "cell_type": "code",
   "execution_count": null,
   "id": "0ebe5e4e",
   "metadata": {},
   "outputs": [],
   "source": [
    "cuantitativas = [\"lead_time\"\n",
    ",\"arrival_year\"\n",
    ",\"arrival_week_number\"\n",
    ",\"arrival_month_day\"\n",
    ",\"weekend_nights_num\"\n",
    ",\"days_in_waiting_list\"\n",
    ",\"week_nights_num\"\n",
    ",\"adult_num\"\n",
    ",\"children_num\"\n",
    ",\"babies_num\"\n",
    ",\"previous_cancellations_num\"\n",
    ",\"previous_bookings_not_canceled_num\"\n",
    ",\"booking_changes_num\"\n",
    ",\"average_daily_rate\"\n",
    ",\"required_car_parking_spaces_num\"\n",
    ",\"special_requests_num\"\n",
    ",\"reservation_status_date\"]\n",
    "\n",
    "# Este if es se usa para evitar problemas de versiones de pandas entre la version local y la presente en Google Collab\n",
    "if (pd.__version__) == \"1.5.2\":\n",
    "    correlaciones = hotelsdf[cuantitativas].corr(numeric_only=True)\n",
    "else:\n",
    "    correlaciones = hotelsdf[cuantitativas].corr()\n",
    "\n",
    "sns.set(style = 'darkgrid')\n",
    "plt.figure( figsize = (12, 9))\n",
    "sns.heatmap(data = correlaciones,annot = True, vmin = -1, vmax =1, fmt='.2f')\n",
    "sns.color_palette(\"mako\", as_cmap=True)\n",
    "plt.show()"
   ]
  },
  {
   "cell_type": "code",
   "execution_count": null,
   "id": "60a520bb",
   "metadata": {},
   "outputs": [],
   "source": [
    "hotelsdf[cuantitativas].describe()"
   ]
  },
  {
   "cell_type": "code",
   "execution_count": null,
   "id": "90d09d99",
   "metadata": {},
   "outputs": [],
   "source": [
    "hotelsdf.isna().sum()"
   ]
  },
  {
   "cell_type": "markdown",
   "id": "3aa504ee",
   "metadata": {},
   "source": [
    "Variables cualitativas"
   ]
  },
  {
   "cell_type": "code",
   "execution_count": null,
   "id": "d6a2abd4",
   "metadata": {},
   "outputs": [],
   "source": [
    "cualitativas = ['hotel_name',\"arrival_month\", 'meal_type', 'country', 'market_segment_type', 'distribution_channel', 'is_repeated_guest', 'reserved_room_type', 'assigned_room_type', 'deposit_type', 'customer_type', 'reservation_status']\n",
    "\n",
    "#no tiene sentido imprimir cosas como id, company, deposite_type\n",
    "\n",
    "for variable in cualitativas:\n",
    "  print(hotelsdf[variable].value_counts().index.tolist())"
   ]
  }
 ],
 "metadata": {
  "jupytext": {
   "formats": "ipynb,md"
  },
  "kernelspec": {
   "display_name": "Python 3 (ipykernel)",
   "language": "python",
   "name": "python3"
  },
  "language_info": {
   "codemirror_mode": {
    "name": "ipython",
    "version": 3
   },
   "file_extension": ".py",
   "mimetype": "text/x-python",
   "name": "python",
   "nbconvert_exporter": "python",
   "pygments_lexer": "ipython3",
   "version": "3.10.10"
  }
 },
 "nbformat": 4,
 "nbformat_minor": 5
}
